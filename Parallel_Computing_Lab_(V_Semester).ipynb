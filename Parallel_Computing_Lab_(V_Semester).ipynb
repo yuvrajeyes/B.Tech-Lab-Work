{
  "nbformat": 4,
  "nbformat_minor": 0,
  "metadata": {
    "colab": {
      "name": "Parallel Computing Lab (V Semester)",
      "provenance": [],
      "collapsed_sections": [],
      "include_colab_link": true
    },
    "kernelspec": {
      "display_name": "Python 3",
      "name": "python3"
    }
  },
  "cells": [
    {
      "cell_type": "markdown",
      "metadata": {
        "id": "view-in-github",
        "colab_type": "text"
      },
      "source": [
        "<a href=\"https://colab.research.google.com/github/yuvrajeyes/B.Tech-Lab-Work/blob/main/Parallel_Computing_Lab_(V_Semester).ipynb\" target=\"_parent\"><img src=\"https://colab.research.google.com/assets/colab-badge.svg\" alt=\"Open In Colab\"/></a>"
      ]
    },
    {
      "cell_type": "markdown",
      "metadata": {
        "id": "QaPIEQjQLyPd"
      },
      "source": [
        "---\n",
        "---\n",
        "### Date: 25/08/2021"
      ]
    },
    {
      "cell_type": "markdown",
      "metadata": {
        "id": "1yFtGhofuknT"
      },
      "source": [
        "---"
      ]
    },
    {
      "cell_type": "markdown",
      "metadata": {
        "id": "vIAX2jUaoP3K"
      },
      "source": [
        "###Object1: Write a program to fetch the dataset from google drive."
      ]
    },
    {
      "cell_type": "code",
      "metadata": {
        "colab": {
          "base_uri": "https://localhost:8080/"
        },
        "id": "uFjfZK5roiiJ",
        "outputId": "a82691f1-db47-4574-9e6a-b800d5c5b43c"
      },
      "source": [
        "from google.colab import drive\n",
        "drive.mount('/content/drive')"
      ],
      "execution_count": null,
      "outputs": [
        {
          "output_type": "stream",
          "name": "stdout",
          "text": [
            "Mounted at /content/drive\n"
          ]
        }
      ]
    },
    {
      "cell_type": "code",
      "metadata": {
        "colab": {
          "base_uri": "https://localhost:8080/",
          "height": 423
        },
        "id": "dZrzOGfLsKK1",
        "outputId": "8178a02d-0006-457a-8252-292032043706"
      },
      "source": [
        "import pandas as pd\n",
        "data1 = pd.read_csv('/content/drive/MyDrive/datasets/spam_ham_dataset.csv')\n",
        "data1"
      ],
      "execution_count": null,
      "outputs": [
        {
          "output_type": "execute_result",
          "data": {
            "text/html": [
              "<div>\n",
              "<style scoped>\n",
              "    .dataframe tbody tr th:only-of-type {\n",
              "        vertical-align: middle;\n",
              "    }\n",
              "\n",
              "    .dataframe tbody tr th {\n",
              "        vertical-align: top;\n",
              "    }\n",
              "\n",
              "    .dataframe thead th {\n",
              "        text-align: right;\n",
              "    }\n",
              "</style>\n",
              "<table border=\"1\" class=\"dataframe\">\n",
              "  <thead>\n",
              "    <tr style=\"text-align: right;\">\n",
              "      <th></th>\n",
              "      <th>Unnamed: 0</th>\n",
              "      <th>label</th>\n",
              "      <th>text</th>\n",
              "      <th>label_num</th>\n",
              "    </tr>\n",
              "  </thead>\n",
              "  <tbody>\n",
              "    <tr>\n",
              "      <th>0</th>\n",
              "      <td>605</td>\n",
              "      <td>ham</td>\n",
              "      <td>Subject: enron methanol ; meter # : 988291\\r\\n...</td>\n",
              "      <td>0</td>\n",
              "    </tr>\n",
              "    <tr>\n",
              "      <th>1</th>\n",
              "      <td>2349</td>\n",
              "      <td>ham</td>\n",
              "      <td>Subject: hpl nom for january 9 , 2001\\r\\n( see...</td>\n",
              "      <td>0</td>\n",
              "    </tr>\n",
              "    <tr>\n",
              "      <th>2</th>\n",
              "      <td>3624</td>\n",
              "      <td>ham</td>\n",
              "      <td>Subject: neon retreat\\r\\nho ho ho , we ' re ar...</td>\n",
              "      <td>0</td>\n",
              "    </tr>\n",
              "    <tr>\n",
              "      <th>3</th>\n",
              "      <td>4685</td>\n",
              "      <td>spam</td>\n",
              "      <td>Subject: photoshop , windows , office . cheap ...</td>\n",
              "      <td>1</td>\n",
              "    </tr>\n",
              "    <tr>\n",
              "      <th>4</th>\n",
              "      <td>2030</td>\n",
              "      <td>ham</td>\n",
              "      <td>Subject: re : indian springs\\r\\nthis deal is t...</td>\n",
              "      <td>0</td>\n",
              "    </tr>\n",
              "    <tr>\n",
              "      <th>...</th>\n",
              "      <td>...</td>\n",
              "      <td>...</td>\n",
              "      <td>...</td>\n",
              "      <td>...</td>\n",
              "    </tr>\n",
              "    <tr>\n",
              "      <th>5166</th>\n",
              "      <td>1518</td>\n",
              "      <td>ham</td>\n",
              "      <td>Subject: put the 10 on the ft\\r\\nthe transport...</td>\n",
              "      <td>0</td>\n",
              "    </tr>\n",
              "    <tr>\n",
              "      <th>5167</th>\n",
              "      <td>404</td>\n",
              "      <td>ham</td>\n",
              "      <td>Subject: 3 / 4 / 2000 and following noms\\r\\nhp...</td>\n",
              "      <td>0</td>\n",
              "    </tr>\n",
              "    <tr>\n",
              "      <th>5168</th>\n",
              "      <td>2933</td>\n",
              "      <td>ham</td>\n",
              "      <td>Subject: calpine daily gas nomination\\r\\n&gt;\\r\\n...</td>\n",
              "      <td>0</td>\n",
              "    </tr>\n",
              "    <tr>\n",
              "      <th>5169</th>\n",
              "      <td>1409</td>\n",
              "      <td>ham</td>\n",
              "      <td>Subject: industrial worksheets for august 2000...</td>\n",
              "      <td>0</td>\n",
              "    </tr>\n",
              "    <tr>\n",
              "      <th>5170</th>\n",
              "      <td>4807</td>\n",
              "      <td>spam</td>\n",
              "      <td>Subject: important online banking alert\\r\\ndea...</td>\n",
              "      <td>1</td>\n",
              "    </tr>\n",
              "  </tbody>\n",
              "</table>\n",
              "<p>5171 rows × 4 columns</p>\n",
              "</div>"
            ],
            "text/plain": [
              "      Unnamed: 0  ... label_num\n",
              "0            605  ...         0\n",
              "1           2349  ...         0\n",
              "2           3624  ...         0\n",
              "3           4685  ...         1\n",
              "4           2030  ...         0\n",
              "...          ...  ...       ...\n",
              "5166        1518  ...         0\n",
              "5167         404  ...         0\n",
              "5168        2933  ...         0\n",
              "5169        1409  ...         0\n",
              "5170        4807  ...         1\n",
              "\n",
              "[5171 rows x 4 columns]"
            ]
          },
          "metadata": {},
          "execution_count": 3
        }
      ]
    },
    {
      "cell_type": "code",
      "metadata": {
        "colab": {
          "base_uri": "https://localhost:8080/",
          "height": 206
        },
        "id": "9kBUDJkksKbX",
        "outputId": "3ee31a96-8883-4134-9760-ebab21a941b9"
      },
      "source": [
        "# Show the top 5 data\n",
        "data1.head()"
      ],
      "execution_count": null,
      "outputs": [
        {
          "output_type": "execute_result",
          "data": {
            "text/html": [
              "<div>\n",
              "<style scoped>\n",
              "    .dataframe tbody tr th:only-of-type {\n",
              "        vertical-align: middle;\n",
              "    }\n",
              "\n",
              "    .dataframe tbody tr th {\n",
              "        vertical-align: top;\n",
              "    }\n",
              "\n",
              "    .dataframe thead th {\n",
              "        text-align: right;\n",
              "    }\n",
              "</style>\n",
              "<table border=\"1\" class=\"dataframe\">\n",
              "  <thead>\n",
              "    <tr style=\"text-align: right;\">\n",
              "      <th></th>\n",
              "      <th>Unnamed: 0</th>\n",
              "      <th>label</th>\n",
              "      <th>text</th>\n",
              "      <th>label_num</th>\n",
              "    </tr>\n",
              "  </thead>\n",
              "  <tbody>\n",
              "    <tr>\n",
              "      <th>0</th>\n",
              "      <td>605</td>\n",
              "      <td>ham</td>\n",
              "      <td>Subject: enron methanol ; meter # : 988291\\r\\n...</td>\n",
              "      <td>0</td>\n",
              "    </tr>\n",
              "    <tr>\n",
              "      <th>1</th>\n",
              "      <td>2349</td>\n",
              "      <td>ham</td>\n",
              "      <td>Subject: hpl nom for january 9 , 2001\\r\\n( see...</td>\n",
              "      <td>0</td>\n",
              "    </tr>\n",
              "    <tr>\n",
              "      <th>2</th>\n",
              "      <td>3624</td>\n",
              "      <td>ham</td>\n",
              "      <td>Subject: neon retreat\\r\\nho ho ho , we ' re ar...</td>\n",
              "      <td>0</td>\n",
              "    </tr>\n",
              "    <tr>\n",
              "      <th>3</th>\n",
              "      <td>4685</td>\n",
              "      <td>spam</td>\n",
              "      <td>Subject: photoshop , windows , office . cheap ...</td>\n",
              "      <td>1</td>\n",
              "    </tr>\n",
              "    <tr>\n",
              "      <th>4</th>\n",
              "      <td>2030</td>\n",
              "      <td>ham</td>\n",
              "      <td>Subject: re : indian springs\\r\\nthis deal is t...</td>\n",
              "      <td>0</td>\n",
              "    </tr>\n",
              "  </tbody>\n",
              "</table>\n",
              "</div>"
            ],
            "text/plain": [
              "   Unnamed: 0  ... label_num\n",
              "0         605  ...         0\n",
              "1        2349  ...         0\n",
              "2        3624  ...         0\n",
              "3        4685  ...         1\n",
              "4        2030  ...         0\n",
              "\n",
              "[5 rows x 4 columns]"
            ]
          },
          "metadata": {},
          "execution_count": 4
        }
      ]
    },
    {
      "cell_type": "code",
      "metadata": {
        "colab": {
          "base_uri": "https://localhost:8080/",
          "height": 206
        },
        "id": "cNsltj3Ns2BZ",
        "outputId": "059e9018-18a5-4f6b-b1a9-6a071abdb835"
      },
      "source": [
        "# show the last 5 data\n",
        "data1.tail()"
      ],
      "execution_count": null,
      "outputs": [
        {
          "output_type": "execute_result",
          "data": {
            "text/html": [
              "<div>\n",
              "<style scoped>\n",
              "    .dataframe tbody tr th:only-of-type {\n",
              "        vertical-align: middle;\n",
              "    }\n",
              "\n",
              "    .dataframe tbody tr th {\n",
              "        vertical-align: top;\n",
              "    }\n",
              "\n",
              "    .dataframe thead th {\n",
              "        text-align: right;\n",
              "    }\n",
              "</style>\n",
              "<table border=\"1\" class=\"dataframe\">\n",
              "  <thead>\n",
              "    <tr style=\"text-align: right;\">\n",
              "      <th></th>\n",
              "      <th>Unnamed: 0</th>\n",
              "      <th>label</th>\n",
              "      <th>text</th>\n",
              "      <th>label_num</th>\n",
              "    </tr>\n",
              "  </thead>\n",
              "  <tbody>\n",
              "    <tr>\n",
              "      <th>5166</th>\n",
              "      <td>1518</td>\n",
              "      <td>ham</td>\n",
              "      <td>Subject: put the 10 on the ft\\r\\nthe transport...</td>\n",
              "      <td>0</td>\n",
              "    </tr>\n",
              "    <tr>\n",
              "      <th>5167</th>\n",
              "      <td>404</td>\n",
              "      <td>ham</td>\n",
              "      <td>Subject: 3 / 4 / 2000 and following noms\\r\\nhp...</td>\n",
              "      <td>0</td>\n",
              "    </tr>\n",
              "    <tr>\n",
              "      <th>5168</th>\n",
              "      <td>2933</td>\n",
              "      <td>ham</td>\n",
              "      <td>Subject: calpine daily gas nomination\\r\\n&gt;\\r\\n...</td>\n",
              "      <td>0</td>\n",
              "    </tr>\n",
              "    <tr>\n",
              "      <th>5169</th>\n",
              "      <td>1409</td>\n",
              "      <td>ham</td>\n",
              "      <td>Subject: industrial worksheets for august 2000...</td>\n",
              "      <td>0</td>\n",
              "    </tr>\n",
              "    <tr>\n",
              "      <th>5170</th>\n",
              "      <td>4807</td>\n",
              "      <td>spam</td>\n",
              "      <td>Subject: important online banking alert\\r\\ndea...</td>\n",
              "      <td>1</td>\n",
              "    </tr>\n",
              "  </tbody>\n",
              "</table>\n",
              "</div>"
            ],
            "text/plain": [
              "      Unnamed: 0  ... label_num\n",
              "5166        1518  ...         0\n",
              "5167         404  ...         0\n",
              "5168        2933  ...         0\n",
              "5169        1409  ...         0\n",
              "5170        4807  ...         1\n",
              "\n",
              "[5 rows x 4 columns]"
            ]
          },
          "metadata": {},
          "execution_count": 5
        }
      ]
    },
    {
      "cell_type": "markdown",
      "metadata": {
        "id": "vmuTmRHk7700"
      },
      "source": [
        "---\n",
        "---\n",
        "### Date: 01/09/2021"
      ]
    },
    {
      "cell_type": "code",
      "metadata": {
        "colab": {
          "base_uri": "https://localhost:8080/"
        },
        "id": "qXNtnimFs2Ld",
        "outputId": "c12742f3-3a36-4029-974e-870101b472c1"
      },
      "source": [
        "len(data1)"
      ],
      "execution_count": null,
      "outputs": [
        {
          "output_type": "execute_result",
          "data": {
            "text/plain": [
              "5171"
            ]
          },
          "metadata": {},
          "execution_count": 6
        }
      ]
    },
    {
      "cell_type": "code",
      "metadata": {
        "colab": {
          "base_uri": "https://localhost:8080/"
        },
        "id": "jWoP1vOt0Q4Q",
        "outputId": "462f507c-13ca-4bde-dbe6-1cc910e0335b"
      },
      "source": [
        "data1.index"
      ],
      "execution_count": null,
      "outputs": [
        {
          "output_type": "execute_result",
          "data": {
            "text/plain": [
              "RangeIndex(start=0, stop=5171, step=1)"
            ]
          },
          "metadata": {},
          "execution_count": 7
        }
      ]
    },
    {
      "cell_type": "code",
      "metadata": {
        "colab": {
          "base_uri": "https://localhost:8080/",
          "height": 174
        },
        "id": "blRyuyc68tyN",
        "outputId": "948c0bfb-8bbf-446b-b721-1574da1dd141"
      },
      "source": [
        "data1[0:4]"
      ],
      "execution_count": null,
      "outputs": [
        {
          "output_type": "execute_result",
          "data": {
            "text/html": [
              "<div>\n",
              "<style scoped>\n",
              "    .dataframe tbody tr th:only-of-type {\n",
              "        vertical-align: middle;\n",
              "    }\n",
              "\n",
              "    .dataframe tbody tr th {\n",
              "        vertical-align: top;\n",
              "    }\n",
              "\n",
              "    .dataframe thead th {\n",
              "        text-align: right;\n",
              "    }\n",
              "</style>\n",
              "<table border=\"1\" class=\"dataframe\">\n",
              "  <thead>\n",
              "    <tr style=\"text-align: right;\">\n",
              "      <th></th>\n",
              "      <th>Unnamed: 0</th>\n",
              "      <th>label</th>\n",
              "      <th>text</th>\n",
              "      <th>label_num</th>\n",
              "    </tr>\n",
              "  </thead>\n",
              "  <tbody>\n",
              "    <tr>\n",
              "      <th>0</th>\n",
              "      <td>605</td>\n",
              "      <td>ham</td>\n",
              "      <td>Subject: enron methanol ; meter # : 988291\\r\\n...</td>\n",
              "      <td>0</td>\n",
              "    </tr>\n",
              "    <tr>\n",
              "      <th>1</th>\n",
              "      <td>2349</td>\n",
              "      <td>ham</td>\n",
              "      <td>Subject: hpl nom for january 9 , 2001\\r\\n( see...</td>\n",
              "      <td>0</td>\n",
              "    </tr>\n",
              "    <tr>\n",
              "      <th>2</th>\n",
              "      <td>3624</td>\n",
              "      <td>ham</td>\n",
              "      <td>Subject: neon retreat\\r\\nho ho ho , we ' re ar...</td>\n",
              "      <td>0</td>\n",
              "    </tr>\n",
              "    <tr>\n",
              "      <th>3</th>\n",
              "      <td>4685</td>\n",
              "      <td>spam</td>\n",
              "      <td>Subject: photoshop , windows , office . cheap ...</td>\n",
              "      <td>1</td>\n",
              "    </tr>\n",
              "  </tbody>\n",
              "</table>\n",
              "</div>"
            ],
            "text/plain": [
              "   Unnamed: 0  ... label_num\n",
              "0         605  ...         0\n",
              "1        2349  ...         0\n",
              "2        3624  ...         0\n",
              "3        4685  ...         1\n",
              "\n",
              "[4 rows x 4 columns]"
            ]
          },
          "metadata": {},
          "execution_count": 8
        }
      ]
    },
    {
      "cell_type": "code",
      "metadata": {
        "colab": {
          "base_uri": "https://localhost:8080/"
        },
        "id": "9kZRUbqE8tZF",
        "outputId": "6c1121ce-9c94-48b6-f0f9-292d86f30e6b"
      },
      "source": [
        "type(data1)"
      ],
      "execution_count": null,
      "outputs": [
        {
          "output_type": "execute_result",
          "data": {
            "text/plain": [
              "pandas.core.frame.DataFrame"
            ]
          },
          "metadata": {},
          "execution_count": 9
        }
      ]
    },
    {
      "cell_type": "code",
      "metadata": {
        "colab": {
          "base_uri": "https://localhost:8080/"
        },
        "id": "TRMrPlO27XkV",
        "outputId": "1847255b-8d64-4420-ace6-ac4b02557d28"
      },
      "source": [
        "# datatypes of different columns\n",
        "data1.dtypes"
      ],
      "execution_count": null,
      "outputs": [
        {
          "output_type": "execute_result",
          "data": {
            "text/plain": [
              "Unnamed: 0     int64\n",
              "label         object\n",
              "text          object\n",
              "label_num      int64\n",
              "dtype: object"
            ]
          },
          "metadata": {},
          "execution_count": 10
        }
      ]
    },
    {
      "cell_type": "markdown",
      "metadata": {
        "id": "kSyQZcUez23P"
      },
      "source": [
        "### **Class assignment 1:**\n",
        "\n",
        "### Object2:\n",
        "---\n",
        "\n",
        "\n",
        "##Q1. What is the pandas library?\n",
        "\n",
        "Ans: pandas is a popular Python-based data analysis toolkit which can be imported using `import pandas as pd`. It presents a diverse range of utilities, ranging from parsing multiple file formats to converting an entire data table into a NumPy matrix array. This makes pandas a trusted ally in data science and machine learning. It \n",
        "\n",
        "Similar to NumPy, pandas deals primarily with data in 1-D and 2-D arrays; however, pandas handles the two differently.\n",
        "\n",
        "\n",
        "---\n",
        "\n",
        "\n",
        "##Q2. Explian all the data types in python?\n",
        "\n",
        "Ans:  Every value in Python has a datatype. Since everything is an object in Python programming, data types are actually classes and variables are instance (object) of these classes.\n",
        "\n",
        "These are the basic built-in datatypes in pythn.\n",
        "> Text Type:\tstr\n",
        "\n",
        ">Numeric Types:\tint, float, complex\n",
        "\n",
        ">Sequence Types:\tlist, tuple, range\n",
        "\n",
        ">Mapping Type:\tdict\n",
        "\n",
        ">Set Types:\tset, frozenset\n",
        "\n",
        ">Boolean Type:\tbool\n",
        "\n",
        ">Binary Types:\tbytes, bytearray, memoryview\n",
        "\n",
        "Other datatypes in python are:\n",
        "> numpy.array, pandas.Series, pandas.DataFrame. Tensors, etc.\n",
        "\n",
        "---\n",
        "\n",
        "##Q3. What is the TPU? explian.\n",
        "\n",
        "Ans: Tensor Processing Units (TPUs) are Google's custom-developed application-specific integrated circuits (ASICs) used to accelerate machine learning workloads. TPUs are designed from the ground up with the benefit of Google's deep experience and leadership in machine learning. Cloud TPUs are available in a base configuration with 8 cores and also in larger configurations called “TPU pods” of up to 2048 cores. The extra hardware can be used to accelerate training by increasing the training batch size.\n",
        "###Advantages of TPUs:\n",
        "Cloud TPU resources accelerate the performance of linear algebra computation, which is used heavily in machine learning applications. TPUs minimize the time-to-accuracy when you train large, complex neural network models. Models that previously took weeks to train on other hardware platforms can converge in hours on TPUs.\n",
        "\n",
        "---\n"
      ]
    },
    {
      "cell_type": "markdown",
      "metadata": {
        "id": "Uo3j1fcj6pTm"
      },
      "source": [
        "###Q4. Write a program to create series with scaler values by using the pandas library?"
      ]
    },
    {
      "cell_type": "code",
      "metadata": {
        "colab": {
          "base_uri": "https://localhost:8080/"
        },
        "id": "t0LUZgfh0U1V",
        "outputId": "f2f9a879-8a0b-42db-c9f9-9862013c32f9"
      },
      "source": [
        "import pandas as pd\n",
        "import numpy as np\n",
        "\n",
        "s = pd.Series(dtype='float64')\n",
        "print(\"Empty pandas series:\") \n",
        "print(s)\n",
        "\n",
        "ser = pd.Series([0, 10, 20, 30, 40, 50, 60, 70, 80, 90])\n",
        "print('\\npandas Series:')\n",
        "print(s)\n",
        "\n",
        "# A series from a numpy array\n",
        "arr = np.array([0, 10, 20, 30, 40, 50])\n",
        "s = pd.Series(arr, dtype = np.double)\n",
        "print('\\nSeries using numpy array:')\n",
        "print(s)\n",
        "\n",
        "s = pd.Series([[15, 4], [89, 23.5], [21, 22]])\n",
        "print('\\npandas series object:')\n",
        "print(s)"
      ],
      "execution_count": null,
      "outputs": [
        {
          "output_type": "stream",
          "name": "stdout",
          "text": [
            "Empty pandas series:\n",
            "Series([], dtype: float64)\n",
            "\n",
            "pandas Series:\n",
            "Series([], dtype: float64)\n",
            "\n",
            "Series using numpy array:\n",
            "0     0.0\n",
            "1    10.0\n",
            "2    20.0\n",
            "3    30.0\n",
            "4    40.0\n",
            "5    50.0\n",
            "dtype: float64\n",
            "\n",
            "pandas series object:\n",
            "0       [15, 4]\n",
            "1    [89, 23.5]\n",
            "2      [21, 22]\n",
            "dtype: object\n"
          ]
        }
      ]
    },
    {
      "cell_type": "markdown",
      "metadata": {
        "id": "iZwojOs5oxdH"
      },
      "source": [
        "###Object3: Analysing Covid-19 Dataset"
      ]
    },
    {
      "cell_type": "code",
      "metadata": {
        "colab": {
          "base_uri": "https://localhost:8080/",
          "height": 423
        },
        "id": "sXI7Dh6pAwL7",
        "outputId": "2ec76aaa-ef32-4d49-b90c-6a312d67b9a2"
      },
      "source": [
        "import pandas as pd\n",
        "\n",
        "data2 = pd.read_csv('/content/drive/MyDrive/datasets/covid_19_clean_complete.csv - covid_19_clean_complete.csv')\n",
        "data2"
      ],
      "execution_count": null,
      "outputs": [
        {
          "output_type": "execute_result",
          "data": {
            "text/html": [
              "<div>\n",
              "<style scoped>\n",
              "    .dataframe tbody tr th:only-of-type {\n",
              "        vertical-align: middle;\n",
              "    }\n",
              "\n",
              "    .dataframe tbody tr th {\n",
              "        vertical-align: top;\n",
              "    }\n",
              "\n",
              "    .dataframe thead th {\n",
              "        text-align: right;\n",
              "    }\n",
              "</style>\n",
              "<table border=\"1\" class=\"dataframe\">\n",
              "  <thead>\n",
              "    <tr style=\"text-align: right;\">\n",
              "      <th></th>\n",
              "      <th>Province/State</th>\n",
              "      <th>Country/Region</th>\n",
              "      <th>Lat</th>\n",
              "      <th>Long</th>\n",
              "      <th>Date</th>\n",
              "      <th>Confirmed</th>\n",
              "      <th>Deaths</th>\n",
              "      <th>Recovered</th>\n",
              "    </tr>\n",
              "  </thead>\n",
              "  <tbody>\n",
              "    <tr>\n",
              "      <th>0</th>\n",
              "      <td>NaN</td>\n",
              "      <td>Afghanistan</td>\n",
              "      <td>33.000000</td>\n",
              "      <td>65.000000</td>\n",
              "      <td>1/22/20</td>\n",
              "      <td>0.0</td>\n",
              "      <td>0</td>\n",
              "      <td>0</td>\n",
              "    </tr>\n",
              "    <tr>\n",
              "      <th>1</th>\n",
              "      <td>NaN</td>\n",
              "      <td>Albania</td>\n",
              "      <td>41.153300</td>\n",
              "      <td>20.168300</td>\n",
              "      <td>1/22/20</td>\n",
              "      <td>0.0</td>\n",
              "      <td>0</td>\n",
              "      <td>0</td>\n",
              "    </tr>\n",
              "    <tr>\n",
              "      <th>2</th>\n",
              "      <td>NaN</td>\n",
              "      <td>Algeria</td>\n",
              "      <td>28.033900</td>\n",
              "      <td>1.659600</td>\n",
              "      <td>1/22/20</td>\n",
              "      <td>0.0</td>\n",
              "      <td>0</td>\n",
              "      <td>0</td>\n",
              "    </tr>\n",
              "    <tr>\n",
              "      <th>3</th>\n",
              "      <td>NaN</td>\n",
              "      <td>Andorra</td>\n",
              "      <td>42.506300</td>\n",
              "      <td>1.521800</td>\n",
              "      <td>1/22/20</td>\n",
              "      <td>0.0</td>\n",
              "      <td>0</td>\n",
              "      <td>0</td>\n",
              "    </tr>\n",
              "    <tr>\n",
              "      <th>4</th>\n",
              "      <td>NaN</td>\n",
              "      <td>Angola</td>\n",
              "      <td>-11.202700</td>\n",
              "      <td>17.873900</td>\n",
              "      <td>1/22/20</td>\n",
              "      <td>0.0</td>\n",
              "      <td>0</td>\n",
              "      <td>0</td>\n",
              "    </tr>\n",
              "    <tr>\n",
              "      <th>...</th>\n",
              "      <td>...</td>\n",
              "      <td>...</td>\n",
              "      <td>...</td>\n",
              "      <td>...</td>\n",
              "      <td>...</td>\n",
              "      <td>...</td>\n",
              "      <td>...</td>\n",
              "      <td>...</td>\n",
              "    </tr>\n",
              "    <tr>\n",
              "      <th>24361</th>\n",
              "      <td>Saint Pierre and Miquelon</td>\n",
              "      <td>France</td>\n",
              "      <td>46.885200</td>\n",
              "      <td>-56.315900</td>\n",
              "      <td>4/23/20</td>\n",
              "      <td>1.0</td>\n",
              "      <td>0</td>\n",
              "      <td>0</td>\n",
              "    </tr>\n",
              "    <tr>\n",
              "      <th>24362</th>\n",
              "      <td>NaN</td>\n",
              "      <td>South Sudan</td>\n",
              "      <td>6.877000</td>\n",
              "      <td>31.307000</td>\n",
              "      <td>4/23/20</td>\n",
              "      <td>5.0</td>\n",
              "      <td>0</td>\n",
              "      <td>0</td>\n",
              "    </tr>\n",
              "    <tr>\n",
              "      <th>24363</th>\n",
              "      <td>NaN</td>\n",
              "      <td>Western Sahara</td>\n",
              "      <td>24.215500</td>\n",
              "      <td>-12.885800</td>\n",
              "      <td>4/23/20</td>\n",
              "      <td>6.0</td>\n",
              "      <td>0</td>\n",
              "      <td>5</td>\n",
              "    </tr>\n",
              "    <tr>\n",
              "      <th>24364</th>\n",
              "      <td>NaN</td>\n",
              "      <td>Sao Tome and Principe</td>\n",
              "      <td>0.186360</td>\n",
              "      <td>6.613081</td>\n",
              "      <td>4/23/20</td>\n",
              "      <td>4.0</td>\n",
              "      <td>0</td>\n",
              "      <td>0</td>\n",
              "    </tr>\n",
              "    <tr>\n",
              "      <th>24365</th>\n",
              "      <td>NaN</td>\n",
              "      <td>Yemen</td>\n",
              "      <td>15.552727</td>\n",
              "      <td>48.516388</td>\n",
              "      <td>4/23/20</td>\n",
              "      <td>1.0</td>\n",
              "      <td>0</td>\n",
              "      <td>0</td>\n",
              "    </tr>\n",
              "  </tbody>\n",
              "</table>\n",
              "<p>24366 rows × 8 columns</p>\n",
              "</div>"
            ],
            "text/plain": [
              "                  Province/State         Country/Region  ...  Deaths  Recovered\n",
              "0                            NaN            Afghanistan  ...       0          0\n",
              "1                            NaN                Albania  ...       0          0\n",
              "2                            NaN                Algeria  ...       0          0\n",
              "3                            NaN                Andorra  ...       0          0\n",
              "4                            NaN                 Angola  ...       0          0\n",
              "...                          ...                    ...  ...     ...        ...\n",
              "24361  Saint Pierre and Miquelon                 France  ...       0          0\n",
              "24362                        NaN            South Sudan  ...       0          0\n",
              "24363                        NaN         Western Sahara  ...       0          5\n",
              "24364                        NaN  Sao Tome and Principe  ...       0          0\n",
              "24365                        NaN                  Yemen  ...       0          0\n",
              "\n",
              "[24366 rows x 8 columns]"
            ]
          },
          "metadata": {},
          "execution_count": 12
        }
      ]
    },
    {
      "cell_type": "code",
      "metadata": {
        "colab": {
          "base_uri": "https://localhost:8080/",
          "height": 206
        },
        "id": "G7s7aCQODFsI",
        "outputId": "e180ab32-a84b-452e-8ef8-621f9498059c"
      },
      "source": [
        "data2.head()"
      ],
      "execution_count": null,
      "outputs": [
        {
          "output_type": "execute_result",
          "data": {
            "text/html": [
              "<div>\n",
              "<style scoped>\n",
              "    .dataframe tbody tr th:only-of-type {\n",
              "        vertical-align: middle;\n",
              "    }\n",
              "\n",
              "    .dataframe tbody tr th {\n",
              "        vertical-align: top;\n",
              "    }\n",
              "\n",
              "    .dataframe thead th {\n",
              "        text-align: right;\n",
              "    }\n",
              "</style>\n",
              "<table border=\"1\" class=\"dataframe\">\n",
              "  <thead>\n",
              "    <tr style=\"text-align: right;\">\n",
              "      <th></th>\n",
              "      <th>Province/State</th>\n",
              "      <th>Country/Region</th>\n",
              "      <th>Lat</th>\n",
              "      <th>Long</th>\n",
              "      <th>Date</th>\n",
              "      <th>Confirmed</th>\n",
              "      <th>Deaths</th>\n",
              "      <th>Recovered</th>\n",
              "    </tr>\n",
              "  </thead>\n",
              "  <tbody>\n",
              "    <tr>\n",
              "      <th>0</th>\n",
              "      <td>NaN</td>\n",
              "      <td>Afghanistan</td>\n",
              "      <td>33.0000</td>\n",
              "      <td>65.0000</td>\n",
              "      <td>1/22/20</td>\n",
              "      <td>0.0</td>\n",
              "      <td>0</td>\n",
              "      <td>0</td>\n",
              "    </tr>\n",
              "    <tr>\n",
              "      <th>1</th>\n",
              "      <td>NaN</td>\n",
              "      <td>Albania</td>\n",
              "      <td>41.1533</td>\n",
              "      <td>20.1683</td>\n",
              "      <td>1/22/20</td>\n",
              "      <td>0.0</td>\n",
              "      <td>0</td>\n",
              "      <td>0</td>\n",
              "    </tr>\n",
              "    <tr>\n",
              "      <th>2</th>\n",
              "      <td>NaN</td>\n",
              "      <td>Algeria</td>\n",
              "      <td>28.0339</td>\n",
              "      <td>1.6596</td>\n",
              "      <td>1/22/20</td>\n",
              "      <td>0.0</td>\n",
              "      <td>0</td>\n",
              "      <td>0</td>\n",
              "    </tr>\n",
              "    <tr>\n",
              "      <th>3</th>\n",
              "      <td>NaN</td>\n",
              "      <td>Andorra</td>\n",
              "      <td>42.5063</td>\n",
              "      <td>1.5218</td>\n",
              "      <td>1/22/20</td>\n",
              "      <td>0.0</td>\n",
              "      <td>0</td>\n",
              "      <td>0</td>\n",
              "    </tr>\n",
              "    <tr>\n",
              "      <th>4</th>\n",
              "      <td>NaN</td>\n",
              "      <td>Angola</td>\n",
              "      <td>-11.2027</td>\n",
              "      <td>17.8739</td>\n",
              "      <td>1/22/20</td>\n",
              "      <td>0.0</td>\n",
              "      <td>0</td>\n",
              "      <td>0</td>\n",
              "    </tr>\n",
              "  </tbody>\n",
              "</table>\n",
              "</div>"
            ],
            "text/plain": [
              "  Province/State Country/Region      Lat  ...  Confirmed Deaths  Recovered\n",
              "0            NaN    Afghanistan  33.0000  ...        0.0      0          0\n",
              "1            NaN        Albania  41.1533  ...        0.0      0          0\n",
              "2            NaN        Algeria  28.0339  ...        0.0      0          0\n",
              "3            NaN        Andorra  42.5063  ...        0.0      0          0\n",
              "4            NaN         Angola -11.2027  ...        0.0      0          0\n",
              "\n",
              "[5 rows x 8 columns]"
            ]
          },
          "metadata": {},
          "execution_count": 13
        }
      ]
    },
    {
      "cell_type": "code",
      "metadata": {
        "colab": {
          "base_uri": "https://localhost:8080/",
          "height": 206
        },
        "id": "hI3DFqmFDFpJ",
        "outputId": "6042d366-38d6-409c-9e12-362488f8fbe5"
      },
      "source": [
        "data2.tail()"
      ],
      "execution_count": null,
      "outputs": [
        {
          "output_type": "execute_result",
          "data": {
            "text/html": [
              "<div>\n",
              "<style scoped>\n",
              "    .dataframe tbody tr th:only-of-type {\n",
              "        vertical-align: middle;\n",
              "    }\n",
              "\n",
              "    .dataframe tbody tr th {\n",
              "        vertical-align: top;\n",
              "    }\n",
              "\n",
              "    .dataframe thead th {\n",
              "        text-align: right;\n",
              "    }\n",
              "</style>\n",
              "<table border=\"1\" class=\"dataframe\">\n",
              "  <thead>\n",
              "    <tr style=\"text-align: right;\">\n",
              "      <th></th>\n",
              "      <th>Province/State</th>\n",
              "      <th>Country/Region</th>\n",
              "      <th>Lat</th>\n",
              "      <th>Long</th>\n",
              "      <th>Date</th>\n",
              "      <th>Confirmed</th>\n",
              "      <th>Deaths</th>\n",
              "      <th>Recovered</th>\n",
              "    </tr>\n",
              "  </thead>\n",
              "  <tbody>\n",
              "    <tr>\n",
              "      <th>24361</th>\n",
              "      <td>Saint Pierre and Miquelon</td>\n",
              "      <td>France</td>\n",
              "      <td>46.885200</td>\n",
              "      <td>-56.315900</td>\n",
              "      <td>4/23/20</td>\n",
              "      <td>1.0</td>\n",
              "      <td>0</td>\n",
              "      <td>0</td>\n",
              "    </tr>\n",
              "    <tr>\n",
              "      <th>24362</th>\n",
              "      <td>NaN</td>\n",
              "      <td>South Sudan</td>\n",
              "      <td>6.877000</td>\n",
              "      <td>31.307000</td>\n",
              "      <td>4/23/20</td>\n",
              "      <td>5.0</td>\n",
              "      <td>0</td>\n",
              "      <td>0</td>\n",
              "    </tr>\n",
              "    <tr>\n",
              "      <th>24363</th>\n",
              "      <td>NaN</td>\n",
              "      <td>Western Sahara</td>\n",
              "      <td>24.215500</td>\n",
              "      <td>-12.885800</td>\n",
              "      <td>4/23/20</td>\n",
              "      <td>6.0</td>\n",
              "      <td>0</td>\n",
              "      <td>5</td>\n",
              "    </tr>\n",
              "    <tr>\n",
              "      <th>24364</th>\n",
              "      <td>NaN</td>\n",
              "      <td>Sao Tome and Principe</td>\n",
              "      <td>0.186360</td>\n",
              "      <td>6.613081</td>\n",
              "      <td>4/23/20</td>\n",
              "      <td>4.0</td>\n",
              "      <td>0</td>\n",
              "      <td>0</td>\n",
              "    </tr>\n",
              "    <tr>\n",
              "      <th>24365</th>\n",
              "      <td>NaN</td>\n",
              "      <td>Yemen</td>\n",
              "      <td>15.552727</td>\n",
              "      <td>48.516388</td>\n",
              "      <td>4/23/20</td>\n",
              "      <td>1.0</td>\n",
              "      <td>0</td>\n",
              "      <td>0</td>\n",
              "    </tr>\n",
              "  </tbody>\n",
              "</table>\n",
              "</div>"
            ],
            "text/plain": [
              "                  Province/State         Country/Region  ...  Deaths  Recovered\n",
              "24361  Saint Pierre and Miquelon                 France  ...       0          0\n",
              "24362                        NaN            South Sudan  ...       0          0\n",
              "24363                        NaN         Western Sahara  ...       0          5\n",
              "24364                        NaN  Sao Tome and Principe  ...       0          0\n",
              "24365                        NaN                  Yemen  ...       0          0\n",
              "\n",
              "[5 rows x 8 columns]"
            ]
          },
          "metadata": {},
          "execution_count": 14
        }
      ]
    },
    {
      "cell_type": "code",
      "metadata": {
        "colab": {
          "base_uri": "https://localhost:8080/",
          "height": 206
        },
        "id": "9SIPigpt70Hh",
        "outputId": "e0622bbe-7937-4b0a-a5c6-b23a0337ead8"
      },
      "source": [
        "# shows 5 data rows from data2 by randomness\n",
        "data2.sample(5)"
      ],
      "execution_count": null,
      "outputs": [
        {
          "output_type": "execute_result",
          "data": {
            "text/html": [
              "<div>\n",
              "<style scoped>\n",
              "    .dataframe tbody tr th:only-of-type {\n",
              "        vertical-align: middle;\n",
              "    }\n",
              "\n",
              "    .dataframe tbody tr th {\n",
              "        vertical-align: top;\n",
              "    }\n",
              "\n",
              "    .dataframe thead th {\n",
              "        text-align: right;\n",
              "    }\n",
              "</style>\n",
              "<table border=\"1\" class=\"dataframe\">\n",
              "  <thead>\n",
              "    <tr style=\"text-align: right;\">\n",
              "      <th></th>\n",
              "      <th>Province/State</th>\n",
              "      <th>Country/Region</th>\n",
              "      <th>Lat</th>\n",
              "      <th>Long</th>\n",
              "      <th>Date</th>\n",
              "      <th>Confirmed</th>\n",
              "      <th>Deaths</th>\n",
              "      <th>Recovered</th>\n",
              "    </tr>\n",
              "  </thead>\n",
              "  <tbody>\n",
              "    <tr>\n",
              "      <th>14570</th>\n",
              "      <td>NaN</td>\n",
              "      <td>Monaco</td>\n",
              "      <td>43.7333</td>\n",
              "      <td>7.4167</td>\n",
              "      <td>3/17/20</td>\n",
              "      <td>7.0</td>\n",
              "      <td>0</td>\n",
              "      <td>0</td>\n",
              "    </tr>\n",
              "    <tr>\n",
              "      <th>3250</th>\n",
              "      <td>NaN</td>\n",
              "      <td>Finland</td>\n",
              "      <td>64.0000</td>\n",
              "      <td>26.0000</td>\n",
              "      <td>2/3/20</td>\n",
              "      <td>1.0</td>\n",
              "      <td>0</td>\n",
              "      <td>0</td>\n",
              "    </tr>\n",
              "    <tr>\n",
              "      <th>17292</th>\n",
              "      <td>NaN</td>\n",
              "      <td>Afghanistan</td>\n",
              "      <td>33.0000</td>\n",
              "      <td>65.0000</td>\n",
              "      <td>3/28/20</td>\n",
              "      <td>110.0</td>\n",
              "      <td>4</td>\n",
              "      <td>2</td>\n",
              "    </tr>\n",
              "    <tr>\n",
              "      <th>16563</th>\n",
              "      <td>Hainan</td>\n",
              "      <td>China</td>\n",
              "      <td>19.1959</td>\n",
              "      <td>109.7453</td>\n",
              "      <td>3/25/20</td>\n",
              "      <td>168.0</td>\n",
              "      <td>6</td>\n",
              "      <td>168</td>\n",
              "    </tr>\n",
              "    <tr>\n",
              "      <th>906</th>\n",
              "      <td>NaN</td>\n",
              "      <td>Germany</td>\n",
              "      <td>51.0000</td>\n",
              "      <td>9.0000</td>\n",
              "      <td>1/25/20</td>\n",
              "      <td>0.0</td>\n",
              "      <td>0</td>\n",
              "      <td>0</td>\n",
              "    </tr>\n",
              "  </tbody>\n",
              "</table>\n",
              "</div>"
            ],
            "text/plain": [
              "      Province/State Country/Region      Lat  ...  Confirmed Deaths  Recovered\n",
              "14570            NaN         Monaco  43.7333  ...        7.0      0          0\n",
              "3250             NaN        Finland  64.0000  ...        1.0      0          0\n",
              "17292            NaN    Afghanistan  33.0000  ...      110.0      4          2\n",
              "16563         Hainan          China  19.1959  ...      168.0      6        168\n",
              "906              NaN        Germany  51.0000  ...        0.0      0          0\n",
              "\n",
              "[5 rows x 8 columns]"
            ]
          },
          "metadata": {},
          "execution_count": 17
        }
      ]
    },
    {
      "cell_type": "code",
      "metadata": {
        "colab": {
          "base_uri": "https://localhost:8080/"
        },
        "id": "HPDHghMvDFlr",
        "outputId": "609adc68-8b75-4c66-b2e0-cfe4ddfc505f"
      },
      "source": [
        "# length of the data2\n",
        "len(data2)"
      ],
      "execution_count": null,
      "outputs": [
        {
          "output_type": "execute_result",
          "data": {
            "text/plain": [
              "24366"
            ]
          },
          "metadata": {},
          "execution_count": 18
        }
      ]
    },
    {
      "cell_type": "code",
      "metadata": {
        "colab": {
          "base_uri": "https://localhost:8080/"
        },
        "id": "-lmFh4QvDSGw",
        "outputId": "8c1e307c-d715-4767-cc53-76545d278f72"
      },
      "source": [
        "type(data2)"
      ],
      "execution_count": null,
      "outputs": [
        {
          "output_type": "execute_result",
          "data": {
            "text/plain": [
              "pandas.core.frame.DataFrame"
            ]
          },
          "metadata": {},
          "execution_count": 16
        }
      ]
    },
    {
      "cell_type": "code",
      "metadata": {
        "colab": {
          "base_uri": "https://localhost:8080/"
        },
        "id": "bM4G5c1y8GS3",
        "outputId": "b7e70b82-bfa0-4e4e-c3fe-a6cdc7bcb302"
      },
      "source": [
        "# datatypes of different columns\n",
        "data2.dtypes"
      ],
      "execution_count": null,
      "outputs": [
        {
          "output_type": "execute_result",
          "data": {
            "text/plain": [
              "Province/State     object\n",
              "Country/Region     object\n",
              "Lat               float64\n",
              "Long              float64\n",
              "Date               object\n",
              "Confirmed         float64\n",
              "Deaths              int64\n",
              "Recovered           int64\n",
              "dtype: object"
            ]
          },
          "metadata": {},
          "execution_count": 19
        }
      ]
    },
    {
      "cell_type": "code",
      "metadata": {
        "colab": {
          "base_uri": "https://localhost:8080/",
          "height": 238
        },
        "id": "1S-l6Nx8DSDW",
        "outputId": "5a4e3c25-365e-4e25-eaa7-f23a6bc1c4fb"
      },
      "source": [
        "# shows rows from index 1 to 6\n",
        "data2[1:7]"
      ],
      "execution_count": null,
      "outputs": [
        {
          "output_type": "execute_result",
          "data": {
            "text/html": [
              "<div>\n",
              "<style scoped>\n",
              "    .dataframe tbody tr th:only-of-type {\n",
              "        vertical-align: middle;\n",
              "    }\n",
              "\n",
              "    .dataframe tbody tr th {\n",
              "        vertical-align: top;\n",
              "    }\n",
              "\n",
              "    .dataframe thead th {\n",
              "        text-align: right;\n",
              "    }\n",
              "</style>\n",
              "<table border=\"1\" class=\"dataframe\">\n",
              "  <thead>\n",
              "    <tr style=\"text-align: right;\">\n",
              "      <th></th>\n",
              "      <th>Province/State</th>\n",
              "      <th>Country/Region</th>\n",
              "      <th>Lat</th>\n",
              "      <th>Long</th>\n",
              "      <th>Date</th>\n",
              "      <th>Confirmed</th>\n",
              "      <th>Deaths</th>\n",
              "      <th>Recovered</th>\n",
              "    </tr>\n",
              "  </thead>\n",
              "  <tbody>\n",
              "    <tr>\n",
              "      <th>1</th>\n",
              "      <td>NaN</td>\n",
              "      <td>Albania</td>\n",
              "      <td>41.1533</td>\n",
              "      <td>20.1683</td>\n",
              "      <td>1/22/20</td>\n",
              "      <td>0.0</td>\n",
              "      <td>0</td>\n",
              "      <td>0</td>\n",
              "    </tr>\n",
              "    <tr>\n",
              "      <th>2</th>\n",
              "      <td>NaN</td>\n",
              "      <td>Algeria</td>\n",
              "      <td>28.0339</td>\n",
              "      <td>1.6596</td>\n",
              "      <td>1/22/20</td>\n",
              "      <td>0.0</td>\n",
              "      <td>0</td>\n",
              "      <td>0</td>\n",
              "    </tr>\n",
              "    <tr>\n",
              "      <th>3</th>\n",
              "      <td>NaN</td>\n",
              "      <td>Andorra</td>\n",
              "      <td>42.5063</td>\n",
              "      <td>1.5218</td>\n",
              "      <td>1/22/20</td>\n",
              "      <td>0.0</td>\n",
              "      <td>0</td>\n",
              "      <td>0</td>\n",
              "    </tr>\n",
              "    <tr>\n",
              "      <th>4</th>\n",
              "      <td>NaN</td>\n",
              "      <td>Angola</td>\n",
              "      <td>-11.2027</td>\n",
              "      <td>17.8739</td>\n",
              "      <td>1/22/20</td>\n",
              "      <td>0.0</td>\n",
              "      <td>0</td>\n",
              "      <td>0</td>\n",
              "    </tr>\n",
              "    <tr>\n",
              "      <th>5</th>\n",
              "      <td>NaN</td>\n",
              "      <td>Antigua and Barbuda</td>\n",
              "      <td>17.0608</td>\n",
              "      <td>-61.7964</td>\n",
              "      <td>1/22/20</td>\n",
              "      <td>0.0</td>\n",
              "      <td>0</td>\n",
              "      <td>0</td>\n",
              "    </tr>\n",
              "    <tr>\n",
              "      <th>6</th>\n",
              "      <td>NaN</td>\n",
              "      <td>Argentina</td>\n",
              "      <td>-38.4161</td>\n",
              "      <td>-63.6167</td>\n",
              "      <td>1/22/20</td>\n",
              "      <td>0.0</td>\n",
              "      <td>0</td>\n",
              "      <td>0</td>\n",
              "    </tr>\n",
              "  </tbody>\n",
              "</table>\n",
              "</div>"
            ],
            "text/plain": [
              "  Province/State       Country/Region      Lat  ...  Confirmed Deaths  Recovered\n",
              "1            NaN              Albania  41.1533  ...        0.0      0          0\n",
              "2            NaN              Algeria  28.0339  ...        0.0      0          0\n",
              "3            NaN              Andorra  42.5063  ...        0.0      0          0\n",
              "4            NaN               Angola -11.2027  ...        0.0      0          0\n",
              "5            NaN  Antigua and Barbuda  17.0608  ...        0.0      0          0\n",
              "6            NaN            Argentina -38.4161  ...        0.0      0          0\n",
              "\n",
              "[6 rows x 8 columns]"
            ]
          },
          "metadata": {},
          "execution_count": 20
        }
      ]
    },
    {
      "cell_type": "code",
      "metadata": {
        "colab": {
          "base_uri": "https://localhost:8080/"
        },
        "id": "nEDf0QKXDR5v",
        "outputId": "a573636a-7dae-4c7c-bdc9-1ea182770131"
      },
      "source": [
        "# groups the data accoriding to Date column, add the value of Confirmed column on every Date and reset index which will start from 0\n",
        "confirmed = data2.groupby('Date')['Confirmed'].sum().reset_index()\n",
        "# chech datatypes of confimed dataframe\n",
        "confirmed.dtypes"
      ],
      "execution_count": null,
      "outputs": [
        {
          "output_type": "execute_result",
          "data": {
            "text/plain": [
              "Date          object\n",
              "Confirmed    float64\n",
              "dtype: object"
            ]
          },
          "metadata": {},
          "execution_count": 21
        }
      ]
    },
    {
      "cell_type": "code",
      "metadata": {
        "colab": {
          "base_uri": "https://localhost:8080/",
          "height": 423
        },
        "id": "fWXlWrgOYRQj",
        "outputId": "3609af7f-dc40-4e9c-b03e-e1f1eabd6b01"
      },
      "source": [
        "# show confirmed dataframe (we will see that there is 93 rows starting from Date 22nd Jan 2020 to 9th April 2020)\n",
        "confirmed"
      ],
      "execution_count": null,
      "outputs": [
        {
          "output_type": "execute_result",
          "data": {
            "text/html": [
              "<div>\n",
              "<style scoped>\n",
              "    .dataframe tbody tr th:only-of-type {\n",
              "        vertical-align: middle;\n",
              "    }\n",
              "\n",
              "    .dataframe tbody tr th {\n",
              "        vertical-align: top;\n",
              "    }\n",
              "\n",
              "    .dataframe thead th {\n",
              "        text-align: right;\n",
              "    }\n",
              "</style>\n",
              "<table border=\"1\" class=\"dataframe\">\n",
              "  <thead>\n",
              "    <tr style=\"text-align: right;\">\n",
              "      <th></th>\n",
              "      <th>Date</th>\n",
              "      <th>Confirmed</th>\n",
              "    </tr>\n",
              "  </thead>\n",
              "  <tbody>\n",
              "    <tr>\n",
              "      <th>0</th>\n",
              "      <td>1/22/20</td>\n",
              "      <td>555.0</td>\n",
              "    </tr>\n",
              "    <tr>\n",
              "      <th>1</th>\n",
              "      <td>1/23/20</td>\n",
              "      <td>654.0</td>\n",
              "    </tr>\n",
              "    <tr>\n",
              "      <th>2</th>\n",
              "      <td>1/24/20</td>\n",
              "      <td>941.0</td>\n",
              "    </tr>\n",
              "    <tr>\n",
              "      <th>3</th>\n",
              "      <td>1/25/20</td>\n",
              "      <td>1434.0</td>\n",
              "    </tr>\n",
              "    <tr>\n",
              "      <th>4</th>\n",
              "      <td>1/26/20</td>\n",
              "      <td>2118.0</td>\n",
              "    </tr>\n",
              "    <tr>\n",
              "      <th>...</th>\n",
              "      <td>...</td>\n",
              "      <td>...</td>\n",
              "    </tr>\n",
              "    <tr>\n",
              "      <th>88</th>\n",
              "      <td>4/5/20</td>\n",
              "      <td>1249482.0</td>\n",
              "    </tr>\n",
              "    <tr>\n",
              "      <th>89</th>\n",
              "      <td>4/6/20</td>\n",
              "      <td>1321129.0</td>\n",
              "    </tr>\n",
              "    <tr>\n",
              "      <th>90</th>\n",
              "      <td>4/7/20</td>\n",
              "      <td>1396090.0</td>\n",
              "    </tr>\n",
              "    <tr>\n",
              "      <th>91</th>\n",
              "      <td>4/8/20</td>\n",
              "      <td>1479802.0</td>\n",
              "    </tr>\n",
              "    <tr>\n",
              "      <th>92</th>\n",
              "      <td>4/9/20</td>\n",
              "      <td>1565276.0</td>\n",
              "    </tr>\n",
              "  </tbody>\n",
              "</table>\n",
              "<p>93 rows × 2 columns</p>\n",
              "</div>"
            ],
            "text/plain": [
              "       Date  Confirmed\n",
              "0   1/22/20      555.0\n",
              "1   1/23/20      654.0\n",
              "2   1/24/20      941.0\n",
              "3   1/25/20     1434.0\n",
              "4   1/26/20     2118.0\n",
              "..      ...        ...\n",
              "88   4/5/20  1249482.0\n",
              "89   4/6/20  1321129.0\n",
              "90   4/7/20  1396090.0\n",
              "91   4/8/20  1479802.0\n",
              "92   4/9/20  1565276.0\n",
              "\n",
              "[93 rows x 2 columns]"
            ]
          },
          "metadata": {},
          "execution_count": 24
        }
      ]
    },
    {
      "cell_type": "code",
      "metadata": {
        "colab": {
          "base_uri": "https://localhost:8080/",
          "height": 423
        },
        "id": "hTzmYkTSDFcV",
        "outputId": "b27abdce-a22c-4e6f-fad1-4f43adeb6c8f"
      },
      "source": [
        "# rename the columns (Date to ds and Confirmed to y) of confirmed dataframe and set inplace=True \n",
        "confirmed.rename(columns={'Date':'ds', 'Confirmed': 'y'}, inplace=True)\n",
        "confirmed"
      ],
      "execution_count": null,
      "outputs": [
        {
          "output_type": "execute_result",
          "data": {
            "text/html": [
              "<div>\n",
              "<style scoped>\n",
              "    .dataframe tbody tr th:only-of-type {\n",
              "        vertical-align: middle;\n",
              "    }\n",
              "\n",
              "    .dataframe tbody tr th {\n",
              "        vertical-align: top;\n",
              "    }\n",
              "\n",
              "    .dataframe thead th {\n",
              "        text-align: right;\n",
              "    }\n",
              "</style>\n",
              "<table border=\"1\" class=\"dataframe\">\n",
              "  <thead>\n",
              "    <tr style=\"text-align: right;\">\n",
              "      <th></th>\n",
              "      <th>ds</th>\n",
              "      <th>y</th>\n",
              "    </tr>\n",
              "  </thead>\n",
              "  <tbody>\n",
              "    <tr>\n",
              "      <th>0</th>\n",
              "      <td>1/22/20</td>\n",
              "      <td>555.0</td>\n",
              "    </tr>\n",
              "    <tr>\n",
              "      <th>1</th>\n",
              "      <td>1/23/20</td>\n",
              "      <td>654.0</td>\n",
              "    </tr>\n",
              "    <tr>\n",
              "      <th>2</th>\n",
              "      <td>1/24/20</td>\n",
              "      <td>941.0</td>\n",
              "    </tr>\n",
              "    <tr>\n",
              "      <th>3</th>\n",
              "      <td>1/25/20</td>\n",
              "      <td>1434.0</td>\n",
              "    </tr>\n",
              "    <tr>\n",
              "      <th>4</th>\n",
              "      <td>1/26/20</td>\n",
              "      <td>2118.0</td>\n",
              "    </tr>\n",
              "    <tr>\n",
              "      <th>...</th>\n",
              "      <td>...</td>\n",
              "      <td>...</td>\n",
              "    </tr>\n",
              "    <tr>\n",
              "      <th>88</th>\n",
              "      <td>4/5/20</td>\n",
              "      <td>1249482.0</td>\n",
              "    </tr>\n",
              "    <tr>\n",
              "      <th>89</th>\n",
              "      <td>4/6/20</td>\n",
              "      <td>1321129.0</td>\n",
              "    </tr>\n",
              "    <tr>\n",
              "      <th>90</th>\n",
              "      <td>4/7/20</td>\n",
              "      <td>1396090.0</td>\n",
              "    </tr>\n",
              "    <tr>\n",
              "      <th>91</th>\n",
              "      <td>4/8/20</td>\n",
              "      <td>1479802.0</td>\n",
              "    </tr>\n",
              "    <tr>\n",
              "      <th>92</th>\n",
              "      <td>4/9/20</td>\n",
              "      <td>1565276.0</td>\n",
              "    </tr>\n",
              "  </tbody>\n",
              "</table>\n",
              "<p>93 rows × 2 columns</p>\n",
              "</div>"
            ],
            "text/plain": [
              "         ds          y\n",
              "0   1/22/20      555.0\n",
              "1   1/23/20      654.0\n",
              "2   1/24/20      941.0\n",
              "3   1/25/20     1434.0\n",
              "4   1/26/20     2118.0\n",
              "..      ...        ...\n",
              "88   4/5/20  1249482.0\n",
              "89   4/6/20  1321129.0\n",
              "90   4/7/20  1396090.0\n",
              "91   4/8/20  1479802.0\n",
              "92   4/9/20  1565276.0\n",
              "\n",
              "[93 rows x 2 columns]"
            ]
          },
          "metadata": {},
          "execution_count": 25
        }
      ]
    },
    {
      "cell_type": "code",
      "metadata": {
        "colab": {
          "base_uri": "https://localhost:8080/",
          "height": 423
        },
        "id": "k-f1SQB-G1NW",
        "outputId": "0455f3b6-6300-443e-902b-77ca2e95dce4"
      },
      "source": [
        "# create a new column named 'Active' which shows the active cases in each country Daywise\n",
        "data2['Active'] = data2['Confirmed'] - data2['Deaths'] - data2['Recovered']\n",
        "data2"
      ],
      "execution_count": null,
      "outputs": [
        {
          "output_type": "execute_result",
          "data": {
            "text/html": [
              "<div>\n",
              "<style scoped>\n",
              "    .dataframe tbody tr th:only-of-type {\n",
              "        vertical-align: middle;\n",
              "    }\n",
              "\n",
              "    .dataframe tbody tr th {\n",
              "        vertical-align: top;\n",
              "    }\n",
              "\n",
              "    .dataframe thead th {\n",
              "        text-align: right;\n",
              "    }\n",
              "</style>\n",
              "<table border=\"1\" class=\"dataframe\">\n",
              "  <thead>\n",
              "    <tr style=\"text-align: right;\">\n",
              "      <th></th>\n",
              "      <th>Province/State</th>\n",
              "      <th>Country/Region</th>\n",
              "      <th>Lat</th>\n",
              "      <th>Long</th>\n",
              "      <th>Date</th>\n",
              "      <th>Confirmed</th>\n",
              "      <th>Deaths</th>\n",
              "      <th>Recovered</th>\n",
              "      <th>Active</th>\n",
              "    </tr>\n",
              "  </thead>\n",
              "  <tbody>\n",
              "    <tr>\n",
              "      <th>0</th>\n",
              "      <td>NaN</td>\n",
              "      <td>Afghanistan</td>\n",
              "      <td>33.000000</td>\n",
              "      <td>65.000000</td>\n",
              "      <td>1/22/20</td>\n",
              "      <td>0.0</td>\n",
              "      <td>0</td>\n",
              "      <td>0</td>\n",
              "      <td>0.0</td>\n",
              "    </tr>\n",
              "    <tr>\n",
              "      <th>1</th>\n",
              "      <td>NaN</td>\n",
              "      <td>Albania</td>\n",
              "      <td>41.153300</td>\n",
              "      <td>20.168300</td>\n",
              "      <td>1/22/20</td>\n",
              "      <td>0.0</td>\n",
              "      <td>0</td>\n",
              "      <td>0</td>\n",
              "      <td>0.0</td>\n",
              "    </tr>\n",
              "    <tr>\n",
              "      <th>2</th>\n",
              "      <td>NaN</td>\n",
              "      <td>Algeria</td>\n",
              "      <td>28.033900</td>\n",
              "      <td>1.659600</td>\n",
              "      <td>1/22/20</td>\n",
              "      <td>0.0</td>\n",
              "      <td>0</td>\n",
              "      <td>0</td>\n",
              "      <td>0.0</td>\n",
              "    </tr>\n",
              "    <tr>\n",
              "      <th>3</th>\n",
              "      <td>NaN</td>\n",
              "      <td>Andorra</td>\n",
              "      <td>42.506300</td>\n",
              "      <td>1.521800</td>\n",
              "      <td>1/22/20</td>\n",
              "      <td>0.0</td>\n",
              "      <td>0</td>\n",
              "      <td>0</td>\n",
              "      <td>0.0</td>\n",
              "    </tr>\n",
              "    <tr>\n",
              "      <th>4</th>\n",
              "      <td>NaN</td>\n",
              "      <td>Angola</td>\n",
              "      <td>-11.202700</td>\n",
              "      <td>17.873900</td>\n",
              "      <td>1/22/20</td>\n",
              "      <td>0.0</td>\n",
              "      <td>0</td>\n",
              "      <td>0</td>\n",
              "      <td>0.0</td>\n",
              "    </tr>\n",
              "    <tr>\n",
              "      <th>...</th>\n",
              "      <td>...</td>\n",
              "      <td>...</td>\n",
              "      <td>...</td>\n",
              "      <td>...</td>\n",
              "      <td>...</td>\n",
              "      <td>...</td>\n",
              "      <td>...</td>\n",
              "      <td>...</td>\n",
              "      <td>...</td>\n",
              "    </tr>\n",
              "    <tr>\n",
              "      <th>24361</th>\n",
              "      <td>Saint Pierre and Miquelon</td>\n",
              "      <td>France</td>\n",
              "      <td>46.885200</td>\n",
              "      <td>-56.315900</td>\n",
              "      <td>4/23/20</td>\n",
              "      <td>1.0</td>\n",
              "      <td>0</td>\n",
              "      <td>0</td>\n",
              "      <td>1.0</td>\n",
              "    </tr>\n",
              "    <tr>\n",
              "      <th>24362</th>\n",
              "      <td>NaN</td>\n",
              "      <td>South Sudan</td>\n",
              "      <td>6.877000</td>\n",
              "      <td>31.307000</td>\n",
              "      <td>4/23/20</td>\n",
              "      <td>5.0</td>\n",
              "      <td>0</td>\n",
              "      <td>0</td>\n",
              "      <td>5.0</td>\n",
              "    </tr>\n",
              "    <tr>\n",
              "      <th>24363</th>\n",
              "      <td>NaN</td>\n",
              "      <td>Western Sahara</td>\n",
              "      <td>24.215500</td>\n",
              "      <td>-12.885800</td>\n",
              "      <td>4/23/20</td>\n",
              "      <td>6.0</td>\n",
              "      <td>0</td>\n",
              "      <td>5</td>\n",
              "      <td>1.0</td>\n",
              "    </tr>\n",
              "    <tr>\n",
              "      <th>24364</th>\n",
              "      <td>NaN</td>\n",
              "      <td>Sao Tome and Principe</td>\n",
              "      <td>0.186360</td>\n",
              "      <td>6.613081</td>\n",
              "      <td>4/23/20</td>\n",
              "      <td>4.0</td>\n",
              "      <td>0</td>\n",
              "      <td>0</td>\n",
              "      <td>4.0</td>\n",
              "    </tr>\n",
              "    <tr>\n",
              "      <th>24365</th>\n",
              "      <td>NaN</td>\n",
              "      <td>Yemen</td>\n",
              "      <td>15.552727</td>\n",
              "      <td>48.516388</td>\n",
              "      <td>4/23/20</td>\n",
              "      <td>1.0</td>\n",
              "      <td>0</td>\n",
              "      <td>0</td>\n",
              "      <td>1.0</td>\n",
              "    </tr>\n",
              "  </tbody>\n",
              "</table>\n",
              "<p>24366 rows × 9 columns</p>\n",
              "</div>"
            ],
            "text/plain": [
              "                  Province/State         Country/Region  ...  Recovered  Active\n",
              "0                            NaN            Afghanistan  ...          0     0.0\n",
              "1                            NaN                Albania  ...          0     0.0\n",
              "2                            NaN                Algeria  ...          0     0.0\n",
              "3                            NaN                Andorra  ...          0     0.0\n",
              "4                            NaN                 Angola  ...          0     0.0\n",
              "...                          ...                    ...  ...        ...     ...\n",
              "24361  Saint Pierre and Miquelon                 France  ...          0     1.0\n",
              "24362                        NaN            South Sudan  ...          0     5.0\n",
              "24363                        NaN         Western Sahara  ...          5     1.0\n",
              "24364                        NaN  Sao Tome and Principe  ...          0     4.0\n",
              "24365                        NaN                  Yemen  ...          0     1.0\n",
              "\n",
              "[24366 rows x 9 columns]"
            ]
          },
          "metadata": {},
          "execution_count": 26
        }
      ]
    },
    {
      "cell_type": "markdown",
      "metadata": {
        "id": "yCrMle7vZNQd"
      },
      "source": [
        "---\n",
        "---\n",
        "### **Class Assignment 2:**\n",
        "\n",
        "### Object4: Multiprocessing Library in Python\n",
        "---\n",
        "\n",
        "\n",
        "###Q1: What is the library function in multiprocessing system? Explain.\n",
        "\n",
        "Ans: In Python, the multiprocessing module includes a very simple and intuitive API for dividing work between multiple processes.\n",
        "\n",
        "To import the multiprocessing module, we do: \n",
        "\n",
        "```\n",
        "import multiprocessing\n",
        "```\n",
        "\n",
        "To create a process, we create an object of Process class. It takes following arguments:\n",
        "\n",
        "> **target:** the function to be executed by process\n",
        "\n",
        "> **args:** the arguments to be passed to the target function\n",
        "\n",
        "```\n",
        "p1 = multiprocessing.Process(target=print_square, args=(10, ))\n",
        "p2 = multiprocessing.Process(target=print_cube, args=(10, ))\n",
        "```\n",
        "To start a process, we use start method of Process class.\n",
        "```\n",
        "p1.start()\n",
        "p2.start()\n",
        "```\n",
        "Once the processes start, the current program also keeps on executing. In order to stop execution of current program until a process is complete, we use **join** method.\n",
        "```\n",
        "p1.join()\n",
        "p2.join()\n",
        "```\n",
        "As a result, the current program will first wait for the completion of p1 and then p2. Once, they are completed, the next statements of current program are executed.\n",
        "\n",
        "The main python script has a different process ID and multiprocessing module spawns new processes with different process IDs as we create Process objects **p1** and **p2**, use ```os.getpid()``` function to get ID of process running the current target function.\n",
        "\n",
        "\n",
        "---\n",
        "\n",
        "\n",
        "###Q2:  What is the difference between multiprocessing, multithreading and concurrent systems?\n",
        "\n",
        "Ans: **Multiprocessing:**\n",
        "Multiprocessing is a system that has more than one or two processors. In Multiprocessing, CPUs are added for increasing computing speed of the system. Because of Multiprocessing, There are many processes are executed simultaneously. Process creation is a time-consuming process. Every process owned a separate address space.\n",
        "\n",
        "**Multithreading:**\n",
        "Multithreading is a system in which multiple threads are created of a process for increasing the computing speed of the system. In multithreading, many threads of a process are executed simultaneously and process creation in multithreading is done according to economical. A common address space is shared by all the threads.\n",
        "\n",
        "**Concurrent System:**\n",
        "Concurrency relates to an application that is processing more than one task at the same time. Concurrency is an approach that is used for decreasing the response time of the system by using the single processing unit. Concurrency creates the misunderstanding of parallelism, however actually the chunks of a task aren’t parallelly processed, but inside the application, there are more than one task is being processed at a time. It doesn’t fully end one task before it begins next. \n",
        "\n",
        "\n",
        "---"
      ]
    },
    {
      "cell_type": "markdown",
      "metadata": {
        "id": "0w16r8twY8G_"
      },
      "source": [
        "###Q3: Write a program to print the number of cores of Multiprocessor CPU?"
      ]
    },
    {
      "cell_type": "code",
      "metadata": {
        "colab": {
          "base_uri": "https://localhost:8080/"
        },
        "id": "xZOicyY_G1B-",
        "outputId": "61648224-8fae-4501-f6d1-57235acc99ff"
      },
      "source": [
        "# using multiprocessing module\n",
        "import multiprocessing\n",
        "print(\"Number of cpu : \", multiprocessing.cpu_count())\n",
        "\n",
        "# using psutils module\n",
        "import psutil\n",
        "print(\"Number of cpu : \", psutil.cpu_count())\n",
        "\n",
        "# using os module\n",
        "import os\n",
        "print(\"Number of cpu : \", os.cpu_count())"
      ],
      "execution_count": null,
      "outputs": [
        {
          "output_type": "stream",
          "name": "stdout",
          "text": [
            "Number of cpu :  2\n",
            "Number of cpu :  2\n",
            "Number of cpu :  2\n"
          ]
        }
      ]
    },
    {
      "cell_type": "markdown",
      "metadata": {
        "id": "sZpS3tM6erx4"
      },
      "source": [
        "---\n",
        "---\n",
        "### Date: 08/09/2021"
      ]
    },
    {
      "cell_type": "markdown",
      "metadata": {
        "id": "m8QGBuLWStH-"
      },
      "source": [
        "##### Number of cores "
      ]
    },
    {
      "cell_type": "code",
      "metadata": {
        "colab": {
          "base_uri": "https://localhost:8080/"
        },
        "id": "9qZKCaL8ewuU",
        "outputId": "af62f897-fc85-4514-8bfc-385a1bd17ee2"
      },
      "source": [
        "# Number of Processor \n",
        "import multiprocessing as mp\n",
        "print(\"Number of Processor: \", mp.cpu_count())"
      ],
      "execution_count": null,
      "outputs": [
        {
          "output_type": "stream",
          "name": "stdout",
          "text": [
            "Number of Processor:  2\n"
          ]
        }
      ]
    },
    {
      "cell_type": "markdown",
      "metadata": {
        "id": "TNbEAe9ZjkgH"
      },
      "source": [
        "---\n",
        "---\n",
        "### **Object5:** Add list element in Sequential Time"
      ]
    },
    {
      "cell_type": "code",
      "metadata": {
        "colab": {
          "base_uri": "https://localhost:8080/"
        },
        "id": "x2JYr7oaFFrT",
        "outputId": "0d00a5da-429b-405f-d27b-fecadfec34d8"
      },
      "source": [
        "import time \n",
        "\n",
        "x = [1, 2, 3, 4] # Write input\n",
        "start=time.time()\n",
        "y = 0 # Initialize output\n",
        "\n",
        "for i in range(len(x)):\n",
        "  y += i # Add each element to the output variable\n",
        "\n",
        "print(y) # Print output\n",
        "end1=time.time()-start\n",
        "print(\"sequential time : \",end1)"
      ],
      "execution_count": null,
      "outputs": [
        {
          "output_type": "stream",
          "name": "stdout",
          "text": [
            "6\n",
            "sequential time :  0.0022125244140625\n"
          ]
        }
      ]
    },
    {
      "cell_type": "code",
      "metadata": {
        "colab": {
          "base_uri": "https://localhost:8080/"
        },
        "id": "KQKLW42wKue3",
        "outputId": "aeb10f72-d524-4c4a-c24d-a1206e9386d1"
      },
      "source": [
        "from time import time\n",
        "import numpy as np\n",
        "\n",
        "x = [1, 2, 4, 4]\n",
        "start=time()\n",
        "chunk1 = x[:2]\n",
        "chunk2 = x[2:]\n",
        "\n",
        "sum_1 = sum(chunk1)\n",
        "sum_2 = sum(chunk2)\n",
        "\n",
        "result = sum_1 + sum_2\n",
        "\n",
        "print(result)\n",
        "end1=time()-start\n",
        "print(\"time : \",end1)"
      ],
      "execution_count": null,
      "outputs": [
        {
          "output_type": "stream",
          "name": "stdout",
          "text": [
            "11\n",
            "time :  0.0002949237823486328\n"
          ]
        }
      ]
    },
    {
      "cell_type": "markdown",
      "metadata": {
        "id": "4DdibgxPhTpp"
      },
      "source": [
        "---\n",
        "---\n",
        "### **Object6:** List Physical devices"
      ]
    },
    {
      "cell_type": "code",
      "metadata": {
        "colab": {
          "base_uri": "https://localhost:8080/"
        },
        "id": "3BpbKN-kK0Zr",
        "outputId": "74b2d2c3-fb36-4c7d-d828-2f0db5c4d8f5"
      },
      "source": [
        "from tensorflow.python.client import device_lib\n",
        "device_lib.list_local_devices()"
      ],
      "execution_count": null,
      "outputs": [
        {
          "output_type": "execute_result",
          "data": {
            "text/plain": [
              "[name: \"/device:CPU:0\"\n",
              " device_type: \"CPU\"\n",
              " memory_limit: 268435456\n",
              " locality {\n",
              " }\n",
              " incarnation: 3930070268997591391\n",
              " xla_global_id: -1, name: \"/device:GPU:0\"\n",
              " device_type: \"GPU\"\n",
              " memory_limit: 11320098816\n",
              " locality {\n",
              "   bus_id: 1\n",
              "   links {\n",
              "   }\n",
              " }\n",
              " incarnation: 6982411650361188688\n",
              " physical_device_desc: \"device: 0, name: Tesla K80, pci bus id: 0000:00:04.0, compute capability: 3.7\"\n",
              " xla_global_id: 416903419]"
            ]
          },
          "metadata": {},
          "execution_count": 2
        }
      ]
    },
    {
      "cell_type": "code",
      "metadata": {
        "colab": {
          "base_uri": "https://localhost:8080/"
        },
        "id": "YUVOLmU2MHoI",
        "outputId": "cb8cd977-dbc8-4775-d38b-a50117fce660"
      },
      "source": [
        "from tensorflow.python.client import device_lib\n",
        "\n",
        "def get_available_gpus():\n",
        "    local_device_protos = device_lib.list_local_devices()\n",
        "    return [x.name for x in local_device_protos if x.device_type == 'GPU']\n",
        "\n",
        "get_available_gpus()"
      ],
      "execution_count": null,
      "outputs": [
        {
          "output_type": "execute_result",
          "data": {
            "text/plain": [
              "['/device:GPU:0']"
            ]
          },
          "metadata": {},
          "execution_count": 3
        }
      ]
    },
    {
      "cell_type": "code",
      "metadata": {
        "colab": {
          "base_uri": "https://localhost:8080/"
        },
        "id": "0_i1c1h8MQu_",
        "outputId": "b60e1d67-8679-4750-d4ed-75faebd3aa11"
      },
      "source": [
        "import tensorflow as tf\n",
        "print(\"Num GPUs Available: \", len(tf.config.experimental.list_physical_devices('GPU')))"
      ],
      "execution_count": null,
      "outputs": [
        {
          "output_type": "stream",
          "name": "stdout",
          "text": [
            "Num GPUs Available:  1\n"
          ]
        }
      ]
    },
    {
      "cell_type": "markdown",
      "metadata": {
        "id": "ESgJBfpDhG4N"
      },
      "source": [
        "---\n",
        "---\n",
        "### **Object7**: GPU Utilization"
      ]
    },
    {
      "cell_type": "code",
      "metadata": {
        "colab": {
          "base_uri": "https://localhost:8080/"
        },
        "id": "BbUKwxPVM4zc",
        "outputId": "e0d3b25e-ad58-412d-ce2f-509711efbad6"
      },
      "source": [
        "!pip install GPUtil"
      ],
      "execution_count": null,
      "outputs": [
        {
          "output_type": "stream",
          "name": "stdout",
          "text": [
            "Collecting GPUtil\n",
            "  Downloading GPUtil-1.4.0.tar.gz (5.5 kB)\n",
            "Building wheels for collected packages: GPUtil\n",
            "  Building wheel for GPUtil (setup.py) ... \u001b[?25l\u001b[?25hdone\n",
            "  Created wheel for GPUtil: filename=GPUtil-1.4.0-py3-none-any.whl size=7411 sha256=e37ab35a77285c8b7c593ccb873887b6a5b73b52b031607fb03e1e703ed39ab5\n",
            "  Stored in directory: /root/.cache/pip/wheels/6e/f8/83/534c52482d6da64622ddbf72cd93c35d2ef2881b78fd08ff0c\n",
            "Successfully built GPUtil\n",
            "Installing collected packages: GPUtil\n",
            "Successfully installed GPUtil-1.4.0\n"
          ]
        }
      ]
    },
    {
      "cell_type": "code",
      "metadata": {
        "colab": {
          "base_uri": "https://localhost:8080/"
        },
        "id": "6Q-RnpG8OXQP",
        "outputId": "2507973e-7668-4af5-eecb-6e812aa61a01"
      },
      "source": [
        "import GPUtil\n",
        "GPUtil.showUtilization()\n",
        "GPUs = GPUtil.getGPUs()"
      ],
      "execution_count": null,
      "outputs": [
        {
          "output_type": "stream",
          "name": "stdout",
          "text": [
            "| ID | GPU | MEM |\n",
            "------------------\n",
            "|  0 |  0% |  1% |\n"
          ]
        }
      ]
    },
    {
      "cell_type": "markdown",
      "metadata": {
        "id": "Y6CR4J8QQl0W"
      },
      "source": [
        "---\n",
        "---\n",
        "### **Object8**: Memory Information"
      ]
    },
    {
      "cell_type": "code",
      "metadata": {
        "colab": {
          "base_uri": "https://localhost:8080/"
        },
        "id": "NSUTzl0uOann",
        "outputId": "e6e1bb81-5821-4244-8dd9-b967f9141e35"
      },
      "source": [
        "!cat /proc/meminfo"
      ],
      "execution_count": null,
      "outputs": [
        {
          "output_type": "stream",
          "name": "stdout",
          "text": [
            "MemTotal:       13302924 kB\n",
            "MemFree:         9521980 kB\n",
            "MemAvailable:   12046244 kB\n",
            "Buffers:          128392 kB\n",
            "Cached:          2429932 kB\n",
            "SwapCached:            0 kB\n",
            "Active:          1316908 kB\n",
            "Inactive:        2132456 kB\n",
            "Active(anon):     740764 kB\n",
            "Inactive(anon):     2496 kB\n",
            "Active(file):     576144 kB\n",
            "Inactive(file):  2129960 kB\n",
            "Unevictable:           0 kB\n",
            "Mlocked:               0 kB\n",
            "SwapTotal:             0 kB\n",
            "SwapFree:              0 kB\n",
            "Dirty:               512 kB\n",
            "Writeback:             0 kB\n",
            "AnonPages:        891000 kB\n",
            "Mapped:           637896 kB\n",
            "Shmem:              3252 kB\n",
            "KReclaimable:     119268 kB\n",
            "Slab:             173388 kB\n",
            "SReclaimable:     119268 kB\n",
            "SUnreclaim:        54120 kB\n",
            "KernelStack:        5088 kB\n",
            "PageTables:         9684 kB\n",
            "NFS_Unstable:          0 kB\n",
            "Bounce:                0 kB\n",
            "WritebackTmp:          0 kB\n",
            "CommitLimit:     6651460 kB\n",
            "Committed_AS:    3741736 kB\n",
            "VmallocTotal:   34359738367 kB\n",
            "VmallocUsed:       46776 kB\n",
            "VmallocChunk:          0 kB\n",
            "Percpu:             1592 kB\n",
            "AnonHugePages:      2048 kB\n",
            "ShmemHugePages:        0 kB\n",
            "ShmemPmdMapped:        0 kB\n",
            "FileHugePages:         0 kB\n",
            "FilePmdMapped:         0 kB\n",
            "CmaTotal:              0 kB\n",
            "CmaFree:               0 kB\n",
            "HugePages_Total:       0\n",
            "HugePages_Free:        0\n",
            "HugePages_Rsvd:        0\n",
            "HugePages_Surp:        0\n",
            "Hugepagesize:       2048 kB\n",
            "Hugetlb:               0 kB\n",
            "DirectMap4k:      207680 kB\n",
            "DirectMap2M:     6080512 kB\n",
            "DirectMap1G:     9437184 kB\n"
          ]
        }
      ]
    },
    {
      "cell_type": "markdown",
      "metadata": {
        "id": "bxxoQumHRicD"
      },
      "source": [
        "---\n",
        "---\n",
        "### **Class Assignment3:**\n",
        "---\n",
        "### Q1: Explain the significance of numpy and tensorflow packages in python?\n",
        "\n",
        "Ans: **Numpy** is one of the most commonly used pen-source numerical library for scientific computing in Python. It provides a multidimensional array object, as well as variations such as masks and matrices, which can be used for various math operations. Numpy is compatible with, and used by many other popular Python packages, including pandas and matplotlib.\n",
        "\n",
        "It’s faster than regular Python arrays, which lack numpy’s optimized and pre-compiled C code that does all the heavy lifting. Another reason is that numpy arrays and operations are vectorized, which means they lack explicit looping or indexing in the code. This makes the code not only more readable, but also more similar to standard mathematical notation. \n",
        "\n",
        "**Tensorflow** is a low-level library which provides more flexibility. Thus you can define your own functionalities or services for your models. This is a very important parameter for researchers because it allows them to change the model based on changing user requirements.\n",
        "\n",
        "TensorFlow provides more network control. Thus allowing developers and researchers to understand how operations are implemented across the network. They can always keep track of new changes done over time\n",
        "\n",
        "---"
      ]
    },
    {
      "cell_type": "markdown",
      "metadata": {
        "id": "lN4VxCA6RZuR"
      },
      "source": [
        "### Q2: Write a python program to perform an addition of an array element in seqential manner and multiprocessing(module). Also compare the time between sequential and multiprocessing."
      ]
    },
    {
      "cell_type": "code",
      "metadata": {
        "colab": {
          "base_uri": "https://localhost:8080/"
        },
        "id": "b5Abi72madjk",
        "outputId": "3e3a8622-e5bc-4468-f037-70601c20ccfe"
      },
      "source": [
        "import time\n",
        "import multiprocessing as mp\n",
        "\n",
        "num = range(1, 1000001)\n",
        "chunk1 = num[: len(num)//2]\n",
        "chunk2 = num[len(num)//2 :]\n",
        "\n",
        "def sequential_sum(num):\n",
        "    start = time.time()\n",
        "    result = 0\n",
        "    for i in num:\n",
        "        result = result + i\n",
        "    print(\"sequential_time: \",time.time() - start)\n",
        "    return result\n",
        "\n",
        "\n",
        "def parallel_sum(chunk1, chunk2):\n",
        "    start = time.time()\n",
        "    p1 = mp.Process(target=sum, args=(chunk1, ))\n",
        "    p2 = mp.Process(target=sum, args=(chunk2, ))\n",
        "  \n",
        "    p1.start()\n",
        "    p2.start()   \n",
        "\n",
        "    p1.join()   \n",
        "    p2.join()\n",
        "    print(\"parallel_time: \",time.time() - start)\n",
        "\n",
        "print(sequential_sum(num))\n",
        "parallel_sum(chunk1, chunk2)"
      ],
      "execution_count": null,
      "outputs": [
        {
          "output_type": "stream",
          "name": "stdout",
          "text": [
            "sequential_time:  0.06558632850646973\n",
            "500000500000\n",
            "parallel_time:  0.05461692810058594\n"
          ]
        }
      ]
    },
    {
      "cell_type": "code",
      "metadata": {
        "colab": {
          "base_uri": "https://localhost:8080/"
        },
        "id": "QcXEU9X-li0-",
        "outputId": "bf204552-0474-42f2-9078-d9e985f0e56e"
      },
      "source": [
        "import time\n",
        "import numpy as np\n",
        "import multiprocessing as mp\n",
        "\n",
        "# Prepare data\n",
        "np.random.RandomState(100)\n",
        "data = np.arange(1000000)\n",
        "\n",
        "start = time.time()\n",
        "ans = sum(data)\n",
        "print(\"sequentail_time:\" + str(time.time() - start) + 's')\n",
        "print(ans)\n",
        "\n",
        "\n",
        "start = time.time()\n",
        "\n",
        "pool = mp.Pool(mp.cpu_count())\n",
        "\n",
        "data = data.reshape(10, 100000)\n",
        "\n",
        "results = pool.map(sum, [row for row in data])\n",
        "\n",
        "final_result = sum(results)\n",
        "\n",
        "pool.close()    \n",
        "\n",
        "print(final_result)\n",
        "\n",
        "print(\"multiprocessing_time: \" + str(time.time() - start) + \"s\")"
      ],
      "execution_count": null,
      "outputs": [
        {
          "output_type": "stream",
          "name": "stdout",
          "text": [
            "sequentail_time:0.16886520385742188s\n",
            "499999500000\n",
            "499999500000\n",
            "multiprocessing_time: 0.24380207061767578s\n"
          ]
        }
      ]
    },
    {
      "cell_type": "markdown",
      "metadata": {
        "id": "cf89-OMptzjz"
      },
      "source": [
        "---\n",
        "---"
      ]
    },
    {
      "cell_type": "markdown",
      "metadata": {
        "id": "TEavijV3vU7Y"
      },
      "source": [
        "### Date 22/09/2021"
      ]
    },
    {
      "cell_type": "markdown",
      "metadata": {
        "id": "g9nxuUFwYuwD"
      },
      "source": [
        "---\n",
        "---\n",
        "### **Object9**: Pool Function"
      ]
    },
    {
      "cell_type": "markdown",
      "metadata": {
        "id": "DRFBvNFsHF1X"
      },
      "source": [
        "#### Square of an element by using Pool class of multiprocessing mode"
      ]
    },
    {
      "cell_type": "code",
      "metadata": {
        "colab": {
          "base_uri": "https://localhost:8080/",
          "height": 434
        },
        "id": "B8KnbvnPt4cr",
        "outputId": "af23cc1b-6caa-4ce4-892e-bf6f690d8a32"
      },
      "source": [
        "import multiprocessing as mp \n",
        "import os \n",
        "import time\n",
        "from timeit import default_timer as timer\n",
        "import matplotlib.pyplot as plt\n",
        "\n",
        "\n",
        "def square(n):\n",
        "  time.sleep(0.04)\n",
        "  print(\"Worker process id for {0}: {1}\".format(n, os.getpid())) \n",
        "  return (n*n) \n",
        "  \n",
        "if __name__ == \"__main__\": \n",
        "    # input list \n",
        "    mylist = [5,123456]\n",
        "    start=timer()\n",
        "    for i in mylist:\n",
        "      time.sleep(0.04)\n",
        "      print(i*i)\n",
        "    end1=timer()-start\n",
        "    print(\"sequential time is \" ,end1)\n",
        "\n",
        "    start=timer()\n",
        "    # creating a pool\n",
        "    p = mp.Pool() \n",
        "    result = p.map(square, mylist) \n",
        "    end2=timer()-start\n",
        "    print(\"parallel processing time is \" ,end2)\n",
        "    print(result)\n",
        "    print(\"length of list : \",len(mylist))\n",
        "\n",
        "    fig = plt.figure()\n",
        "    t = ['sequential', 'parallel(pool)']\n",
        "    exe_time = [end1,end2]\n",
        "    plt.bar(t,exe_time, color ='green') \n",
        "    plt.xlabel(\"different functins\") \n",
        "    plt.ylabel(\"time taken\") \n",
        "    plt.title(\"time taken by sequential and pool process\")\n",
        "    plt.show()\n"
      ],
      "execution_count": null,
      "outputs": [
        {
          "output_type": "stream",
          "name": "stdout",
          "text": [
            "25\n",
            "15241383936\n",
            "sequential time is  0.08145611400004782\n",
            "Worker process id for 5: 557\n",
            "Worker process id for 123456: 558\n",
            "parallel processing time is  0.06860524100011389\n",
            "[25, 15241383936]\n",
            "length of list :  2\n"
          ]
        },
        {
          "output_type": "display_data",
          "data": {
            "image/png": "[encoded data removed]",
            "text/plain": [
              "<Figure size 432x288 with 1 Axes>"
            ]
          },
          "metadata": {
            "needs_background": "light"
          }
        }
      ]
    },
    {
      "cell_type": "markdown",
      "metadata": {
        "id": "y6KA6S6rMRCG"
      },
      "source": [
        "#### **What is the JIT in python?**\n",
        "\n",
        "**Ans:** Numba is what is called a JIT (just-in-time) compiler. It takes Python functions designated by particular annotations (more about that later), and transforms as much as it can — via the LLVM (Low Level Virtual Machine) compiler — to efficient CPU and GPU (via CUDA for Nvidia GPUs and HSA for AMD GPUs) code."
      ]
    },
    {
      "cell_type": "code",
      "metadata": {
        "colab": {
          "base_uri": "https://localhost:8080/",
          "height": 364
        },
        "id": "Wf8yZldwMvgM",
        "outputId": "61cdbe72-c2e5-4982-9472-9661beb5dcc6"
      },
      "source": [
        "from numba import jit \n",
        "import numpy as np \n",
        "# to measure exec time \n",
        "from timeit import default_timer as timer \n",
        "import time\n",
        "\n",
        "# normal function to run on cpu \n",
        "def func(a):\t\t\t\t\t\t\t\t \n",
        "\t  for i in range(5000000): \n",
        "\t\t    a[i]+= 1\t\n",
        "\n",
        "# function optimized to run on gpu \n",
        "@jit\n",
        "#(target =\"cuda\")\t\t\t\t\t\t \n",
        "def func2(a): \n",
        "\t  for i in range(5000000): \n",
        "\t\t    a[i]+= 1\n",
        "    \n",
        "if __name__==\"__main__\": \n",
        "    n = 5000000\t\t\t\t\t\t\t\n",
        "    a = np.ones(n, dtype = np.float64) \n",
        "    b = np.ones(n, dtype = np.float32) \n",
        "      \n",
        "    start = timer() \n",
        "    \n",
        "    func(a) \n",
        "      \n",
        "    print(\"without GPU:\", timer()-start)\t \n",
        "      \n",
        "    start = timer() \n",
        "    func2(a)\n",
        "    print(\"with GPU:\", timer()-start) \n",
        "    import matplotlib.pyplot as plt\n",
        "    import numpy as np\n",
        "    plt.title(\"CPU Vs GPU TIME\")\n",
        "    plt.xlabel('Time in second')\n",
        "    plt.ylabel('number')\n",
        "    plt.plot([2.282669633000296,4.837626839000222],[5000000,10000000],label='CPU time')\n",
        "    plt.plot([0.05965698399995745,0.0645296880002206],[5000000,10000000],label='GPU time')\n",
        "    plt.legend() \n",
        "    func(a) \n",
        "      \n",
        "    print(\"without GPU:\", timer()-start)\t \n",
        "      \n",
        "    start = timer() \n",
        "    func2(a) \n",
        "    print(\"with GPU:\", timer()-start) \n",
        "    import matplotlib.pyplot as plt\n",
        "    import numpy as np\n",
        "    plt.title(\"CPU Vs GPU TIME\")\n",
        "    plt.xlabel('Time in second')\n",
        "    plt.ylabel('number')\n",
        "    plt.plot([2.282669633000296,4.837626839000222],[5000000,10000000],label='CPU time')\n",
        "    plt.plot([0.05965698399995745,0.0645296880002206],[5000000,10000000],label='GPU time')\n",
        "    plt.legend() "
      ],
      "execution_count": null,
      "outputs": [
        {
          "output_type": "stream",
          "name": "stdout",
          "text": [
            "without GPU: 2.8183903589999773\n",
            "with GPU: 0.4282326390000435\n",
            "without GPU: 3.2063070789999983\n",
            "with GPU: 0.005682446000037089\n"
          ]
        },
        {
          "output_type": "display_data",
          "data": {
            "image/png": "[encoded data removed]",
            "text/plain": [
              "<Figure size 432x288 with 1 Axes>"
            ]
          },
          "metadata": {
            "needs_background": "light"
          }
        }
      ]
    },
    {
      "cell_type": "markdown",
      "metadata": {
        "id": "35Go0kdiEAnO"
      },
      "source": [
        "#### Square of a number using pool class and showing the process id"
      ]
    },
    {
      "cell_type": "code",
      "metadata": {
        "colab": {
          "base_uri": "https://localhost:8080/"
        },
        "id": "DNlxsTqpPX7r",
        "outputId": "b6a6e6d7-70a4-4dac-99eb-3aaf5ba8a6ba"
      },
      "source": [
        "import multiprocessing as mp \n",
        "import os \n",
        "  \n",
        "def square(n): \n",
        "    print(\"Worker process id for {0}: {1}\".format(n, os.getpid())) \n",
        "    return (n*n) \n",
        "  \n",
        "if __name__ == \"__main__\": \n",
        "    # input list \n",
        "    mylist = [1,2,3,4,5] \n",
        "  \n",
        "    # creating a pool object \n",
        "    p = mp.Pool() \n",
        "  \n",
        "    # map list to target function \n",
        "    result = p.map(square, mylist) \n",
        "  \n",
        "    print(result)\n"
      ],
      "execution_count": null,
      "outputs": [
        {
          "output_type": "stream",
          "name": "stdout",
          "text": [
            "Worker process id for 1: 592\n",
            "Worker process id for 3: 592\n",
            "Worker process id for 2: 593\n",
            "Worker process id for 4: 592\n",
            "Worker process id for 5: 593\n",
            "[1, 4, 9, 16, 25]\n"
          ]
        }
      ]
    },
    {
      "cell_type": "markdown",
      "metadata": {
        "id": "H0EM1ZKQRYQi"
      },
      "source": [
        "#### Python program to find square of the list using a pool class (CPU RUNTIME)"
      ]
    },
    {
      "cell_type": "code",
      "metadata": {
        "colab": {
          "base_uri": "https://localhost:8080/"
        },
        "id": "yB05ZJYtQrkn",
        "outputId": "1a28d4b0-f999-44ab-c37d-d13ff7375b60"
      },
      "source": [
        "import multiprocessing as mp\n",
        "import time\n",
        "import os\n",
        "\n",
        "def square(n):\n",
        "    return (n * n)\n",
        "\n",
        "if __name__ == \"__main__\":\n",
        "    # input list\n",
        "    mylist = [1, 2, 3, 4, 5]\n",
        "\n",
        "    start = time.time()\n",
        "    \n",
        "    # creating a pool object\n",
        "    p = mp.Pool()\n",
        "\n",
        "    # map list to target function\n",
        "    result = p.map(square, mylist)\n",
        "\n",
        "    print(result)\n",
        "    print('time:', time.time() - start)"
      ],
      "execution_count": null,
      "outputs": [
        {
          "output_type": "stream",
          "name": "stdout",
          "text": [
            "[1, 4, 9, 16, 25]\n",
            "time: 0.04370284080505371\n"
          ]
        }
      ]
    },
    {
      "cell_type": "markdown",
      "metadata": {
        "id": "yHfTSO1bWUzy"
      },
      "source": [
        "#### Python program to find square of the list using a pool class (GPU RUNTIME)"
      ]
    },
    {
      "cell_type": "code",
      "metadata": {
        "colab": {
          "base_uri": "https://localhost:8080/"
        },
        "id": "PyJaJnYpR9RR",
        "outputId": "3debf278-5d27-4066-eab4-5a75b4aa0f1c"
      },
      "source": [
        "import multiprocessing as mp\n",
        "import time\n",
        "import os\n",
        "\n",
        "def square(n):\n",
        "    return (n * n)\n",
        "\n",
        "if __name__ == \"__main__\":\n",
        "    # input list\n",
        "    mylist = [1, 2, 3, 4, 5]\n",
        "\n",
        "    # Initialize the timer\n",
        "    start = time.time()\n",
        "\n",
        "    # creating a pool objec and map list to target function\n",
        "    result = mp.Pool().map(square, mylist)\n",
        "\n",
        "    print(result)\n",
        "    print('time:', time.time() - start)"
      ],
      "execution_count": null,
      "outputs": [
        {
          "output_type": "stream",
          "name": "stdout",
          "text": [
            "[1, 4, 9, 16, 25]\n",
            "time: 0.026287555694580078\n"
          ]
        }
      ]
    },
    {
      "cell_type": "markdown",
      "metadata": {
        "id": "h4PTkQlQCBe_"
      },
      "source": [
        "---\n",
        "---\n",
        "### Date: 29/09/2021"
      ]
    },
    {
      "cell_type": "markdown",
      "metadata": {
        "id": "w544398aK3t5"
      },
      "source": [
        "----\n",
        "#### **Object10:** Plotting"
      ]
    },
    {
      "cell_type": "code",
      "metadata": {
        "colab": {
          "base_uri": "https://localhost:8080/",
          "height": 513
        },
        "id": "0gkaSbQaJqi2",
        "outputId": "623e6431-8e2d-4ccf-ebe1-8319d7acfb69"
      },
      "source": [
        "import matplotlib.pyplot as plt\n",
        "x = [5, 2, 9, 4, 7] \n",
        "  \n",
        "# Y-axis values \n",
        "y = [10, 5, 8, 4, 2] \n",
        "  \n",
        "# Function to plot \n",
        "plt.plot(x,y) \n",
        "  \n",
        "# function to show the plot \n",
        "plt.show() \n",
        "\n",
        "x = [5, 2, 9, 4, 7] \n",
        "  \n",
        "# Y-axis values \n",
        "y = [10, 5, 8, 4, 2] \n",
        "  \n",
        "# Function to plot the bar \n",
        "plt.bar(x,y) \n",
        "plt.ylabel('some numbers')\n",
        "# function to show the plot \n",
        "plt.show() \n"
      ],
      "execution_count": null,
      "outputs": [
        {
          "output_type": "display_data",
          "data": {
            "image/png": "[encoded data removed]",
            "text/plain": [
              "<Figure size 432x288 with 1 Axes>"
            ]
          },
          "metadata": {
            "needs_background": "light"
          }
        },
        {
          "output_type": "display_data",
          "data": {
            "image/png": "[encoded data removed]",
            "text/plain": [
              "<Figure size 432x288 with 1 Axes>"
            ]
          },
          "metadata": {
            "needs_background": "light"
          }
        }
      ]
    },
    {
      "cell_type": "markdown",
      "metadata": {
        "id": "hYcCicqECZ5z"
      },
      "source": [
        "#### **Object-11:** Sequential and Parallel operation to perform the power operation"
      ]
    },
    {
      "cell_type": "markdown",
      "metadata": {
        "id": "INMEX9u1EowF"
      },
      "source": [
        "**Sequential** (Data length = 3)"
      ]
    },
    {
      "cell_type": "code",
      "metadata": {
        "colab": {
          "base_uri": "https://localhost:8080/"
        },
        "id": "pwT6zNvhWMGQ",
        "outputId": "fe78a496-8251-44ee-a441-248d91365e81"
      },
      "source": [
        "import time\n",
        "from timeit import default_timer as timer\n",
        "from multiprocessing import Pool, cpu_count\n",
        "\n",
        "\n",
        "def power(x, n):\n",
        "    time.sleep(1)\n",
        "    return x ** n\n",
        "\n",
        "def main():\n",
        "    start = timer()\n",
        "    print(f'starting computations on {cpu_count()} cores')\n",
        "\n",
        "    values = [2, 4, 5]\n",
        "    values1= [2, 3, 5]\n",
        "    res = list(map(power,values,values1))\n",
        "    print(res)\n",
        "    end = timer()\n",
        "    seq_time_3 = end - start\n",
        "    print(f'elapsed time: {end - start}')\n",
        "    return seq_time_3\n",
        "    \n",
        "if __name__ == '__main__':\n",
        "    seq_time_3 = main()"
      ],
      "execution_count": null,
      "outputs": [
        {
          "output_type": "stream",
          "name": "stdout",
          "text": [
            "starting computations on 2 cores\n",
            "[4, 64, 3125]\n",
            "elapsed time: 3.0044802380002693\n"
          ]
        }
      ]
    },
    {
      "cell_type": "markdown",
      "metadata": {
        "id": "jh6IbUxMEvba"
      },
      "source": [
        "##### **Parallel(Pool)** (Data length = 3)"
      ]
    },
    {
      "cell_type": "code",
      "metadata": {
        "colab": {
          "base_uri": "https://localhost:8080/"
        },
        "id": "hNE5VBTIJabI",
        "outputId": "1d899a4c-a4d0-4217-cefc-0ff9960928c0"
      },
      "source": [
        "import time\n",
        "import os\n",
        "from timeit import default_timer as timer\n",
        "from multiprocessing import Pool, cpu_count\n",
        "\n",
        "\n",
        "def power(x, n):\n",
        "    time.sleep(1)\n",
        "    print(\"child process id:\", os.getpid())\n",
        "    return x ** n\n",
        "\n",
        "def main():\n",
        "    start = timer()\n",
        "    print(f'starting computations on {cpu_count()} cores')\n",
        "    print(\"parent process id:\", os.getpid())\n",
        "\n",
        "    values = ((2, 2), (4, 3), (5, 5))\n",
        "\n",
        "    with Pool() as pool:\n",
        "        res = pool.starmap(power, values)\n",
        "        print(res)\n",
        "\n",
        "    end = timer()\n",
        "    pool_time_3 = end - start\n",
        "    print(f'elapsed time: {end - start}')\n",
        "    return pool_time_3\n",
        "\n",
        "if __name__ == '__main__':\n",
        "    pool_time_3 = main()"
      ],
      "execution_count": null,
      "outputs": [
        {
          "output_type": "stream",
          "name": "stdout",
          "text": [
            "starting computations on 2 cores\n",
            "parent process id: 60\n",
            "child process id: 923\n",
            "child process id: 924\n",
            "child process id: 924\n",
            "[4, 64, 3125]\n",
            "elapsed time: 2.136176962999798\n"
          ]
        }
      ]
    },
    {
      "cell_type": "markdown",
      "metadata": {
        "id": "thzxP6meFOWU"
      },
      "source": [
        "**Sequential** (Data length = 6)"
      ]
    },
    {
      "cell_type": "code",
      "metadata": {
        "colab": {
          "base_uri": "https://localhost:8080/"
        },
        "id": "z_FubVduPqcX",
        "outputId": "7f47c5da-1e91-4141-a2ce-57b88ae85e40"
      },
      "source": [
        "import time\n",
        "from timeit import default_timer as timer\n",
        "from multiprocessing import Pool, cpu_count\n",
        "\n",
        "\n",
        "def power(x, n):\n",
        "    time.sleep(1)\n",
        "    return x ** n\n",
        "\n",
        "\n",
        "def main():\n",
        "    start = timer()\n",
        "    print(f'starting computations on {cpu_count()} cores')\n",
        "\n",
        "    values = [2, 4, 5, 5, 6, 7]\n",
        "    values1= [2, 3, 5, 6, 7, 8]\n",
        "    res = list(map(power,values,values1))\n",
        "    print(res)\n",
        "    end = timer()\n",
        "    seq_time_6 = end - start\n",
        "    print(f'elapsed time: {end - start}')\n",
        "    return seq_time_6\n",
        "\n",
        "if __name__ == '__main__':\n",
        "    seq_time_6 = main()"
      ],
      "execution_count": null,
      "outputs": [
        {
          "output_type": "stream",
          "name": "stdout",
          "text": [
            "starting computations on 2 cores\n",
            "[4, 64, 3125, 15625, 279936, 5764801]\n",
            "elapsed time: 6.006784256999708\n"
          ]
        }
      ]
    },
    {
      "cell_type": "markdown",
      "metadata": {
        "id": "WqmHiI0pFRY_"
      },
      "source": [
        "**Pool(Parallel)** (Data length = 6)"
      ]
    },
    {
      "cell_type": "code",
      "metadata": {
        "colab": {
          "base_uri": "https://localhost:8080/"
        },
        "id": "PXCmvdxoPqZq",
        "outputId": "ea0d450e-cf08-4d69-e61e-afd805639b7f"
      },
      "source": [
        "import time\n",
        "import os\n",
        "from timeit import default_timer as timer\n",
        "from multiprocessing import Pool, cpu_count\n",
        "\n",
        "\n",
        "def power(x, n):\n",
        "    time.sleep(1)\n",
        "    print(\"child process id:\", os.getpid())\n",
        "    return x ** n\n",
        "\n",
        "\n",
        "def main():\n",
        "    start = timer()\n",
        "    print(f'starting computations on {cpu_count()} cores')\n",
        "    print(\"parent process id:\", os.getpid())\n",
        "\n",
        "    values = ((2, 2), (4, 3), (5, 5), (6, 5), (7, 6), (8, 7))\n",
        "\n",
        "    with Pool() as pool:\n",
        "        res = pool.starmap(power, values)\n",
        "        print(res)\n",
        "\n",
        "    end = timer()\n",
        "    pool_time_6 = end - start\n",
        "    print(f'elapsed time: {end - start}')\n",
        "    return pool_time_6\n",
        "    \n",
        "if __name__ == '__main__':\n",
        "    pool_time_6 = main()"
      ],
      "execution_count": null,
      "outputs": [
        {
          "output_type": "stream",
          "name": "stdout",
          "text": [
            "starting computations on 2 cores\n",
            "parent process id: 60\n",
            "child process id: 934\n",
            "child process id: 935\n",
            "child process id: 934\n",
            "child process id: 935\n",
            "child process id: 934\n",
            "child process id: 935\n",
            "[4, 64, 3125, 7776, 117649, 2097152]\n",
            "elapsed time: 3.1417249540004377\n"
          ]
        }
      ]
    },
    {
      "cell_type": "markdown",
      "metadata": {
        "id": "PGpQ31ZoGEkw"
      },
      "source": [
        "**Sequential** (Data length = 9)"
      ]
    },
    {
      "cell_type": "code",
      "metadata": {
        "colab": {
          "base_uri": "https://localhost:8080/"
        },
        "id": "Ed4KCF0cPqXQ",
        "outputId": "5fcc2194-bde2-4f64-e82a-337930704c82"
      },
      "source": [
        "import time\n",
        "from timeit import default_timer as timer\n",
        "from multiprocessing import Pool, cpu_count\n",
        "\n",
        "\n",
        "def power(x, n):\n",
        "    time.sleep(1)\n",
        "    print(\"child process id:\", os.getpid())\n",
        "    return x ** n\n",
        "\n",
        "def main():\n",
        "    start = timer()\n",
        "    print(f'starting computations on {cpu_count()} cores')\n",
        "    print(\"parent process id:\", os.getpid())\n",
        "    values = [2, 4, 5, 5, 6, 7, 2, 4, 5]\n",
        "    values1= [2, 3, 5, 6, 7, 8, 2, 3, 5]\n",
        "    res = list(map(power,values,values1))\n",
        "    print(res)\n",
        "    end = timer()\n",
        "    seq_time_9 = end - start\n",
        "    print(f'elapsed time: {end - start}')\n",
        "    return seq_time_9\n",
        "\n",
        "if __name__ == '__main__':\n",
        "    seq_time_9 = main()"
      ],
      "execution_count": null,
      "outputs": [
        {
          "output_type": "stream",
          "name": "stdout",
          "text": [
            "starting computations on 2 cores\n",
            "parent process id: 60\n",
            "child process id: 60\n",
            "child process id: 60\n",
            "child process id: 60\n",
            "child process id: 60\n",
            "child process id: 60\n",
            "child process id: 60\n",
            "child process id: 60\n",
            "child process id: 60\n",
            "child process id: 60\n",
            "[4, 64, 3125, 15625, 279936, 5764801, 4, 64, 3125]\n",
            "elapsed time: 9.013115231000029\n"
          ]
        }
      ]
    },
    {
      "cell_type": "markdown",
      "metadata": {
        "id": "5zvnehBOGMy3"
      },
      "source": [
        "**Pool** (Data length = 9)"
      ]
    },
    {
      "cell_type": "code",
      "metadata": {
        "colab": {
          "base_uri": "https://localhost:8080/"
        },
        "id": "Wd8_CDMwPqOs",
        "outputId": "a227fe6e-46da-4437-bbbd-880d12f2f96f"
      },
      "source": [
        "import time\n",
        "import os\n",
        "from timeit import default_timer as timer\n",
        "from multiprocessing import Pool, cpu_count\n",
        "\n",
        "def power(x, n):\n",
        "    time.sleep(1)\n",
        "    print(\"child process id:\", os.getpid())\n",
        "    return x ** n\n",
        "\n",
        "def main():\n",
        "    start = timer()\n",
        "    print(f'starting computations on {cpu_count()} cores')\n",
        "    print(\"parent process id:\", os.getpid())\n",
        "\n",
        "    values = ((2, 2), (4, 3), (5, 5), (6, 5), (7, 6), (8, 7), (2, 2), (4, 3), (5, 5))\n",
        "\n",
        "    with Pool() as pool:\n",
        "        res = pool.starmap(power, values)\n",
        "        print(res)\n",
        "\n",
        "    end = timer()\n",
        "    pool_time_9 = end - start\n",
        "    print(f'elapsed time: {pool_time_9}')\n",
        "    return pool_time_9\n",
        "\n",
        "if __name__ == '__main__':\n",
        "    pool_time_9 = main()"
      ],
      "execution_count": null,
      "outputs": [
        {
          "output_type": "stream",
          "name": "stdout",
          "text": [
            "starting computations on 2 cores\n",
            "parent process id: 60\n",
            "child process id: 955\n",
            "child process id: 956\n",
            "child process id: 955\n",
            "child process id: 956\n",
            "child process id: 955\n",
            "child process id: 956\n",
            "child process id: 956\n",
            "child process id: 955\n",
            "child process id: 956\n",
            "[4, 64, 3125, 7776, 117649, 2097152, 4, 64, 3125]\n",
            "elapsed time: 5.14281489699988\n"
          ]
        }
      ]
    },
    {
      "cell_type": "markdown",
      "metadata": {
        "id": "wVOFp2ioJ3jq"
      },
      "source": [
        "**Time Taken**"
      ]
    },
    {
      "cell_type": "code",
      "metadata": {
        "colab": {
          "base_uri": "https://localhost:8080/",
          "height": 312
        },
        "id": "HDj5KFPzLJ9p",
        "outputId": "2a3bd0a8-af6a-4013-8362-2c7960822f84"
      },
      "source": [
        "import matplotlib.pyplot as plt\n",
        "import numpy as np\n",
        "plt.title(\"Sequential time Vs Parallel time\")\n",
        "plt.xlabel('Time in second')\n",
        "plt.ylabel('Data length')\n",
        "plt.plot([seq_time_3, seq_time_6, seq_time_9], [3,6,9],label='Sequential time')\n",
        "plt.plot([pool_time_3, pool_time_6, pool_time_9], [3,6,9],label='Parallel (Pool) time')\n",
        "plt.legend()"
      ],
      "execution_count": null,
      "outputs": [
        {
          "output_type": "execute_result",
          "data": {
            "text/plain": [
              "<matplotlib.legend.Legend at 0x7f13cb644e90>"
            ]
          },
          "metadata": {},
          "execution_count": 64
        },
        {
          "output_type": "display_data",
          "data": {
            "image/png": "[encoded data removed]",
            "text/plain": [
              "<Figure size 432x288 with 1 Axes>"
            ]
          },
          "metadata": {
            "needs_background": "light"
          }
        }
      ]
    },
    {
      "cell_type": "markdown",
      "metadata": {
        "id": "CHXbrSELJ0-6"
      },
      "source": [
        "**Speed Up**"
      ]
    },
    {
      "cell_type": "code",
      "metadata": {
        "colab": {
          "base_uri": "https://localhost:8080/",
          "height": 312
        },
        "id": "P-YzNPqlTtnz",
        "outputId": "dbce6ab8-4e9c-496d-8a82-fda40496139a"
      },
      "source": [
        "import matplotlib.pyplot as plt\n",
        "import numpy as np\n",
        "plt.title(\"Sequential time Vs Parallel time\")\n",
        "plt.xlabel('Speed Up')\n",
        "plt.ylabel(\"Data Length\")\n",
        "plt.plot([seq_time_3 / pool_time_3, seq_time_6 / pool_time_6, seq_time_9 / pool_time_9], [3, 6, 9], label='Speed up')\n",
        "plt.legend()"
      ],
      "execution_count": null,
      "outputs": [
        {
          "output_type": "execute_result",
          "data": {
            "text/plain": [
              "<matplotlib.legend.Legend at 0x7f13cb60fb50>"
            ]
          },
          "metadata": {},
          "execution_count": 65
        },
        {
          "output_type": "display_data",
          "data": {
            "image/png": "[encoded data removed]",
            "text/plain": [
              "<Figure size 432x288 with 1 Axes>"
            ]
          },
          "metadata": {
            "needs_background": "light"
          }
        }
      ]
    },
    {
      "cell_type": "markdown",
      "metadata": {
        "id": "xlCQwwXbSSLu"
      },
      "source": [
        "#### **Object12:** Write a python program to convert Celsius to Fahrenhite in sequential and parallel using Pool class of multiprocessing and draw a elaspe time graph and speed up graph."
      ]
    },
    {
      "cell_type": "markdown",
      "metadata": {
        "id": "oO-dXi6-Insj"
      },
      "source": [
        "**Sequential** (Data length = 3)"
      ]
    },
    {
      "cell_type": "code",
      "metadata": {
        "colab": {
          "base_uri": "https://localhost:8080/"
        },
        "id": "QZtc2nOoWfeM",
        "outputId": "180068df-8daf-48fa-daba-8fd16f0472ed"
      },
      "source": [
        "import time\n",
        "from timeit import default_timer as timer\n",
        "from multiprocessing import Pool, cpu_count\n",
        "\n",
        "# calculate fahrenheit\n",
        "def fahrenheit(celsius):\n",
        "    time.sleep(0.1)\n",
        "    return (celsius * 1.8) + 32\n",
        "\n",
        "def main():\n",
        "    start = timer()\n",
        "    print(f'starting computations on {cpu_count()} cores')\n",
        "    celsius = (37, 45, 30)\n",
        "\n",
        "    res = list(map(fahrenheit, celsius))\n",
        "    print(res)\n",
        "    end = timer()\n",
        "    print(f'elapsed time: {end - start}')\n",
        "    return end - start\n",
        "\n",
        "if __name__ == '__main__':\n",
        "    seq_time_3 = main()"
      ],
      "execution_count": null,
      "outputs": [
        {
          "output_type": "stream",
          "name": "stdout",
          "text": [
            "starting computations on 2 cores\n",
            "[98.60000000000001, 113.0, 86.0]\n",
            "elapsed time: 0.30115399400028764\n"
          ]
        }
      ]
    },
    {
      "cell_type": "markdown",
      "metadata": {
        "id": "_bvlY6wlJ9R0"
      },
      "source": [
        "**Pool** (Data length = 3)"
      ]
    },
    {
      "cell_type": "code",
      "metadata": {
        "colab": {
          "base_uri": "https://localhost:8080/"
        },
        "id": "kH9LaezRSFuv",
        "outputId": "76246903-9233-42a6-ba6f-f1dd7d1387d6"
      },
      "source": [
        "import time\n",
        "import os\n",
        "from timeit import default_timer as timer\n",
        "from multiprocessing import Pool, cpu_count\n",
        "\n",
        "# calculate fahrenheit\n",
        "def fahrenheit(celsius):\n",
        "    time.sleep(1)\n",
        "    return (celsius * 1.8) + 32\n",
        "\n",
        "def main():\n",
        "    start = timer()\n",
        "    print(f'starting computations on {cpu_count()} cores')\n",
        "\n",
        "    celsius = (37, 45, 30)\n",
        "\n",
        "    with Pool() as pool:\n",
        "        res = pool.map(fahrenheit, celsius)\n",
        "        print(res)\n",
        "\n",
        "    end = timer()\n",
        "    print(f'elapsed time: {end - start}s')\n",
        "    return end - start\n",
        "\n",
        "if __name__ == '__main__':\n",
        "    pool_time_3 = main()"
      ],
      "execution_count": null,
      "outputs": [
        {
          "output_type": "stream",
          "name": "stdout",
          "text": [
            "starting computations on 2 cores\n",
            "[98.60000000000001, 113.0, 86.0]\n",
            "elapsed time: 2.138348231999771s\n"
          ]
        }
      ]
    },
    {
      "cell_type": "markdown",
      "metadata": {
        "id": "n5dVKGW6KC5f"
      },
      "source": [
        "**Sequential** (Data length = 6)"
      ]
    },
    {
      "cell_type": "code",
      "metadata": {
        "colab": {
          "base_uri": "https://localhost:8080/"
        },
        "id": "t8wiU3LNX2lj",
        "outputId": "49a3ba78-19f3-4a59-8db3-659c0e849a39"
      },
      "source": [
        "import time\n",
        "from timeit import default_timer as timer\n",
        "from multiprocessing import Pool, cpu_count\n",
        "\n",
        "# calculate fahrenheit\n",
        "def fahrenheit(celsius):\n",
        "    time.sleep(1)\n",
        "    return (celsius * 1.8) + 32\n",
        "\n",
        "def main():\n",
        "    start = timer()\n",
        "    print(f'starting computations on {cpu_count()} cores')\n",
        "    celsius = (37, 45, 30, 20, 10, 35)\n",
        "\n",
        "    res = list(map(fahrenheit, celsius))\n",
        "    print(res)\n",
        "    end = timer()\n",
        "    print(f'elapsed time: {end - start}')\n",
        "    return end - start\n",
        "\n",
        "if __name__ == '__main__':\n",
        "    seq_time_6 = main()"
      ],
      "execution_count": null,
      "outputs": [
        {
          "output_type": "stream",
          "name": "stdout",
          "text": [
            "starting computations on 2 cores\n",
            "[98.60000000000001, 113.0, 86.0, 68.0, 50.0, 95.0]\n",
            "elapsed time: 6.007951842999773\n"
          ]
        }
      ]
    },
    {
      "cell_type": "markdown",
      "metadata": {
        "id": "hPaCbM6iKL5u"
      },
      "source": [
        "**Pool** (Data length = 6)"
      ]
    },
    {
      "cell_type": "code",
      "metadata": {
        "colab": {
          "base_uri": "https://localhost:8080/"
        },
        "id": "Ou_TkyUPX2i0",
        "outputId": "3cde91a8-4f6b-4231-82d9-7f3850f0451e"
      },
      "source": [
        "import time\n",
        "import os\n",
        "from timeit import default_timer as timer\n",
        "from multiprocessing import Pool, cpu_count\n",
        "\n",
        "# calculate fahrenheit\n",
        "def fahrenheit(celsius):\n",
        "    time.sleep(1)\n",
        "    return (celsius * 1.8) + 32\n",
        "\n",
        "def main():\n",
        "    start = timer()\n",
        "    print(f'starting computations on {cpu_count()} cores')\n",
        "\n",
        "    celsius = (37, 45, 30, 20, 10, 35)\n",
        "\n",
        "    with Pool() as pool:\n",
        "        res = pool.map(fahrenheit, celsius)\n",
        "        print(res)\n",
        "\n",
        "    end = timer()\n",
        "    print(f'elapsed time: {end - start}s')\n",
        "    return end - start\n",
        "\n",
        "if __name__ == '__main__':\n",
        "    pool_time_6 = main()"
      ],
      "execution_count": null,
      "outputs": [
        {
          "output_type": "stream",
          "name": "stdout",
          "text": [
            "starting computations on 2 cores\n",
            "[98.60000000000001, 113.0, 86.0, 68.0, 50.0, 95.0]\n",
            "elapsed time: 3.1430771539999114s\n"
          ]
        }
      ]
    },
    {
      "cell_type": "markdown",
      "metadata": {
        "id": "e_ZgOwLbKR-e"
      },
      "source": [
        "**Sequential** (Data length = 9)"
      ]
    },
    {
      "cell_type": "code",
      "metadata": {
        "colab": {
          "base_uri": "https://localhost:8080/"
        },
        "id": "wqSVmAeCX2I-",
        "outputId": "0beba04b-3e79-49fa-e4ea-5e5b8cfe621e"
      },
      "source": [
        "import time\n",
        "import os\n",
        "from timeit import default_timer as timer\n",
        "from multiprocessing import Pool, cpu_count\n",
        "\n",
        "# calculate fahrenheit\n",
        "def fahrenheit(celsius):\n",
        "    time.sleep(1)\n",
        "    print(\"child process id:\", os.getpid())\n",
        "    return (celsius * 1.8) + 32\n",
        "\n",
        "def main():\n",
        "    start = timer()\n",
        "    print(f'starting computations on {cpu_count()} cores')\n",
        "    celsius = (37, 45, 30, 20, 10, 35, 25, 33, 29)\n",
        "    print(\"parent process id:\", os.getpid())\n",
        "    res = list(map(fahrenheit, celsius))\n",
        "    print(res)\n",
        "    end = timer()\n",
        "    print(f'elapsed time: {end - start}')\n",
        "    return end - start\n",
        "\n",
        "if __name__ == '__main__':\n",
        "    seq_time_9 = main()"
      ],
      "execution_count": null,
      "outputs": [
        {
          "output_type": "stream",
          "name": "stdout",
          "text": [
            "starting computations on 2 cores\n",
            "parent process id: 60\n",
            "child process id: 60\n",
            "child process id: 60\n",
            "child process id: 60\n",
            "child process id: 60\n",
            "child process id: 60\n",
            "child process id: 60\n",
            "child process id: 60\n",
            "child process id: 60\n",
            "child process id: 60\n",
            "[98.60000000000001, 113.0, 86.0, 68.0, 50.0, 95.0, 77.0, 91.4, 84.2]\n",
            "elapsed time: 9.017528281000068\n"
          ]
        }
      ]
    },
    {
      "cell_type": "markdown",
      "metadata": {
        "id": "j2geTSHgKVIe"
      },
      "source": [
        "**Pool** (Data length = 9)"
      ]
    },
    {
      "cell_type": "code",
      "metadata": {
        "colab": {
          "base_uri": "https://localhost:8080/"
        },
        "id": "qd-rorsAX18D",
        "outputId": "d9b34dbf-9fc1-4d3b-ac6e-b54d18daf99a"
      },
      "source": [
        "import time\n",
        "import os\n",
        "from timeit import default_timer as timer\n",
        "from multiprocessing import Pool, cpu_count\n",
        "\n",
        "# calculate fahrenheit\n",
        "def fahrenheit(celsius):\n",
        "    time.sleep(1)\n",
        "    print(\"child process id:\", os.getpid())\n",
        "    return (celsius * 1.8) + 32\n",
        "\n",
        "def main():\n",
        "    start = timer()\n",
        "    print(f'starting computations on {cpu_count()} cores')\n",
        "\n",
        "    celsius = (37, 45, 30, 20, 10, 35, 25, 33, 29)\n",
        "\n",
        "    print(\"parent process id:\", os.getpid())\n",
        "    with Pool() as pool:\n",
        "        res = pool.map(fahrenheit, celsius)\n",
        "        print(res)\n",
        "\n",
        "    end = timer()\n",
        "    print(f'elapsed time: {end - start}s')\n",
        "    return end - start\n",
        "\n",
        "if __name__ == '__main__':\n",
        "    pool_time_9 = main()"
      ],
      "execution_count": null,
      "outputs": [
        {
          "output_type": "stream",
          "name": "stdout",
          "text": [
            "starting computations on 2 cores\n",
            "parent process id: 60\n",
            "child process id: 1072\n",
            "child process id: 1073\n",
            "child process id: 1072\n",
            "child process id: 1073\n",
            "child process id: 1072\n",
            "child process id: 1073\n",
            "child process id: 1072\n",
            "child process id: 1073\n",
            "child process id: 1072\n",
            "[98.60000000000001, 113.0, 86.0, 68.0, 50.0, 95.0, 77.0, 91.4, 84.2]\n",
            "elapsed time: 5.145895502000258s\n"
          ]
        }
      ]
    },
    {
      "cell_type": "markdown",
      "metadata": {
        "id": "jUP-X971Jo7D"
      },
      "source": [
        "**Time Taken**"
      ]
    },
    {
      "cell_type": "code",
      "metadata": {
        "colab": {
          "base_uri": "https://localhost:8080/",
          "height": 312
        },
        "id": "TV74mHfgV67I",
        "outputId": "11bc6efc-9481-4f8e-f18a-72958111fd64"
      },
      "source": [
        "import matplotlib.pyplot as plt\n",
        "import numpy as np\n",
        "plt.title(\"Sequential time Vs Parallel time\")\n",
        "plt.xlabel('Time in second')\n",
        "plt.ylabel('Data length')\n",
        "plt.plot([seq_time_3, seq_time_6, seq_time_9], [3,6,9],label='Sequential time')\n",
        "plt.plot([pool_time_3, pool_time_6, pool_time_9], [3,6,9],label='Parallel (Pool) time')\n",
        "plt.legend()"
      ],
      "execution_count": null,
      "outputs": [
        {
          "output_type": "execute_result",
          "data": {
            "text/plain": [
              "<matplotlib.legend.Legend at 0x7f13cb52c090>"
            ]
          },
          "metadata": {},
          "execution_count": 72
        },
        {
          "output_type": "display_data",
          "data": {
            "image/png": "[encoded data removed]",
            "text/plain": [
              "<Figure size 432x288 with 1 Axes>"
            ]
          },
          "metadata": {
            "needs_background": "light"
          }
        }
      ]
    },
    {
      "cell_type": "markdown",
      "metadata": {
        "id": "_dY3QqP0JwEG"
      },
      "source": [
        "**Speed Up**"
      ]
    },
    {
      "cell_type": "code",
      "metadata": {
        "colab": {
          "base_uri": "https://localhost:8080/",
          "height": 312
        },
        "id": "XQ2w07vyZlFB",
        "outputId": "0b2aaa49-e5b1-489e-fd6d-627f30782c02"
      },
      "source": [
        "import matplotlib.pyplot as plt\n",
        "import numpy as np\n",
        "plt.title(\"Sequential time Vs Parallel time\")\n",
        "plt.xlabel('Speed Up')\n",
        "plt.ylabel(\"Data Length\")\n",
        "plt.plot([seq_time_3 / pool_time_3, seq_time_6 / pool_time_6, seq_time_9 / pool_time_9], [3, 6, 9], label='Speed up')\n",
        "plt.legend()"
      ],
      "execution_count": null,
      "outputs": [
        {
          "output_type": "execute_result",
          "data": {
            "text/plain": [
              "<matplotlib.legend.Legend at 0x7f13cb53d0d0>"
            ]
          },
          "metadata": {},
          "execution_count": 73
        },
        {
          "output_type": "display_data",
          "data": {
            "image/png": "[encoded data removed]",
            "text/plain": [
              "<Figure size 432x288 with 1 Axes>"
            ]
          },
          "metadata": {
            "needs_background": "light"
          }
        }
      ]
    },
    {
      "cell_type": "markdown",
      "metadata": {
        "id": "sHvkeMBWBIrB"
      },
      "source": [
        "####**Object13:** Write a program to find whether the square of a number is even or odd by using the process and pool class and also draw the all posible graphs"
      ]
    },
    {
      "cell_type": "code",
      "metadata": {
        "colab": {
          "base_uri": "https://localhost:8080/"
        },
        "id": "jcvdY0QXBLQc",
        "outputId": "703c21d8-fadc-44c5-931b-03d416e0fda9"
      },
      "source": [
        "import time\n",
        "from timeit import default_timer as timer\n",
        "from multiprocessing import Pool, cpu_count, Process\n",
        "import os\n",
        "import math\n",
        "\n",
        "def Square(x):\n",
        "  time.sleep(1)\n",
        "  sqr= x ** 2\n",
        "  print(\"Child process id:\", os.getpid())\n",
        "  if x % 2 == 0:\n",
        "    return 'even'\n",
        "  else:\n",
        "    return 'odd'\n",
        "\n",
        "def pool():\n",
        "  start = timer()\n",
        "  print(f'starting computations on {cpu_count()} cores')\n",
        "  squareList=[4,16,33]\n",
        "  print(\"Length of items in squareList: \",len(squareList))\n",
        "  print(\"Parent process id:\", os.getpid())\n",
        "  with Pool() as pool:\n",
        "    res=list(pool.map(Square,squareList))\n",
        "    print(res)\n",
        "  end = timer()\n",
        "  print(f'elapsed time: {end - start}')\n",
        "  return end - start\n",
        "\n",
        "def process():\n",
        "    start = timer()\n",
        "    print(f'starting computations on {cpu_count()} cores')\n",
        "    squareList=[4,16,33]\n",
        "    print(\"Length of items in squareList: \",len(squareList))\n",
        "    print(\"Parent process id:\", os.getpid())\n",
        "    procs = []\n",
        "\n",
        "    # instantiating process with arguments\n",
        "    for num in squareList:\n",
        "        proc = Process(target=Square, args=(num,))\n",
        "        procs.append(proc)\n",
        "        proc.start()\n",
        "\n",
        "    # complete the processes\n",
        "    for proc in procs:\n",
        "        proc.join()\n",
        "    \n",
        "    end = timer()\n",
        "    print(f'elapsed time: {end - start}')\n",
        "    return end - start\n",
        "\n",
        "print(\"Pool Class...\")\n",
        "pool_time = pool()\n",
        "\n",
        "print(\"\\n---------------\")\n",
        "print(\"Process Class.....\")\n",
        "process_time = process()"
      ],
      "execution_count": null,
      "outputs": [
        {
          "output_type": "stream",
          "name": "stdout",
          "text": [
            "Pool Class...\n",
            "starting computations on 2 cores\n",
            "Length of items in squareList:  3\n",
            "Parent process id: 60\n",
            "Child process id: 1169\n",
            "Child process id: 1170\n",
            "Child process id: 1169\n",
            "['even', 'even', 'odd']\n",
            "elapsed time: 2.1388949839993074\n",
            "\n",
            "---------------\n",
            "Process Class.....\n",
            "starting computations on 2 cores\n",
            "Length of items in squareList:  3\n",
            "Parent process id: 60\n",
            "Child process id: 1180\n",
            "Child process id: 1181\n",
            "Child process id: 1182\n",
            "elapsed time: 1.060942437000449\n"
          ]
        }
      ]
    },
    {
      "cell_type": "markdown",
      "metadata": {
        "id": "vmtthIH4KelJ"
      },
      "source": [
        "**Time Taken**"
      ]
    },
    {
      "cell_type": "code",
      "metadata": {
        "colab": {
          "base_uri": "https://localhost:8080/",
          "height": 281
        },
        "id": "9mV7UOEm9rM5",
        "outputId": "c7550e8d-47a8-4cba-80a8-5a35c1323563"
      },
      "source": [
        "import matplotlib.pyplot as plt\n",
        "\n",
        "_ = plt.ylabel('Time taken in seconds')\n",
        "_ = plt.title('Pool vs Process')\n",
        "_ = plt.bar(['Pool', 'Process'], [pool_time, process_time])"
      ],
      "execution_count": null,
      "outputs": [
        {
          "output_type": "display_data",
          "data": {
            "image/png": "[encoded data removed]",
            "text/plain": [
              "<Figure size 432x288 with 1 Axes>"
            ]
          },
          "metadata": {
            "needs_background": "light"
          }
        }
      ]
    },
    {
      "cell_type": "markdown",
      "metadata": {
        "id": "7KBNS9d6ahgo"
      },
      "source": [
        "#### **Q1:** Write differences between pool and process class\n",
        "\n",
        "**Ans:** \n",
        "\n",
        "**Pool:**\n",
        "\n",
        "1) When you have junk of data, you can use Pool class.\n",
        "\n",
        "2) Only the process under executions are kept in the memory.\n",
        "\n",
        "3) I/O operation: It waits till the I/O operation is completed & does not schedule another process. This might increase the execution time.\n",
        "\n",
        "4) Uses FIFO scheduler.\n",
        "\n",
        "**Process:**\n",
        "\n",
        "1) When you have a small data or functions and less repetitive tasks to do.\n",
        "\n",
        "2) It puts all the process in the memory. Hence in the larger task, it might cause to loss of memory.\n",
        "\n",
        "3) I/O operation: The process class suspends the process executing I/O operations and schedule another process parallel.\n",
        "\n",
        "4) Uses FIFO scheduler.\n",
        "\n",
        "#### **Q2:** what are the join() and start() class\n",
        "\n",
        "**Ans:**  There are two important functions that belongs to the Process class – start() and join() function.\n",
        "\n",
        "At first, we need to write a function, that will be run by the process. Then, we need to instantiate a process object.\n",
        "\n",
        "If we create a process object, nothing will happen until we tell it to start processing via start() function. Then, the process will run and return its result. After that we tell the process to complete via join() function.\n",
        "\n",
        "Without join() function call, process will remain idle and won’t terminate."
      ]
    },
    {
      "cell_type": "markdown",
      "metadata": {
        "id": "M10XLMka-zcj"
      },
      "source": [
        "---\n",
        "---\n",
        "### Date: 06/10/2021"
      ]
    },
    {
      "cell_type": "markdown",
      "metadata": {
        "id": "5l0b5zo_CtQw"
      },
      "source": [
        "---\n",
        "####**Q1:** What are the modules used to implement the linear regression algorithm on multicore gpu in python?\n",
        "\n",
        "**Ans: scikit-learn(sklearn)** is a widely used Python library for machine learning, built on top of NumPy and some other packages. It provides the means for preprocessing data, reducing dimensionality, implementing regression, classification, clustering, and more. Like NumPy, scikit-learn is also open source.\n",
        "\n",
        "**statsmodels** is a powerful Python package for the estimation of statistical models, performing tests, and more. It functionality beyond the scope of scikit-learn. It’s open source as well.\n",
        "\n",
        "---\n",
        "####**Q2:** What are the differences between the classification and regression in machine learning?\n",
        "\n",
        "**Ans: Classification:**\n",
        "\n",
        "1) In Classification, the output variable must be a discrete value.\n",
        "\n",
        "2) The task of the classification algorithm is to map the input value(x) with the discrete output variable(y).\n",
        "\n",
        "3) The Classification algorithms can be divided into Binary Classifier and Multi-class Classifier.\n",
        "\n",
        "4) In Classification, we try to find the decision boundary, which can divide the dataset into different classes.\n",
        "\n",
        "5) Different Algorithms -- (i) Logistic Regression, (ii) K-Nearest Neighbours, (iii) Support Vector Machines, (iv) Kernel SVM, (v) Naïve Bayes, (vi) Decision Tree Classification, (vii) Random Forest Classification\n",
        "\n",
        "**Regression:**\n",
        "\n",
        "1) In Regression, the output variable must be of continuous nature or real value.\n",
        "\n",
        "2) The task of the regression algorithm is to map the input value (x) with the continuous output variable(y).\n",
        "\n",
        "3) The regression Algorithm can be further divided into Linear and Non-linear Regression.\n",
        "\n",
        "4) In Regression, we try to find the best fit line, which can predict the output more accurately.\n",
        "\n",
        "5) Different Algorithms -- (i) Simple Linear Regression, (ii) Multiple Linear Regression, (iii) Polynomial Regression, (iv) Support Vector Regression, (v) Decision Tree Regression, (vi) Random Forest Regression\n",
        "\n",
        "---\n",
        "####**Q3:** How to simulate the linear regression supervised machine learning algorithm on the multicore cpu or gpu?"
      ]
    },
    {
      "cell_type": "code",
      "metadata": {
        "colab": {
          "base_uri": "https://localhost:8080/"
        },
        "id": "mTMN-q_lVC-R",
        "outputId": "a496e344-a6e1-4048-b065-5551c23cee56"
      },
      "source": [
        "from pandas import DataFrame\n",
        "import statsmodels.api as sm\n",
        "\n",
        "Stock_Market = {'Year': [2017, 2017, 2017, 2016, 2016, 2016],\n",
        "                'Month': [12, 11, 10, 3, 2, 1],\n",
        "                'Interest_Rate': [2.75,2.5,2.25, 1.75, 1.85, 1.95],\n",
        "                'Unemployment_Rate': [5.3, 5.4,5.6,5.8,6.2,6.1],\n",
        "                'Stock_Index_Price': [1464,1394,1357,971,949,719]        \n",
        "                }\n",
        "\n",
        "df = DataFrame(Stock_Market,columns=['Year','Month','Interest_Rate','Unemployment_Rate','Stock_Index_Price']) \n",
        "\n",
        "X = df[['Interest_Rate','Unemployment_Rate']]\n",
        "Y = df['Stock_Index_Price']\n",
        "\n",
        "X = sm.add_constant(X) # adding a constant\n",
        "\n",
        "model = sm.OLS(Y, X).fit()\n",
        "predictions = model.predict(X) \n",
        "\n",
        "print_model = model.summary()\n",
        "print(print_model)"
      ],
      "execution_count": null,
      "outputs": [
        {
          "output_type": "stream",
          "name": "stdout",
          "text": [
            "                            OLS Regression Results                            \n",
            "==============================================================================\n",
            "Dep. Variable:      Stock_Index_Price   R-squared:                       0.854\n",
            "Model:                            OLS   Adj. R-squared:                  0.757\n",
            "Method:                 Least Squares   F-statistic:                     8.789\n",
            "Date:                Sat, 20 Nov 2021   Prob (F-statistic):             0.0557\n",
            "Time:                        07:11:17   Log-Likelihood:                -36.471\n",
            "No. Observations:                   6   AIC:                             78.94\n",
            "Df Residuals:                       3   BIC:                             78.32\n",
            "Df Model:                           2                                         \n",
            "Covariance Type:            nonrobust                                         \n",
            "=====================================================================================\n",
            "                        coef    std err          t      P>|t|      [0.025      0.975]\n",
            "-------------------------------------------------------------------------------------\n",
            "const              3971.8386   2790.646      1.423      0.250   -4909.241    1.29e+04\n",
            "Interest_Rate       199.2965    343.207      0.581      0.602    -892.942    1291.535\n",
            "Unemployment_Rate  -569.1236    369.097     -1.542      0.221   -1743.754     605.507\n",
            "==============================================================================\n",
            "Omnibus:                          nan   Durbin-Watson:                   2.628\n",
            "Prob(Omnibus):                    nan   Jarque-Bera (JB):                0.302\n",
            "Skew:                          -0.085   Prob(JB):                        0.860\n",
            "Kurtosis:                       1.914   Cond. No.                         289.\n",
            "==============================================================================\n",
            "\n",
            "Warnings:\n",
            "[1] Standard Errors assume that the covariance matrix of the errors is correctly specified.\n"
          ]
        },
        {
          "output_type": "stream",
          "name": "stderr",
          "text": [
            "/usr/local/lib/python3.7/dist-packages/statsmodels/stats/stattools.py:71: ValueWarning: omni_normtest is not valid with less than 8 observations; 6 samples were given.\n",
            "  \"samples were given.\" % int(n), ValueWarning)\n"
          ]
        }
      ]
    },
    {
      "cell_type": "markdown",
      "metadata": {
        "id": "XQVO1wrvXc6R"
      },
      "source": [
        "##**Interpreting the Regression Results**\n",
        "\n",
        "**Adjusted R-squared** reflects the fit of the model. R-squared values range from 0 to 1, where a higher value generally indicates a better fit, assuming certain conditions are met.\n",
        "\n",
        "**const coefficient** is your Y-intercept. It means that if both the Interest_Rate and Unemployment_Rate coefficients are zero, then the expected output (i.e., the Y) would be equal to the const coefficient.\n",
        "\n",
        "**Interest_Rate** coefficient represents the change in the output Y due to a change of one unit in the interest rate (everything else held constant)\n",
        "\n",
        "**Unemployment_Rate** coefficient represents the change in the output Y due to a change of one unit in the unemployment rate (everything else held constant)\n",
        "std err reflects the level of accuracy of the coefficients. The lower it is, the higher is the level of accuracy\n",
        "\n",
        "**P >|t|** is your p-value. A p-value of less than 0.05 is considered to be statistically significant\n",
        "\n",
        "**Confidence Interval** represents the range in which our coefficients are likely to fall (with a likelihood of 95%)\n",
        "\n",
        "---\n",
        "####**Q4:** Simulate the logistics regression supervised machine learning algorithm on the multicore cpu or gpu?"
      ]
    },
    {
      "cell_type": "code",
      "metadata": {
        "colab": {
          "base_uri": "https://localhost:8080/",
          "height": 1000
        },
        "id": "omgmkisiYfma",
        "outputId": "6a8042d6-239e-4774-ef4c-2c1591d6b6e7"
      },
      "source": [
        "# Step 1: Import packages, functions, and classes\n",
        "import numpy as np\n",
        "import time\n",
        "from sklearn.linear_model import LogisticRegression\n",
        "from sklearn.metrics import classification_report, confusion_matrix\n",
        "import matplotlib.pyplot as plt\n",
        "\n",
        "print(\"USING SKLEARRN\")\n",
        "# Step 2: Get data\n",
        "x = np.arange(10).reshape(-1, 1)\n",
        "y = np.array([0, 1, 0, 0, 1, 1, 1, 1, 1, 1])\n",
        "\n",
        "timetaken = []\n",
        "# n_cores = mp.cpu_count()\n",
        "n_cores = np.array([1, 2, 3])\n",
        "\n",
        "# Step 3: Create a model and train it\n",
        "for n in n_cores:\n",
        "  start = time.time()\n",
        "  model = LogisticRegression(solver='lbfgs',  C=1.0, random_state=0, n_jobs=n).fit(x, y)\n",
        "  end = time.time()\n",
        "  elapsedtime = end - start\n",
        "  timetaken.append(elapsedtime)\n",
        "\n",
        "# Step 4: Evaluate the model\n",
        "p_pred = model.predict_proba(x)\n",
        "y_pred = model.predict(x)\n",
        "score_ = model.score(x, y)\n",
        "conf_m = confusion_matrix(y, y_pred)\n",
        "report = classification_report(y, y_pred)\n",
        "\n",
        "print('Time Taken:', timetaken)\n",
        "plt.xlabel('n_cores')\n",
        "plt.ylabel('time_taken')\n",
        "plt.plot(n_cores.astype('i'), timetaken)\n",
        "plt.show()\n",
        "print('\\n-----------')\n",
        "print('Probability Prediction:')\n",
        "print(p_pred)\n",
        "print('\\n-----------')\n",
        "print('Prediction:', y_pred)\n",
        "print('\\n-----------')\n",
        "print('Score:', score_)\n",
        "print('\\n-----------')\n",
        "print('Confusion Metrix:')\n",
        "print(conf_m)\n",
        "print('\\n-----------')\n",
        "print('Report:')\n",
        "print(report)\n",
        "\n",
        "\n",
        "print(\"\\n\\nUSING STATSMODEL\\n\")\n",
        "import numpy as np\n",
        "import statsmodels.api as sm\n",
        "\n",
        "x = np.arange(10).reshape(-1, 1)\n",
        "y = np.array([0, 1, 0, 0, 1, 1, 1, 1, 1, 1])\n",
        "x = sm.add_constant(x)\n",
        "\n",
        "model = sm.Logit(y, x)\n",
        "result = model.fit(method='newton')\n",
        "pred = result.predict(x)\n",
        "(result.predict(x) >= 0.5).astype(int)\n",
        "conf_m_ = result.pred_table()\n",
        "summary_ = result.summary()\n",
        "\n",
        "print('Prediction:', pred)\n",
        "print('\\n-----------')\n",
        "print('Confusion Metrix:')\n",
        "print(conf_m_)\n",
        "print('\\n-----------')\n",
        "print('Summary:')\n",
        "print(summary_)"
      ],
      "execution_count": null,
      "outputs": [
        {
          "output_type": "stream",
          "name": "stdout",
          "text": [
            "USING SKLEARRN\n",
            "Time Taken: [0.004339694976806641, 0.09823298454284668, 0.41942334175109863]\n"
          ]
        },
        {
          "output_type": "display_data",
          "data": {
            "image/png": "[encoded data removed]",
            "text/plain": [
              "<Figure size 432x288 with 1 Axes>"
            ]
          },
          "metadata": {
            "needs_background": "light"
          }
        },
        {
          "output_type": "stream",
          "name": "stdout",
          "text": [
            "\n",
            "-----------\n",
            "Probability Prediction:\n",
            "[[0.82342602 0.17657398]\n",
            " [0.70490444 0.29509556]\n",
            " [0.55027758 0.44972242]\n",
            " [0.38528429 0.61471571]\n",
            " [0.24302808 0.75697192]\n",
            " [0.14122896 0.85877104]\n",
            " [0.0776946  0.9223054 ]\n",
            " [0.04136555 0.95863445]\n",
            " [0.02162523 0.97837477]\n",
            " [0.0111953  0.9888047 ]]\n",
            "\n",
            "-----------\n",
            "Prediction: [0 0 0 1 1 1 1 1 1 1]\n",
            "\n",
            "-----------\n",
            "Score: 0.8\n",
            "\n",
            "-----------\n",
            "Confusion Metrix:\n",
            "[[2 1]\n",
            " [1 6]]\n",
            "\n",
            "-----------\n",
            "Report:\n",
            "              precision    recall  f1-score   support\n",
            "\n",
            "           0       0.67      0.67      0.67         3\n",
            "           1       0.86      0.86      0.86         7\n",
            "\n",
            "    accuracy                           0.80        10\n",
            "   macro avg       0.76      0.76      0.76        10\n",
            "weighted avg       0.80      0.80      0.80        10\n",
            "\n",
            "\n",
            "\n",
            "USING STATSMODEL\n",
            "\n",
            "Optimization terminated successfully.\n",
            "         Current function value: 0.350471\n",
            "         Iterations 7\n",
            "Prediction: [0.12208792 0.24041529 0.41872657 0.62114189 0.78864861 0.89465521\n",
            " 0.95080891 0.97777369 0.99011108 0.99563083]\n",
            "\n",
            "-----------\n",
            "Confusion Metrix:\n",
            "[[2. 1.]\n",
            " [1. 6.]]\n",
            "\n",
            "-----------\n",
            "Summary:\n",
            "                           Logit Regression Results                           \n",
            "==============================================================================\n",
            "Dep. Variable:                      y   No. Observations:                   10\n",
            "Model:                          Logit   Df Residuals:                        8\n",
            "Method:                           MLE   Df Model:                            1\n",
            "Date:                Wed, 13 Oct 2021   Pseudo R-squ.:                  0.4263\n",
            "Time:                        03:17:40   Log-Likelihood:                -3.5047\n",
            "converged:                       True   LL-Null:                       -6.1086\n",
            "Covariance Type:            nonrobust   LLR p-value:                   0.02248\n",
            "==============================================================================\n",
            "                 coef    std err          z      P>|z|      [0.025      0.975]\n",
            "------------------------------------------------------------------------------\n",
            "const         -1.9728      1.737     -1.136      0.256      -5.377       1.431\n",
            "x1             0.8224      0.528      1.557      0.119      -0.213       1.858\n",
            "==============================================================================\n"
          ]
        }
      ]
    },
    {
      "cell_type": "markdown",
      "metadata": {
        "id": "0chyRBgdsBeS"
      },
      "source": [
        "####**Object:** Print the Ids of Child and Parent"
      ]
    },
    {
      "cell_type": "code",
      "metadata": {
        "colab": {
          "base_uri": "https://localhost:8080/"
        },
        "id": "pYfLGhuUFYN2",
        "outputId": "ce0583e6-d629-4d85-8a0c-51e8b5c9a231"
      },
      "source": [
        "from multiprocessing import Process\n",
        "import os\n",
        "\n",
        "def fun():\n",
        "\n",
        "    print('--------------------------')\n",
        "\n",
        "    print('calling fun')\n",
        "    print('parent process id:', os.getppid())\n",
        "    print('process id:', os.getpid())\n",
        "\n",
        "def main():\n",
        "\n",
        "    print('main fun')\n",
        "    print('process id:', os.getpid())\n",
        "\n",
        "    p1 = Process(target=fun)\n",
        "    p1.start()\n",
        "    p1.join()\n",
        "\n",
        "    p2 = Process(target=fun)\n",
        "    p2.start()\n",
        "    p2.join()\n",
        "\n",
        "\n",
        "if __name__ == '__main__':\n",
        "    main()"
      ],
      "execution_count": null,
      "outputs": [
        {
          "name": "stdout",
          "output_type": "stream",
          "text": [
            "main fun\n",
            "process id: 64\n",
            "--------------------------\n",
            "calling fun\n",
            "parent process id: 64\n",
            "process id: 259\n",
            "--------------------------\n",
            "calling fun\n",
            "parent process id: 64\n",
            "process id: 268\n"
          ]
        }
      ]
    },
    {
      "cell_type": "markdown",
      "metadata": {
        "id": "MNbz8fehPd5p"
      },
      "source": [
        "####**Object:** Write a program to square and cube of a list using Process class of multiprocessing module"
      ]
    },
    {
      "cell_type": "markdown",
      "metadata": {
        "id": "pkYtJh3oMlxm"
      },
      "source": [
        "data length = 1"
      ]
    },
    {
      "cell_type": "code",
      "metadata": {
        "colab": {
          "base_uri": "https://localhost:8080/",
          "height": 399
        },
        "id": "viuQoeMlbdbM",
        "outputId": "799f1418-9716-43fb-e7df-12f8e504a1e9"
      },
      "source": [
        "import multiprocessing as mp \n",
        "import os \n",
        "import time\n",
        "from timeit import default_timer as timer\n",
        "import matplotlib.pyplot as plt\n",
        "\n",
        "def square(n): \n",
        "    print(\"Worker process id for {0}: {1}\".format(n, os.getpid())) \n",
        "    print(n*n)\n",
        "    \n",
        "def cube(n):\n",
        "    print(\"Worker process id for {0}: {1}\".format(n, os.getpid()))\n",
        "    print(n*n*n) \n",
        "  \n",
        "if __name__ == \"__main__\":  \n",
        "    start=timer()\n",
        "    #creating a process class\n",
        "    p1=mp.Process(target=square,args=(6,))\n",
        "    p2=mp.Process(target=cube,args=(4,))\n",
        "    p1.start()\n",
        "    p1.join()\n",
        "    end1=timer()-start\n",
        "    print(\"time taken by square  \" ,end1)\n",
        "    p2.start()\n",
        "    p2.join()\n",
        "    end2=timer()-start\n",
        "    print(\"time taken by cube  \" ,end2)\n",
        "    fig = plt.figure()\n",
        "    t = ['square', 'cube']\n",
        "    exe_time = [end1,end2]\n",
        "    plt.bar(t,exe_time, color ='green') \n",
        "    plt.xlabel(\"different functins\") \n",
        "    plt.ylabel(\"time taken\") \n",
        "    plt.title(\"time taken by square and cube function by process\")\n",
        "    plt.show()\n",
        "    process_time_1 = exe_time"
      ],
      "execution_count": null,
      "outputs": [
        {
          "output_type": "stream",
          "name": "stdout",
          "text": [
            "Worker process id for 6: 1578\n",
            "36\n",
            "time taken by square   0.030512742999235343\n",
            "Worker process id for 4: 1583\n",
            "64\n",
            "time taken by cube   0.06213742399995681\n"
          ]
        },
        {
          "output_type": "display_data",
          "data": {
            "image/png": "[encoded data removed]",
            "text/plain": [
              "<Figure size 432x288 with 1 Axes>"
            ]
          },
          "metadata": {
            "needs_background": "light"
          }
        }
      ]
    },
    {
      "cell_type": "markdown",
      "metadata": {
        "id": "YLSDtzoYMftJ"
      },
      "source": [
        "data length = 5"
      ]
    },
    {
      "cell_type": "code",
      "metadata": {
        "colab": {
          "base_uri": "https://localhost:8080/",
          "height": 677
        },
        "id": "lu3CRFSOFY-R",
        "outputId": "8b85f251-6594-4a12-bb2d-46b689841f87"
      },
      "source": [
        "import multiprocessing as mp \n",
        "import os \n",
        "import time\n",
        "from timeit import default_timer as timer\n",
        "import matplotlib.pyplot as plt\n",
        "\n",
        "def square(n): \n",
        "    print(\"Worker process id for {0}: {1}\".format(n, os.getpid())) \n",
        "    print(n*n)\n",
        "\n",
        "def cube(n):\n",
        "    print(\"Worker process id for {0}: {1}\".format(n, os.getpid())) \n",
        "    print(n*n*n) \n",
        "  \n",
        "if __name__ == \"__main__\":  \n",
        "    start=timer()\n",
        "    #creating a process class\n",
        "    lst = [6,4,5,6,7]\n",
        "    p1 = []\n",
        "\n",
        "    # instantiating process with arguments\n",
        "    for num in lst:\n",
        "        proc = mp.Process(target=square, args=(num,))\n",
        "        p1.append(proc)\n",
        "        proc.start()\n",
        "\n",
        "    # complete the processes\n",
        "    for proc in p1:\n",
        "        proc.join()\n",
        "   \n",
        "    end1=timer()-start\n",
        "    print(\"time taken by square  \" ,end1)\n",
        "\n",
        "    p2 = []\n",
        "    # instantiating process with arguments\n",
        "    for num in lst:\n",
        "        proc = mp.Process(target=cube, args=(num,))\n",
        "        p2.append(proc)\n",
        "        proc.start()\n",
        "\n",
        "    # complete the processes\n",
        "    for proc in p2:\n",
        "        proc.join()\n",
        "    end2=timer()-start\n",
        "    print(\"time taken by cube  \" ,end2)\n",
        "\n",
        "    fig = plt.figure()\n",
        "    t = ['square', 'cube']\n",
        "    exe_time = [end1,end2]\n",
        "    plt.bar(t,exe_time, color ='green') \n",
        "    plt.xlabel(\"different functins\") \n",
        "    plt.ylabel(\"time taken\") \n",
        "    plt.title(\"time taken by square and cube function by process\")\n",
        "    plt.show()\n",
        "    process_time_5 = exe_time"
      ],
      "execution_count": null,
      "outputs": [
        {
          "output_type": "stream",
          "name": "stdout",
          "text": [
            "Worker process id for 6: 1520\n",
            "36\n",
            "Worker process id for 4: 1523\n",
            "Worker process id for 5: 1526\n",
            "Worker process id for 6: 1529\n",
            "25\n",
            "16\n",
            "36\n",
            "Worker process id for 7: 1532\n",
            "49\n",
            "time taken by square   0.1258676090001245\n",
            "Worker process id for 6: 1545\n",
            "216\n",
            "Worker process id for 4: 1546\n",
            "64\n",
            "Worker process id for 5: 1553\n",
            "125\n",
            "Worker process id for 6: 1556\n",
            "216\n",
            "Worker process id for 7: 1561\n",
            "343\n",
            "time taken by cube   0.24906476599971938\n"
          ]
        },
        {
          "output_type": "display_data",
          "data": {
            "image/png": "[encoded data removed]",
            "text/plain": [
              "<Figure size 432x288 with 1 Axes>"
            ]
          },
          "metadata": {
            "needs_background": "light"
          }
        }
      ]
    },
    {
      "cell_type": "markdown",
      "metadata": {
        "id": "Uu4O18UOTYVT"
      },
      "source": [
        "##### Write a program to square and cube of a list using Pool class of multiprocessing module"
      ]
    },
    {
      "cell_type": "markdown",
      "metadata": {
        "id": "9olX9CdBM1DI"
      },
      "source": [
        "data length = 1"
      ]
    },
    {
      "cell_type": "code",
      "metadata": {
        "colab": {
          "base_uri": "https://localhost:8080/",
          "height": 399
        },
        "id": "h_m3X87ARAVj",
        "outputId": "0efa0e0f-b626-46d8-c37a-374cf6e529f8"
      },
      "source": [
        "import multiprocessing as mp \n",
        "import os \n",
        "import time\n",
        "from timeit import default_timer as timer\n",
        "import matplotlib.pyplot as plt\n",
        "\n",
        "def square(n): \n",
        "    print(\"Worker process id for {0}: {1}\".format(n, os.getpid())) \n",
        "    print(n*n)\n",
        "\n",
        "def cube(n):\n",
        "    print(\"Worker process id for {0}: {1}\".format(n, os.getpid())) \n",
        "    print(n*n*n) \n",
        "  \n",
        "if __name__ == \"__main__\":  \n",
        "    start=timer()\n",
        "    #creating a pool class\n",
        "    p1 = mp.Pool().map(square, (6,))\n",
        "    end1=timer()-start\n",
        "    print(\"time taken by square  \" ,end1)\n",
        "\n",
        "    start=timer()\n",
        "    p2 = mp.Pool().map(cube, (6,))\n",
        "    end2=timer()-start\n",
        "    print(\"time taken by cube  \" ,end2)\n",
        "\n",
        "    fig = plt.figure()\n",
        "    t = ['square', 'cube']\n",
        "    exe_time = [end1,end2]\n",
        "    plt.bar(t,exe_time, color ='green') \n",
        "    plt.xlabel(\"different functins\") \n",
        "    plt.ylabel(\"time taken\") \n",
        "    plt.title(\"time taken by square and cube function by pool\")\n",
        "    plt.show()\n",
        "    pool_time_1 = exe_time"
      ],
      "execution_count": null,
      "outputs": [
        {
          "output_type": "stream",
          "name": "stdout",
          "text": [
            "Worker process id for 6: 1496\n",
            "36\n",
            "time taken by square   0.04987696399984998\n",
            "Worker process id for 6: 1505\n",
            "216\n",
            "time taken by cube   0.0459250180001618\n"
          ]
        },
        {
          "output_type": "display_data",
          "data": {
            "image/png": "[encoded data removed]",
            "text/plain": [
              "<Figure size 432x288 with 1 Axes>"
            ]
          },
          "metadata": {
            "needs_background": "light"
          }
        }
      ]
    },
    {
      "cell_type": "markdown",
      "metadata": {
        "id": "0Ngx8sDnM4Lq"
      },
      "source": [
        "data length = 5"
      ]
    },
    {
      "cell_type": "code",
      "metadata": {
        "colab": {
          "base_uri": "https://localhost:8080/",
          "height": 521
        },
        "id": "MWOQH60TRqQP",
        "outputId": "ddd9b782-2cb7-4a5d-90aa-d98b9541962b"
      },
      "source": [
        "import time\n",
        "from timeit import default_timer as timer\n",
        "from multiprocessing import Pool, cpu_count\n",
        "\n",
        "def square(n):\n",
        "    print(\"Worker process id for {0}: {1}\".format(n, os.getpid())) \n",
        "    return n * n\n",
        "\n",
        "def cube(n):\n",
        "    print(\"Worker process id for {0}: {1}\".format(n, os.getpid())) \n",
        "    return n * n * n\n",
        "\n",
        "def main():\n",
        "    print(f'starting computations on {cpu_count()} cores')\n",
        "    values = [6,4,5,6,7]\n",
        "\n",
        "    start=timer()\n",
        "    #creating a pool class\n",
        "    p1 = mp.Pool().map(square, values)\n",
        "    end1=timer()-start\n",
        "    print(\"time taken by square  \" ,end1)\n",
        "\n",
        "    start=timer()\n",
        "    p2 = mp.Pool().map(cube, values)\n",
        "    end2=timer()-start\n",
        "    print(\"time taken by cube  \" ,end2)\n",
        "    \n",
        "    fig = plt.figure()\n",
        "    t = ['square', 'cube']\n",
        "    exe_time = [end1,end2]\n",
        "    plt.bar(t,exe_time, color ='green') \n",
        "    plt.xlabel(\"different functins\") \n",
        "    plt.ylabel(\"time taken\") \n",
        "    plt.title(\"time taken by square and cube function by pool\")\n",
        "    plt.show()\n",
        "    return exe_time\n",
        "\n",
        "if __name__ == '__main__':\n",
        "    pool_time_5 = main()"
      ],
      "execution_count": null,
      "outputs": [
        {
          "output_type": "stream",
          "name": "stdout",
          "text": [
            "starting computations on 2 cores\n",
            "Worker process id for 6: 1600\n",
            "Worker process id for 4: 1600\n",
            "Worker process id for 5: 1600\n",
            "Worker process id for 6: 1600\n",
            "Worker process id for 7: 1600\n",
            "time taken by square   0.05825326400008635\n",
            "Worker process id for 6: 1615\n",
            "Worker process id for 4: 1615\n",
            "Worker process id for 5: 1616\n",
            "Worker process id for 7: 1615\n",
            "Worker process id for 6: 1616\n",
            "time taken by cube   0.05651763499918161\n"
          ]
        },
        {
          "output_type": "display_data",
          "data": {
            "image/png": "[encoded data removed]",
            "text/plain": [
              "<Figure size 432x288 with 1 Axes>"
            ]
          },
          "metadata": {
            "needs_background": "light"
          }
        }
      ]
    },
    {
      "cell_type": "markdown",
      "metadata": {
        "id": "RL6n82ImWtGy"
      },
      "source": [
        "**Draw the line graph**"
      ]
    },
    {
      "cell_type": "code",
      "metadata": {
        "colab": {
          "base_uri": "https://localhost:8080/",
          "height": 312
        },
        "id": "fSI_uHLKWgJb",
        "outputId": "cfd72766-2f32-4fc0-a48e-3baea121fad7"
      },
      "source": [
        "import matplotlib.pyplot as plt\n",
        "import numpy as np\n",
        "\n",
        "plt.title(\"Process Class Time Vs Pool Class Time of square\")\n",
        "plt.xlabel('Time in second')\n",
        "plt.ylabel('Data length')\n",
        "plt.plot([process_time_1[0], process_time_5[0]], [1, 5], label='Process Class Time')\n",
        "plt.plot([pool_time_1[0], pool_time_5[0]], [1, 5], label='Pool Class Time')\n",
        "plt.legend()"
      ],
      "execution_count": null,
      "outputs": [
        {
          "output_type": "execute_result",
          "data": {
            "text/plain": [
              "<matplotlib.legend.Legend at 0x7f13abce2bd0>"
            ]
          },
          "metadata": {},
          "execution_count": 89
        },
        {
          "output_type": "display_data",
          "data": {
            "image/png": "[encoded data removed]",
            "text/plain": [
              "<Figure size 432x288 with 1 Axes>"
            ]
          },
          "metadata": {
            "needs_background": "light"
          }
        }
      ]
    },
    {
      "cell_type": "code",
      "metadata": {
        "colab": {
          "base_uri": "https://localhost:8080/",
          "height": 312
        },
        "id": "2s7JKtxkcM9x",
        "outputId": "0af2205c-28b4-4750-db58-394ef8352d08"
      },
      "source": [
        "import matplotlib.pyplot as plt\n",
        "import numpy as np\n",
        "\n",
        "plt.title(\"Process Class Time Vs Pool Class Time of Cube\")\n",
        "plt.xlabel('Time in second')\n",
        "plt.ylabel('Data length')\n",
        "plt.plot([process_time_1[1], process_time_5[1]], [1, 5], label='Process Class Time')\n",
        "plt.plot([pool_time_1[1], pool_time_5[1]], [1, 5], label='Pool Class Time')\n",
        "plt.legend()"
      ],
      "execution_count": null,
      "outputs": [
        {
          "output_type": "execute_result",
          "data": {
            "text/plain": [
              "<matplotlib.legend.Legend at 0x7f13abca2e90>"
            ]
          },
          "metadata": {},
          "execution_count": 90
        },
        {
          "output_type": "display_data",
          "data": {
            "image/png": "[encoded data removed]",
            "text/plain": [
              "<Figure size 432x288 with 1 Axes>"
            ]
          },
          "metadata": {
            "needs_background": "light"
          }
        }
      ]
    },
    {
      "cell_type": "markdown",
      "metadata": {
        "id": "ZpJJuqeAcB-c"
      },
      "source": [
        "####**Object:** Whether a number is odd or even using process class, pool class, multithreading class and sequencial manner and also simulate the time."
      ]
    },
    {
      "cell_type": "markdown",
      "metadata": {
        "id": "ULkDJZUVfrjd"
      },
      "source": [
        "**Sequential:**"
      ]
    },
    {
      "cell_type": "code",
      "metadata": {
        "colab": {
          "base_uri": "https://localhost:8080/"
        },
        "id": "ndwbFm8obx4j",
        "outputId": "74f74042-8fab-4e99-a670-d36be60a31c3"
      },
      "source": [
        "import multiprocessing as mp \n",
        "import os \n",
        "import time\n",
        "from timeit import default_timer as timer\n",
        "\n",
        "def res(n):\n",
        "  time.sleep(0.05)\n",
        "  m=n*n\n",
        "  if(m%2==0):\n",
        "    print(\"{} squared result is even\".format(n))\n",
        "  else:\n",
        "    print(\"{} squared result is odd\".format(n))\n",
        "\n",
        "if __name__ == \"__main__\": \n",
        "  mylist = [[5, 8, 11], [1, 4, 9, 15, 22, 30], [1, 4, 9, 15, 22, 30, 5, 8, 11]]\n",
        "  \n",
        "  #sequentially\n",
        "  print('sequentially')\n",
        "  seq_time = []\n",
        "  start=timer()\n",
        "\n",
        "  for lst in mylist:\n",
        "      time.sleep(0.05)\n",
        "      for i in lst:\n",
        "        p=i*i\n",
        "        if(p%2==0):\n",
        "          print(\"even\")\n",
        "        else:\n",
        "          print(\"odd\")\n",
        "      end1=timer() - start\n",
        "      seq_time.append(end1)\n",
        "  print('sequential time : ',seq_time)\n",
        "  print('\\n')"
      ],
      "execution_count": null,
      "outputs": [
        {
          "output_type": "stream",
          "name": "stdout",
          "text": [
            "sequentially\n",
            "odd\n",
            "even\n",
            "odd\n",
            "odd\n",
            "even\n",
            "odd\n",
            "odd\n",
            "even\n",
            "even\n",
            "odd\n",
            "even\n",
            "odd\n",
            "odd\n",
            "even\n",
            "even\n",
            "odd\n",
            "even\n",
            "odd\n",
            "sequential time :  [0.05091844699927606, 0.10135462700054632, 0.15186448100030248]\n",
            "\n",
            "\n"
          ]
        }
      ]
    },
    {
      "cell_type": "markdown",
      "metadata": {
        "id": "b-y59ccJf1iq"
      },
      "source": [
        "**Process:**"
      ]
    },
    {
      "cell_type": "code",
      "metadata": {
        "colab": {
          "base_uri": "https://localhost:8080/"
        },
        "id": "ewh-x6xDfFSL",
        "outputId": "322e8ada-e4e4-45c6-d988-49337118fb6a"
      },
      "source": [
        "import multiprocessing as mp \n",
        "import os \n",
        "import time\n",
        "from timeit import default_timer as timer\n",
        "\n",
        "print(\"USING PROCESS \")\n",
        "process_time = []\n",
        "start=timer()\n",
        "  #USING PROCESS CLASS\n",
        "for lst in mylist:\n",
        "    p2 = []\n",
        "    # instantiating process with arguments\n",
        "    for num in lst:\n",
        "        proc = mp.Process(target=res, args=(num,))\n",
        "        p2.append(proc)\n",
        "        proc.start()\n",
        "\n",
        "    # complete the processes\n",
        "    for proc in p2:\n",
        "        proc.join()\n",
        "    end2=timer()-start\n",
        "    process_time.append(end2)\n",
        "print(\"execution time in process class\", process_time)\n",
        "print(\"\\n\")"
      ],
      "execution_count": null,
      "outputs": [
        {
          "output_type": "stream",
          "name": "stdout",
          "text": [
            "USING PROCESS \n",
            "5 squared result is odd\n",
            "8 squared result is even\n",
            "11 squared result is odd\n",
            "1 squared result is odd\n",
            "4 squared result is even\n",
            "9 squared result is odd\n",
            "15 squared result is odd\n",
            "22 squared result is even\n",
            "30 squared result is even\n",
            "1 squared result is odd\n",
            "4 squared result is even\n",
            "9 squared result is odd\n",
            "22 squared result is even\n",
            "15 squared result is odd\n",
            "30 squared result is even\n",
            "5 squared result is odd\n",
            "8 squared result is even\n",
            "11 squared result is odd\n",
            "execution time in process class [0.1033031970000593, 0.2245213189999049, 0.41589740899871686]\n",
            "\n",
            "\n"
          ]
        }
      ]
    },
    {
      "cell_type": "markdown",
      "metadata": {
        "id": "rEP7kcjXf-5N"
      },
      "source": [
        "**Pool:**"
      ]
    },
    {
      "cell_type": "code",
      "metadata": {
        "colab": {
          "base_uri": "https://localhost:8080/"
        },
        "id": "lLVR0SJ-fKDA",
        "outputId": "5b0b12e7-ff16-4312-82f0-51bf77080861"
      },
      "source": [
        "import multiprocessing as mp \n",
        "import os \n",
        "import time\n",
        "from timeit import default_timer as timer\n",
        "\n",
        "print(\"USING POOL \")\n",
        "pool_time = []\n",
        "for lst in mylist:\n",
        "    start=timer()\n",
        "    #USING POOL CLASS\n",
        "    p1=mp.Pool().map(res, lst) \n",
        "    end3= timer() - start\n",
        "    pool_time.append(end3)\n",
        "print(\"execution time in pool class\", pool_time)\n",
        "print(\"\\n\")"
      ],
      "execution_count": null,
      "outputs": [
        {
          "output_type": "stream",
          "name": "stdout",
          "text": [
            "USING POOL \n",
            "8 squared result is even\n",
            "5 squared result is odd\n",
            "11 squared result is odd\n",
            "1 squared result is odd\n",
            "4 squared result is even\n",
            "9 squared result is odd\n",
            "15 squared result is odd\n",
            "22 squared result is even\n",
            "30 squared result is even\n",
            "1 squared result is odd\n",
            "9 squared result is odd\n",
            "4 squared result is even\n",
            "15 squared result is odd\n",
            "22 squared result is even\n",
            "5 squared result is odd\n",
            "30 squared result is even\n",
            "8 squared result is even\n",
            "11 squared result is odd\n",
            "execution time in pool class [0.140294527000151, 0.1883642789998703, 0.29421497299881594]\n",
            "\n",
            "\n"
          ]
        }
      ]
    },
    {
      "cell_type": "markdown",
      "metadata": {
        "id": "2UGrDqkQgBIb"
      },
      "source": [
        "**Multithreading:**"
      ]
    },
    {
      "cell_type": "code",
      "metadata": {
        "colab": {
          "base_uri": "https://localhost:8080/"
        },
        "id": "-aHwjYMHgECR",
        "outputId": "663b2696-8ead-48c5-906c-3bdc8b88f66b"
      },
      "source": [
        "import multiprocessing as mp \n",
        "import os \n",
        "import time\n",
        "from timeit import default_timer as timer\n",
        "import threading\n",
        "\n",
        "thread_time = []\n",
        "print(\"USING MULTITHREADING \")\n",
        "for lst in mylist:\n",
        "    thread = []\n",
        "    start=timer()\n",
        "    # instantiating process with arguments\n",
        "    for num in lst:\n",
        "        proc = threading.Thread(target=res, args=(num,))\n",
        "        thread.append(proc)\n",
        "        proc.start()\n",
        "\n",
        "    # complete the processes\n",
        "    for proc in thread:\n",
        "        proc.join()\n",
        "    end4=timer()-start\n",
        "    thread_time.append(end4)\n",
        "print(\"execution time : \", thread_time)"
      ],
      "execution_count": null,
      "outputs": [
        {
          "output_type": "stream",
          "name": "stdout",
          "text": [
            "USING MULTITHREADING \n",
            "5 squared result is odd\n",
            "11 squared result is odd8 squared result is even\n",
            "\n",
            "1 squared result is odd\n",
            "9 squared result is odd\n",
            "15 squared result is odd\n",
            "30 squared result is even4 squared result is even\n",
            "22 squared result is even\n",
            "\n",
            "1 squared result is odd4 squared result is even\n",
            "9 squared result is odd15 squared result is odd\n",
            "22 squared result is even\n",
            "5 squared result is odd\n",
            "11 squared result is odd\n",
            "\n",
            "8 squared result is even\n",
            "30 squared result is even\n",
            "\n",
            "execution time :  [0.053371650999906706, 0.05398761599826685, 0.05676543200024753]\n"
          ]
        }
      ]
    },
    {
      "cell_type": "code",
      "metadata": {
        "colab": {
          "base_uri": "https://localhost:8080/",
          "height": 279
        },
        "id": "l9HbzHGcVkSY",
        "outputId": "8ef28f6f-f450-40b7-dfe5-934af0e83434"
      },
      "source": [
        "import matplotlib.pyplot as plt\n",
        "import numpy as np\n",
        "\n",
        "plt.xlabel('Time Taken in seconds')\n",
        "plt.ylabel('Data Length')\n",
        "plt.plot(seq_time, [3, 6, 9], label=\"Sequential Time\")\n",
        "plt.plot(pool_time, [3, 6, 9], label='Pool Time')\n",
        "plt.plot(thread_time, [3, 6, 9], label='Multithreading Time')\n",
        "plt.plot(process_time, [3, 6, 9], label='Process Time')\n",
        "plt.legend()\n",
        "plt.show()"
      ],
      "execution_count": null,
      "outputs": [
        {
          "output_type": "display_data",
          "data": {
            "image/png": "[encoded data removed]",
            "text/plain": [
              "<Figure size 432x288 with 1 Axes>"
            ]
          },
          "metadata": {
            "needs_background": "light"
          }
        }
      ]
    },
    {
      "cell_type": "code",
      "metadata": {
        "colab": {
          "base_uri": "https://localhost:8080/",
          "height": 295
        },
        "id": "K9vqdF7DdEVq",
        "outputId": "a1dc91f2-5bb0-4df0-dc2b-081783416a48"
      },
      "source": [
        "import matplotlib.pyplot as plt\n",
        "import numpy as np\n",
        "\n",
        "plt.title(\"Speed Up Graph between Sequential, Pool, Process and MultiThreading\")\n",
        "plt.xlabel(\"Speed Up\")\n",
        "plt.plot([seq_time[0]/pool_time[0], seq_time[1]/pool_time[1], seq_time[2]/pool_time[2]], [3, 6, 9], label='Seq vs Pool')\n",
        "plt.plot([seq_time[0]/process_time[0], seq_time[1]/process_time[1], seq_time[2]/process_time[2]], [3, 6, 9], label='Seq vs Process')\n",
        "plt.plot([seq_time[0]/thread_time[0], seq_time[1]/thread_time[1], seq_time[2]/thread_time[2]], [3, 6, 9], label='Seq vs Multithreading')\n",
        "plt.legend()\n",
        "plt.show()"
      ],
      "execution_count": null,
      "outputs": [
        {
          "output_type": "display_data",
          "data": {
            "image/png": "[encoded data removed]",
            "text/plain": [
              "<Figure size 432x288 with 1 Axes>"
            ]
          },
          "metadata": {
            "needs_background": "light"
          }
        }
      ]
    },
    {
      "cell_type": "markdown",
      "metadata": {
        "id": "HP_Z4aOh_ypV"
      },
      "source": [
        "### Date: 13/10/2021"
      ]
    },
    {
      "cell_type": "code",
      "metadata": {
        "colab": {
          "base_uri": "https://localhost:8080/"
        },
        "id": "avAjEMLwfvkd",
        "outputId": "3c8837d4-c98f-4134-89a4-e6362efa7514"
      },
      "source": [
        "import multiprocessing as mp \n",
        "import os \n",
        "import time\n",
        "from timeit import default_timer as timer\n",
        "import threading\n",
        "\n",
        "print(\"USING MULTITHREADING \")\n",
        "\n",
        "def res(n):\n",
        "  #time.sleep(0.05)\n",
        "  m=n*n\n",
        "  if(m%2==0):\n",
        "    print(\"{} squared result is even \".format(n))\n",
        "  else:\n",
        "    print(\"{} squared result is odd \".format(n))\n",
        "start=timer()\n",
        "p1=threading.Thread(target=res,args=(4,)) #p1 gives an id ,not execute the function\n",
        "p2=threading.Thread(target=res,args=(5,))\n",
        "p1.start()\n",
        "p2.start()\n",
        "p1.join()\n",
        "p2.join()\n",
        "end4=timer() - start\n",
        "print(\"execution time : \", end4)"
      ],
      "execution_count": null,
      "outputs": [
        {
          "output_type": "stream",
          "name": "stdout",
          "text": [
            "USING MULTITHREADING \n",
            "4 squared result is even \n",
            "5 squared result is odd \n",
            "execution time :  0.008377916999961599\n"
          ]
        }
      ]
    },
    {
      "cell_type": "code",
      "metadata": {
        "colab": {
          "base_uri": "https://localhost:8080/",
          "height": 521
        },
        "id": "biBMhdn_hp_x",
        "outputId": "fb123aae-1226-42b3-a5ab-379deed0fe50"
      },
      "source": [
        "import multiprocessing as mp \n",
        "import os \n",
        "import time\n",
        "from timeit import default_timer as timer\n",
        "import threading\n",
        "\n",
        "print(\"USING MULTITHREADING \")\n",
        "mylist = [[4, 5], [1, 4, 9, 15], [1, 4, 9, 15, 22, 30]]\n",
        "\n",
        "def res(n):\n",
        "  time.sleep(0.05)\n",
        "  m=n*n\n",
        "  if(m%2==0):\n",
        "    print(\"{} squared result is even \".format(n))\n",
        "  else:\n",
        "    print(\"{} squared result is odd \".format(n))\n",
        "\n",
        "threads_time = []\n",
        "for lst in mylist:\n",
        "    thread = []\n",
        "    start=timer()\n",
        "    # instantiating process with arguments\n",
        "    for num in lst:\n",
        "        proc = threading.Thread(target=res, args=(num,))\n",
        "        thread.append(proc)\n",
        "        proc.start()\n",
        "\n",
        "    # complete the processes\n",
        "    for proc in thread:\n",
        "        proc.join()\n",
        "    end4=timer()-start\n",
        "    threads_time.append(end4)\n",
        "print(\"execution time : \", threads_time)\n",
        "\n",
        "import matplotlib.pyplot as plt\n",
        "import numpy as np\n",
        "\n",
        "plt.xlabel('Time Taken in seconds')\n",
        "plt.ylabel('Data Length')\n",
        "plt.plot(threads_time, [2, 4, 6], label='Multithreading Time')\n",
        "plt.legend()\n",
        "plt.show()"
      ],
      "execution_count": null,
      "outputs": [
        {
          "output_type": "stream",
          "name": "stdout",
          "text": [
            "USING MULTITHREADING \n",
            "4 squared result is even \n",
            "5 squared result is odd \n",
            "1 squared result is odd 9 squared result is odd 4 squared result is even \n",
            "15 squared result is odd \n",
            "\n",
            "\n",
            "1 squared result is odd \n",
            "22 squared result is even \n",
            "30 squared result is even 4 squared result is even \n",
            "15 squared result is odd \n",
            "\n",
            "9 squared result is odd \n",
            "execution time :  [0.05331176700019569, 0.05336715500015998, 0.05518056700020679]\n"
          ]
        },
        {
          "output_type": "display_data",
          "data": {
            "image/png": "[encoded data removed]",
            "text/plain": [
              "<Figure size 432x288 with 1 Axes>"
            ]
          },
          "metadata": {
            "needs_background": "light"
          }
        }
      ]
    },
    {
      "cell_type": "markdown",
      "metadata": {
        "id": "IbmIhFrnffnI"
      },
      "source": [
        "####**Q:** What is the reason to use **sleep** function in python. Explain with example.\n",
        "\n",
        "**Ans:** The sleep() function suspends execution of the current thread for a given number of seconds. The thread will block, but the process is still alive.\n",
        "\n",
        "In a single threaded application, this means everything is blocked while you sleep. In a multithreaded application, only the thread you explicitly 'sleep' will block and the other threads still run within the process."
      ]
    },
    {
      "cell_type": "code",
      "metadata": {
        "id": "9Tsc6rAsTCAK",
        "colab": {
          "base_uri": "https://localhost:8080/"
        },
        "outputId": "f8f0c233-02f2-4a0d-8caf-ed7949c43a40"
      },
      "source": [
        "import time\n",
        "from threading import Thread\n",
        "\n",
        "class worker(Thread):\n",
        "    def run(self):\n",
        "        for x in range(0,11):\n",
        "            print(x)\n",
        "            time.sleep(1)\n",
        "\n",
        "class waiter(Thread):\n",
        "    def run(self):\n",
        "        for x in range(100,103):\n",
        "            print(x)\n",
        "            time.sleep(5)\n",
        "\n",
        "def run():\n",
        "    worker().start()\n",
        "    waiter().start()\n",
        "\n",
        "run()"
      ],
      "execution_count": null,
      "outputs": [
        {
          "output_type": "stream",
          "name": "stdout",
          "text": [
            "0\n",
            "1\n",
            "2\n",
            "3\n",
            "4\n",
            "5\n",
            "6\n",
            "7\n",
            "8\n",
            "9\n",
            "10\n",
            "100\n",
            "101\n",
            "102\n"
          ]
        }
      ]
    },
    {
      "cell_type": "markdown",
      "metadata": {
        "id": "7X0lBYTYe2lK"
      },
      "source": [
        "---\n",
        "---\n",
        "### Date: 20/10/2021"
      ]
    },
    {
      "cell_type": "markdown",
      "metadata": {
        "id": "skoWrlFfebFu"
      },
      "source": [
        "##### **Q1:** Write a python code to fetch data as a list data structure from google drive or github."
      ]
    },
    {
      "cell_type": "code",
      "metadata": {
        "colab": {
          "base_uri": "https://localhost:8080/"
        },
        "id": "9rZw0Hnn6YWt",
        "outputId": "906ecec4-70e6-4328-aafc-6c073be7f3ad"
      },
      "source": [
        "from google.colab import drive\n",
        "drive.mount('/content/drive')"
      ],
      "execution_count": null,
      "outputs": [
        {
          "output_type": "stream",
          "name": "stdout",
          "text": [
            "Drive already mounted at /content/drive; to attempt to forcibly remount, call drive.mount(\"/content/drive\", force_remount=True).\n"
          ]
        }
      ]
    },
    {
      "cell_type": "code",
      "metadata": {
        "colab": {
          "base_uri": "https://localhost:8080/"
        },
        "id": "q1oHmUc0fCMh",
        "outputId": "eeef3e7f-d576-412b-ac47-c0e08c533e2c"
      },
      "source": [
        "import numpy as np\n",
        "mylist1 = np.loadtxt('/content/drive/MyDrive/datasets/mylist.txt', delimiter=\",\", dtype='i')\n",
        "mylist1"
      ],
      "execution_count": null,
      "outputs": [
        {
          "output_type": "execute_result",
          "data": {
            "text/plain": [
              "array([1, 2, 3, 4, 5, 6, 7, 8, 9], dtype=int32)"
            ]
          },
          "metadata": {},
          "execution_count": 92
        }
      ]
    },
    {
      "cell_type": "code",
      "metadata": {
        "colab": {
          "base_uri": "https://localhost:8080/"
        },
        "id": "IEf38QQDfDxj",
        "outputId": "8a6b2e7d-2e1e-49ee-f866-a8e4774c5383"
      },
      "source": [
        "import pandas as pd\n",
        "mylist2 = pd.read_csv('/content/drive/MyDrive/datasets/mylist.txt', sep=\",\", header=None)\n",
        "mylist2.to_numpy()"
      ],
      "execution_count": null,
      "outputs": [
        {
          "output_type": "execute_result",
          "data": {
            "text/plain": [
              "array([[1, 2, 3, 4, 5, 6, 7, 8, 9]])"
            ]
          },
          "metadata": {},
          "execution_count": 93
        }
      ]
    },
    {
      "cell_type": "code",
      "metadata": {
        "colab": {
          "base_uri": "https://localhost:8080/"
        },
        "id": "4jJJf0xfh7Me",
        "outputId": "e1fa6209-02e1-48e3-d551-f56801463a26"
      },
      "source": [
        "mylist3 = pd.read_table('/content/drive/MyDrive/datasets/mylist.txt', sep=',', header=None)\n",
        "mylist3.to_numpy()"
      ],
      "execution_count": null,
      "outputs": [
        {
          "output_type": "execute_result",
          "data": {
            "text/plain": [
              "array([[1, 2, 3, 4, 5, 6, 7, 8, 9]])"
            ]
          },
          "metadata": {},
          "execution_count": 94
        }
      ]
    },
    {
      "cell_type": "code",
      "metadata": {
        "colab": {
          "base_uri": "https://localhost:8080/"
        },
        "id": "LOc6j8-fiwlX",
        "outputId": "b9b4ecc8-6fcb-4a46-9eb9-635510daafa2"
      },
      "source": [
        "file = open('/content/drive/MyDrive/datasets/mylist.txt', 'r')\n",
        "\n",
        "for each in file:\n",
        "  final_list = list(each.split(\",\"))\n",
        "\n",
        "mylist4 = [int(i) for i in final_list]\n",
        "mylist4"
      ],
      "execution_count": null,
      "outputs": [
        {
          "output_type": "execute_result",
          "data": {
            "text/plain": [
              "[1, 2, 3, 4, 5, 6, 7, 8, 9]"
            ]
          },
          "metadata": {},
          "execution_count": 95
        }
      ]
    },
    {
      "cell_type": "markdown",
      "metadata": {
        "id": "C_gBb-FIpz5f"
      },
      "source": [
        "##### Write a python program to find out the factorail of **n number** in sequential, parallel and multiprocessing and data should be read from the google drive. Draw the comparision graph between them."
      ]
    },
    {
      "cell_type": "code",
      "metadata": {
        "colab": {
          "base_uri": "https://localhost:8080/"
        },
        "id": "Cbi4YzY_9i3c",
        "outputId": "99e4263a-00b2-40fa-a899-18bfc2ab3320"
      },
      "source": [
        "mylist5 = []\n",
        "lst1 = []\n",
        "lst2 = []\n",
        "lst3 = []\n",
        "for i, v in enumerate(mylist4):\n",
        "  if i > 8:\n",
        "    lst3.append(v)\n",
        "  elif i > 2:\n",
        "    lst2.append(v)\n",
        "  else:\n",
        "    lst1.append(v)\n",
        "mylist5.append(lst1)\n",
        "mylist5.append(lst2)\n",
        "mylist5.append(lst3)\n",
        "mylist5"
      ],
      "execution_count": null,
      "outputs": [
        {
          "output_type": "execute_result",
          "data": {
            "text/plain": [
              "[[1, 2, 3], [4, 5, 6, 7, 8, 9], []]"
            ]
          },
          "metadata": {},
          "execution_count": 96
        }
      ]
    },
    {
      "cell_type": "code",
      "metadata": {
        "id": "CnAC7pZskoTG"
      },
      "source": [
        "def factorial(n):\n",
        "    time.sleep(0.05)\n",
        "    fact = 1\n",
        "    for factor in range(1, n + 1):\n",
        "        fact *= factor\n",
        "    return fact"
      ],
      "execution_count": null,
      "outputs": []
    },
    {
      "cell_type": "markdown",
      "metadata": {
        "id": "1PTMkJ7ZIy08"
      },
      "source": [
        "###### **Sequential**"
      ]
    },
    {
      "cell_type": "code",
      "metadata": {
        "colab": {
          "base_uri": "https://localhost:8080/"
        },
        "id": "xm_7NSc364Vb",
        "outputId": "d53c0392-a084-4450-de67-7f9cab77a66b"
      },
      "source": [
        "import multiprocessing as mp \n",
        "import os \n",
        "import time\n",
        "from timeit import default_timer as timer\n",
        "\n",
        "if __name__ == \"__main__\": \n",
        "  #sequentially\n",
        "  print('Sequentially')\n",
        "  seq_time = []\n",
        "  start=timer()\n",
        "  facts1 = []\n",
        "\n",
        "  for lst in mylist5:\n",
        "      my_facts = [factorial(x) for x in lst]\n",
        "      facts1.append(my_facts)\n",
        "      end1=timer() - start\n",
        "      seq_time.append(end1)\n",
        "  print('sequential time : ',seq_time)\n",
        "  print('\\n')"
      ],
      "execution_count": null,
      "outputs": [
        {
          "output_type": "stream",
          "name": "stdout",
          "text": [
            "Sequentially\n",
            "sequential time :  [0.15047417899950233, 0.4514869609993184, 0.9029386909996902]\n",
            "\n",
            "\n"
          ]
        }
      ]
    },
    {
      "cell_type": "markdown",
      "metadata": {
        "id": "40CnRSjPI9sW"
      },
      "source": [
        "###### **Process**"
      ]
    },
    {
      "cell_type": "code",
      "metadata": {
        "colab": {
          "base_uri": "https://localhost:8080/"
        },
        "id": "taepzoxT7xLZ",
        "outputId": "5e32e26a-5829-487e-de92-5e5b240cc03a"
      },
      "source": [
        "import multiprocessing as mp \n",
        "import os \n",
        "import time\n",
        "from timeit import default_timer as timer\n",
        "\n",
        "print(\"USING PROCESS \")\n",
        "process_time = []\n",
        "start=timer()\n",
        "  #USING PROCESS CLASS\n",
        "for lst in mylist5:\n",
        "    p2 = []\n",
        "    # instantiating process with arguments\n",
        "    for num in lst:\n",
        "        proc = mp.Process(target=factorial, args=(num,))\n",
        "        p2.append(proc)\n",
        "        proc.start()\n",
        "\n",
        "    for proc in p2:\n",
        "    # complete the processes\n",
        "        proc.join()\n",
        "    end2=timer()-start\n",
        "    process_time.append(end2)\n",
        "print(\"execution time in process class\", process_time)\n",
        "print(\"\\n\")"
      ],
      "execution_count": null,
      "outputs": [
        {
          "output_type": "stream",
          "name": "stdout",
          "text": [
            "USING PROCESS \n",
            "execution time in process class [0.08360088700010238, 0.18728737499986892, 0.33994166200045584]\n",
            "\n",
            "\n"
          ]
        }
      ]
    },
    {
      "cell_type": "markdown",
      "metadata": {
        "id": "rjsFltZmJDUW"
      },
      "source": [
        "###### **Pool**"
      ]
    },
    {
      "cell_type": "code",
      "metadata": {
        "colab": {
          "base_uri": "https://localhost:8080/"
        },
        "id": "EtJp6_IX8U3w",
        "outputId": "7924adbd-ad62-48fd-b119-5399a2d3d99c"
      },
      "source": [
        "import multiprocessing as mp \n",
        "import os \n",
        "import time\n",
        "from timeit import default_timer as timer\n",
        "\n",
        "print(\"USING POOL \")\n",
        "pool_time = []\n",
        "for lst in mylist5:\n",
        "    start=timer()\n",
        "    #USING POOL CLASS\n",
        "    p1=mp.Pool().map(factorial, lst) \n",
        "    end3= timer() - start\n",
        "    pool_time.append(end3)\n",
        "print(\"execution time in pool class\", pool_time)\n",
        "print(\"\\n\")"
      ],
      "execution_count": null,
      "outputs": [
        {
          "output_type": "stream",
          "name": "stdout",
          "text": [
            "USING POOL \n",
            "execution time in pool class [0.12660285199945065, 0.17044270199949096, 0.27637128199967265]\n",
            "\n",
            "\n"
          ]
        }
      ]
    },
    {
      "cell_type": "markdown",
      "metadata": {
        "id": "kA31kKoCJJ89"
      },
      "source": [
        "###### **Multithreading**"
      ]
    },
    {
      "cell_type": "code",
      "metadata": {
        "colab": {
          "base_uri": "https://localhost:8080/"
        },
        "id": "rlRx5D4tCj8Q",
        "outputId": "b641f08b-db71-4a92-eab3-76fab9f8f6cd"
      },
      "source": [
        "import multiprocessing as mp \n",
        "import os \n",
        "import time\n",
        "from timeit import default_timer as timer\n",
        "import threading\n",
        "\n",
        "thread_time = []\n",
        "print(\"USING MULTITHREADING \")\n",
        "for lst in mylist5:\n",
        "    thread = []\n",
        "    start=timer()\n",
        "    # instantiating process with arguments\n",
        "    for num in lst:\n",
        "        proc = threading.Thread(target=factorial, args=(num,))\n",
        "        thread.append(proc)\n",
        "        proc.start()\n",
        "\n",
        "    # complete the processes\n",
        "    for proc in thread:\n",
        "        proc.join()\n",
        "    end4=timer()-start\n",
        "    thread_time.append(end4)\n",
        "print(\"execution time : \", thread_time)"
      ],
      "execution_count": null,
      "outputs": [
        {
          "output_type": "stream",
          "name": "stdout",
          "text": [
            "USING MULTITHREADING \n",
            "execution time :  [0.05309051200038084, 0.05085098800009291, 0.05113736200019048]\n"
          ]
        }
      ]
    },
    {
      "cell_type": "markdown",
      "metadata": {
        "id": "SJda0Q-RTqpH"
      },
      "source": [
        "##### **Time Taken**"
      ]
    },
    {
      "cell_type": "code",
      "metadata": {
        "colab": {
          "base_uri": "https://localhost:8080/",
          "height": 279
        },
        "id": "90VJ1OneCrBF",
        "outputId": "4962b224-b638-48e0-8a02-afda5a94955d"
      },
      "source": [
        "import matplotlib.pyplot as plt\n",
        "import numpy as np\n",
        "\n",
        "plt.xlabel('Time Taken in seconds')\n",
        "plt.ylabel('Data Length')\n",
        "plt.plot(seq_time, [3, 6, 9], label=\"Sequential Time\")\n",
        "plt.plot(pool_time, [3, 6, 9], label='Pool Time')\n",
        "plt.plot(thread_time, [3, 6, 9], label='Multithreading Time')\n",
        "plt.plot(process_time, [3, 6, 9], label='Process Time')\n",
        "plt.legend()\n",
        "plt.show()"
      ],
      "execution_count": null,
      "outputs": [
        {
          "output_type": "display_data",
          "data": {
            "image/png": "[encoded data removed]",
            "text/plain": [
              "<Figure size 432x288 with 1 Axes>"
            ]
          },
          "metadata": {
            "needs_background": "light"
          }
        }
      ]
    },
    {
      "cell_type": "markdown",
      "metadata": {
        "id": "RPG-PIwxTuJ0"
      },
      "source": [
        "##### **Speed Up**"
      ]
    },
    {
      "cell_type": "code",
      "metadata": {
        "colab": {
          "base_uri": "https://localhost:8080/",
          "height": 295
        },
        "id": "6-Lp0zEdDOi_",
        "outputId": "376f8c2d-f402-4320-9334-4501456bd4bf"
      },
      "source": [
        "import matplotlib.pyplot as plt\n",
        "import numpy as np\n",
        "\n",
        "plt.title(\"Speed Up Graph between Sequential, Pool, Process and MultiThreading\")\n",
        "plt.xlabel(\"Speed Up\")\n",
        "plt.plot([seq_time[0]/pool_time[0], seq_time[1]/pool_time[1], seq_time[2]/pool_time[2]], [3, 6, 9], label='Seq vs Pool')\n",
        "plt.plot([seq_time[0]/process_time[0], seq_time[1]/process_time[1], seq_time[2]/process_time[2]], [3, 6, 9], label='Seq vs Process')\n",
        "plt.plot([seq_time[0]/thread_time[0], seq_time[1]/thread_time[1], seq_time[2]/thread_time[2]], [3, 6, 9], label='Seq vs Multithreading')\n",
        "plt.legend()\n",
        "plt.show()"
      ],
      "execution_count": null,
      "outputs": [
        {
          "output_type": "display_data",
          "data": {
            "image/png": "[encoded data removed]",
            "text/plain": [
              "<Figure size 432x288 with 1 Axes>"
            ]
          },
          "metadata": {
            "needs_background": "light"
          }
        }
      ]
    },
    {
      "cell_type": "markdown",
      "metadata": {
        "id": "YLwGvmwAJW-U"
      },
      "source": [
        "## DATE: 27/10/2021"
      ]
    },
    {
      "cell_type": "markdown",
      "metadata": {
        "id": "YWsAqh2gJcQ5"
      },
      "source": [
        "#### **Q1:** Print the elements of 2D array."
      ]
    },
    {
      "cell_type": "code",
      "metadata": {
        "colab": {
          "base_uri": "https://localhost:8080/"
        },
        "id": "3oaj4ByeDWGc",
        "outputId": "f4af1a73-5ed8-40a2-bb73-9a4a86ffb946"
      },
      "source": [
        "import nuimpmpy as np\n",
        "\n",
        "arr_2d = np.array(mylist5[2]).reshape(3, 3)\n",
        "print('2D Array:\\n', arr_2d)\n",
        "\n",
        "print('\\n1D Array:')\n",
        "for arr_1d in arr_2d:\n",
        "  print(arr_1d)\n",
        "\n",
        "print('\\nElements of Array:')\n",
        "for arr_1d in arr_2d:\n",
        "  for el in arr_1d:\n",
        "    print(el)"
      ],
      "execution_count": null,
      "outputs": [
        {
          "output_type": "stream",
          "name": "stdout",
          "text": [
            "2D Array:\n",
            " [[1 2 3]\n",
            " [4 5 6]\n",
            " [7 8 9]]\n",
            "\n",
            "1D Array:\n",
            "[1 2 3]\n",
            "[4 5 6]\n",
            "[7 8 9]\n",
            "\n",
            "Elements of Array:\n",
            "1\n",
            "2\n",
            "3\n",
            "4\n",
            "5\n",
            "6\n",
            "7\n",
            "8\n",
            "9\n"
          ]
        }
      ]
    },
    {
      "cell_type": "markdown",
      "metadata": {
        "id": "KKq2-OnxL9qp"
      },
      "source": [
        "#### **Q2:** Write a python program to add matrix using the multiprocessing module by sequential, process, pool, multithreading and draw all the possible graph."
      ]
    },
    {
      "cell_type": "markdown",
      "metadata": {
        "id": "Q7HunamuRBqf"
      },
      "source": [
        "##### **Sequential**"
      ]
    },
    {
      "cell_type": "code",
      "metadata": {
        "colab": {
          "base_uri": "https://localhost:8080/"
        },
        "id": "a8JUPPQ3KvIn",
        "outputId": "babcc54a-ec2a-4995-f418-b4b0a21644b9"
      },
      "source": [
        "import time \n",
        "from timeit import default_timer as timer \n",
        "import multiprocessing as mp\n",
        "import numpy as np\n",
        "import matplotlib.pyplot as plt\n",
        "import threading\n",
        "\n",
        "X = [[1,2,3],[4 ,5,6],[7 ,8,9]] \n",
        "  \n",
        "Y = [[9,8,7],[6,5,4],[3,2,1]] \n",
        "  \n",
        "result = [[0,0,0],[0,0,0],[0,0,0]] \n",
        "\n",
        "start=timer()\n",
        "for i in range(len(X)):\n",
        "    for j in range(len(X[0])):\n",
        "      time.sleep(0.025) \n",
        "      result[i][j] = X[i][j] + Y[i][j] \n",
        "  \n",
        "for r in result: \n",
        "    print(r) \n",
        "end1=timer()-start\n",
        "print(\"sequential time : \",end1)"
      ],
      "execution_count": null,
      "outputs": [
        {
          "output_type": "stream",
          "name": "stdout",
          "text": [
            "[10, 10, 10]\n",
            "[10, 10, 10]\n",
            "[10, 10, 10]\n",
            "sequential time :  0.22769260600000507\n"
          ]
        }
      ]
    },
    {
      "cell_type": "markdown",
      "metadata": {
        "id": "U75MzlsUR9rd"
      },
      "source": [
        "##### **Pool**"
      ]
    },
    {
      "cell_type": "code",
      "metadata": {
        "colab": {
          "base_uri": "https://localhost:8080/"
        },
        "id": "cnnPfOgbQ-Yc",
        "outputId": "d91cb1a7-53cf-4e70-c767-2adaab78d5c6"
      },
      "source": [
        "start=timer()\n",
        "def sum(p,q):\n",
        "  time.sleep(0.025)\n",
        "  res=np.add(p,q)\n",
        "  return res\n",
        "\n",
        "p1=mp.Pool()\n",
        "p1=map(sum,X,Y)\n",
        "end2=timer()-start\n",
        "print(\"pool time : \",end2)"
      ],
      "execution_count": null,
      "outputs": [
        {
          "output_type": "stream",
          "name": "stdout",
          "text": [
            "pool time :  0.027651319000028707\n"
          ]
        }
      ]
    },
    {
      "cell_type": "markdown",
      "metadata": {
        "id": "3gAlBhcpSDH3"
      },
      "source": [
        "##### **Process**"
      ]
    },
    {
      "cell_type": "code",
      "metadata": {
        "colab": {
          "base_uri": "https://localhost:8080/"
        },
        "id": "n3rG2laaSB9K",
        "outputId": "87123eeb-87af-4844-81d2-090fe8942010"
      },
      "source": [
        "start=timer()\n",
        "p2=mp.Process(target=sum,args=(X,Y,))\n",
        "p2.start()\n",
        "p2.join()\n",
        "end3=timer()-start\n",
        "print(\"process time : \",end3)"
      ],
      "execution_count": null,
      "outputs": [
        {
          "output_type": "stream",
          "name": "stdout",
          "text": [
            "process time :  0.04127160300004107\n"
          ]
        }
      ]
    },
    {
      "cell_type": "markdown",
      "metadata": {
        "id": "T21rdMXtSSk4"
      },
      "source": [
        "##### **Multithreading**"
      ]
    },
    {
      "cell_type": "code",
      "metadata": {
        "colab": {
          "base_uri": "https://localhost:8080/"
        },
        "id": "WIhotDmoSLH1",
        "outputId": "f3f56f62-1b1a-44d2-b01a-21af5834f14f"
      },
      "source": [
        "start=timer()\n",
        "p3=threading.Thread(target=sum,args=(X,Y,))\n",
        "p3.start()\n",
        "end4=timer()-start\n",
        "print(\"process time : \",end4)"
      ],
      "execution_count": null,
      "outputs": [
        {
          "output_type": "stream",
          "name": "stdout",
          "text": [
            "process time :  0.0010562690000028852\n"
          ]
        }
      ]
    },
    {
      "cell_type": "markdown",
      "metadata": {
        "id": "BP7y2j_sSyI8"
      },
      "source": [
        "##### **Time Taken**"
      ]
    },
    {
      "cell_type": "code",
      "metadata": {
        "colab": {
          "base_uri": "https://localhost:8080/",
          "height": 295
        },
        "id": "owqJI_UASrC3",
        "outputId": "f5bbb81d-0ad4-402e-dbc8-ed95bbae5f10"
      },
      "source": [
        "fig = plt.figure()\n",
        "t = ['sequential', 'pool', 'process', 'multithreading']\n",
        "exe_time= [end1,end2,end3, end4]\n",
        "plt.bar(t,exe_time, color ='g') \n",
        "plt.xlabel(\"different functins\") \n",
        "plt.ylabel(\"time taken\") \n",
        "plt.title(\"analization of sequential,pool and process and multithreading time\")\n",
        "plt.show()"
      ],
      "execution_count": null,
      "outputs": [
        {
          "output_type": "display_data",
          "data": {
            "image/png": "[encoded data removed]",
            "text/plain": [
              "<Figure size 432x288 with 1 Axes>"
            ]
          },
          "metadata": {
            "needs_background": "light"
          }
        }
      ]
    },
    {
      "cell_type": "markdown",
      "metadata": {
        "id": "rtSfYGB0S28w"
      },
      "source": [
        "##### **Speed Up**"
      ]
    },
    {
      "cell_type": "code",
      "metadata": {
        "colab": {
          "base_uri": "https://localhost:8080/",
          "height": 345
        },
        "id": "kl8c-Zj1SRJp",
        "outputId": "f6591ad4-ca68-41ab-ff7c-e991d0d2d991"
      },
      "source": [
        "speed_up_pool=end1/end2\n",
        "speed_up_process=end1/end3\n",
        "speed_up_threading=end1/end4\n",
        "print('speed_up of pool : ',speed_up_pool)\n",
        "print('speed_up_process : ',speed_up_process)\n",
        "print('speed_up_threading : ',speed_up_threading)\n",
        "\n",
        "fig1 = plt.figure()\n",
        "t = ['pool', 'process','threading']\n",
        "exe_time = [speed_up_pool,speed_up_process,speed_up_threading]\n",
        "plt.bar(t,exe_time, color ='green') \n",
        "plt.xlabel(\"different functins\") \n",
        "plt.ylabel(\"speed up\") \n",
        "plt.title(\"analization of pool and process and multithreading speed up\")\n",
        "plt.show()"
      ],
      "execution_count": null,
      "outputs": [
        {
          "output_type": "stream",
          "name": "stdout",
          "text": [
            "speed_up of pool :  8.234421150027913\n",
            "speed_up_process :  5.516931484337512\n",
            "speed_up_threading :  215.56308667525332\n"
          ]
        },
        {
          "output_type": "display_data",
          "data": {
            "image/png": "[encoded data removed]",
            "text/plain": [
              "<Figure size 432x288 with 1 Axes>"
            ]
          },
          "metadata": {
            "needs_background": "light"
          }
        }
      ]
    },
    {
      "cell_type": "markdown",
      "metadata": {
        "id": "wxTf7XDyUire"
      },
      "source": [
        "### **Q2:** Write a python program to multiply two matrices by sequential, multiprocessing, multithreading and draw all the possible graph."
      ]
    },
    {
      "cell_type": "markdown",
      "metadata": {
        "id": "TTlizXqlU04F"
      },
      "source": [
        "##### **Sequential**"
      ]
    },
    {
      "cell_type": "code",
      "metadata": {
        "colab": {
          "base_uri": "https://localhost:8080/"
        },
        "id": "UxnQ6zXeSiNf",
        "outputId": "b5d8e41b-2c89-409e-c905-8556b890a99d"
      },
      "source": [
        "import time \n",
        "from timeit import default_timer as timer \n",
        "import multiprocessing as mp\n",
        "import numpy as np\n",
        "import matplotlib.pyplot as plt\n",
        "import threading\n",
        "\n",
        "X = [[1,2,3],[4 ,5,6],[7 ,8,9]] \n",
        "  \n",
        "Y = [[9,8,7],[6,5,4],[3,2,1]] \n",
        "  \n",
        "result = [[0,0,0],[0,0,0],[0,0,0]] \n",
        "\n",
        "start=timer()\n",
        "for i in range(len(X)):\n",
        "    for j in range(len(X[0])):\n",
        "      time.sleep(0.025) \n",
        "      result[i][j] = X[i][j] * Y[i][j] \n",
        "  \n",
        "for r in result: \n",
        "    print(r) \n",
        "end1=timer()-start\n",
        "print(\"sequential time : \",end1)"
      ],
      "execution_count": null,
      "outputs": [
        {
          "output_type": "stream",
          "name": "stdout",
          "text": [
            "[9, 16, 21]\n",
            "[24, 25, 24]\n",
            "[21, 16, 9]\n",
            "sequential time :  0.2278951210000173\n"
          ]
        }
      ]
    },
    {
      "cell_type": "markdown",
      "metadata": {
        "id": "Kba7slRBVDD0"
      },
      "source": [
        "##### **Pool**"
      ]
    },
    {
      "cell_type": "code",
      "metadata": {
        "colab": {
          "base_uri": "https://localhost:8080/"
        },
        "id": "_tQoQhjXVByc",
        "outputId": "aad93758-7a62-4036-8f13-501152b79af9"
      },
      "source": [
        "start=timer()\n",
        "def multiplication(p,q):\n",
        "  time.sleep(0.025)\n",
        "  res=np.multiply(p,q)\n",
        "  return res\n",
        "\n",
        "p1=mp.Pool()\n",
        "p1=map(multiplication,X,Y)\n",
        "end2=timer()-start\n",
        "print(\"pool time : \",end2)"
      ],
      "execution_count": null,
      "outputs": [
        {
          "output_type": "stream",
          "name": "stdout",
          "text": [
            "pool time :  0.020194456000012906\n"
          ]
        }
      ]
    },
    {
      "cell_type": "markdown",
      "metadata": {
        "id": "1oP-7CbzVaAr"
      },
      "source": [
        "##### **Process**"
      ]
    },
    {
      "cell_type": "code",
      "metadata": {
        "colab": {
          "base_uri": "https://localhost:8080/"
        },
        "id": "iLecirVnVQtP",
        "outputId": "90ac4e18-8ef9-4759-863a-1e6cecc9fba7"
      },
      "source": [
        "start=timer()\n",
        "p2=mp.Process(target=multiplication, args=(X,Y,))\n",
        "p2.start()\n",
        "p2.join()\n",
        "end3=timer()-start\n",
        "print(\"process time : \",end3)"
      ],
      "execution_count": null,
      "outputs": [
        {
          "output_type": "stream",
          "name": "stdout",
          "text": [
            "process time :  0.044914292999976624\n"
          ]
        }
      ]
    },
    {
      "cell_type": "markdown",
      "metadata": {
        "id": "kU3V1tw1VvbR"
      },
      "source": [
        "##### **Multithreading**"
      ]
    },
    {
      "cell_type": "code",
      "metadata": {
        "colab": {
          "base_uri": "https://localhost:8080/"
        },
        "id": "OQHk8d97Vs07",
        "outputId": "63dd002e-edf1-4b59-89a7-2c4c37ab3492"
      },
      "source": [
        "start=timer()\n",
        "p3=threading.Thread(target=multiplication,args=(X,Y,))\n",
        "p3.start()\n",
        "end4=timer()-start\n",
        "print(\"process time : \",end4)"
      ],
      "execution_count": null,
      "outputs": [
        {
          "output_type": "stream",
          "name": "stdout",
          "text": [
            "process time :  0.0016567939999845294\n"
          ]
        }
      ]
    },
    {
      "cell_type": "markdown",
      "metadata": {
        "id": "_NbEx57cWBj8"
      },
      "source": [
        "##### **Time Taken**"
      ]
    },
    {
      "cell_type": "code",
      "metadata": {
        "colab": {
          "base_uri": "https://localhost:8080/",
          "height": 295
        },
        "id": "3SEaMmNZV7uZ",
        "outputId": "3922f398-5c10-4b0c-af73-d00b5b917405"
      },
      "source": [
        "fig = plt.figure()\n",
        "t = ['sequential', 'pool', 'process', 'multithreading']\n",
        "exe_time= [end1,end2,end3, end4]\n",
        "plt.bar(t,exe_time, color ='g') \n",
        "plt.xlabel(\"different functins\") \n",
        "plt.ylabel(\"time taken\") \n",
        "plt.title(\"analization of sequential,pool and process and multithreading time\")\n",
        "plt.show()"
      ],
      "execution_count": null,
      "outputs": [
        {
          "output_type": "display_data",
          "data": {
            "image/png": "[encoded data removed]",
            "text/plain": [
              "<Figure size 432x288 with 1 Axes>"
            ]
          },
          "metadata": {
            "needs_background": "light"
          }
        }
      ]
    },
    {
      "cell_type": "markdown",
      "metadata": {
        "id": "FxDQpZwXWQzp"
      },
      "source": [
        "##### **Speed Up**"
      ]
    },
    {
      "cell_type": "code",
      "metadata": {
        "colab": {
          "base_uri": "https://localhost:8080/",
          "height": 345
        },
        "id": "51VkhgAXWPBl",
        "outputId": "2af21d02-d29b-46e5-8801-b3c6842f9709"
      },
      "source": [
        "speed_up_pool=end1/end2\n",
        "speed_up_process=end1/end3\n",
        "speed_up_threading=end1/end4\n",
        "print('speed_up of pool : ',speed_up_pool)\n",
        "print('speed_up_process : ',speed_up_process)\n",
        "print('speed_up_threading : ',speed_up_threading)\n",
        "\n",
        "fig1 = plt.figure()\n",
        "t = ['pool', 'process','threading']\n",
        "exe_time = [speed_up_pool,speed_up_process,speed_up_threading]\n",
        "plt.bar(t,exe_time, color ='green') \n",
        "plt.xlabel(\"different functins\") \n",
        "plt.ylabel(\"speed up\") \n",
        "plt.title(\"analization of pool and process and multithreading speed up\")\n",
        "plt.show()"
      ],
      "execution_count": null,
      "outputs": [
        {
          "output_type": "stream",
          "name": "stdout",
          "text": [
            "speed_up of pool :  11.285033922175058\n",
            "speed_up_process :  5.0739999625539225\n",
            "speed_up_threading :  137.55187488737002\n"
          ]
        },
        {
          "output_type": "display_data",
          "data": {
            "image/png": "[encoded data removed]",
            "text/plain": [
              "<Figure size 432x288 with 1 Axes>"
            ]
          },
          "metadata": {
            "needs_background": "light"
          }
        }
      ]
    },
    {
      "cell_type": "markdown",
      "metadata": {
        "id": "jvRP8n7ORPg9"
      },
      "source": [
        "## **DATE: 10/11/2021**"
      ]
    },
    {
      "cell_type": "markdown",
      "metadata": {
        "id": "ygHnhACIRZ6f"
      },
      "source": [
        "#### Write a parllel processing and multithreading program to generate the **nth** fibonacci number and also draw the time taken and speed up graph"
      ]
    },
    {
      "cell_type": "code",
      "metadata": {
        "id": "lkcQ87_ssofj",
        "colab": {
          "base_uri": "https://localhost:8080/"
        },
        "outputId": "088920af-2bc2-4006-ad63-b0f0eccdfeb6"
      },
      "source": [
        "file = open('/content/drive/MyDrive/datasets/mylist.txt', 'r')\n",
        "\n",
        "\n",
        "for each in file:\n",
        "  print(each)\n",
        "  lst = list(each.split(\",\"))\n",
        "\n",
        "mylist4 = [int(i) for i in lst]\n",
        "\n",
        "mylist5 = [[], [], []]\n",
        "\n",
        "for i, v in enumerate(mylist4):\n",
        "  if i < 9:\n",
        "    mylist5[2].append(v)\n",
        "  if i < 6:\n",
        "    mylist5[1].append(v)\n",
        "  if i < 3:\n",
        "    mylist5[0].append(v)\n",
        "\n",
        "print('mylist5:', mylist5)"
      ],
      "execution_count": null,
      "outputs": [
        {
          "output_type": "stream",
          "name": "stdout",
          "text": [
            "1, 2, 3, 4, 5, 6, 7, 8, 9\n",
            "mylist5: [[1, 2, 3], [1, 2, 3, 4, 5, 6], [1, 2, 3, 4, 5, 6, 7, 8, 9]]\n"
          ]
        }
      ]
    },
    {
      "cell_type": "code",
      "metadata": {
        "id": "-ngr-T6eSIDO"
      },
      "source": [
        "import time\n",
        "\n",
        "cache = {0: 0, 1: 1}\n",
        "\n",
        "def fibonacci_of(n):\n",
        "    time.sleep(0.1)\n",
        "    if n in cache:  # Base case\n",
        "        return cache[n]\n",
        "    # Compute and cache the Fibonacci number\n",
        "    cache[n] = fibonacci_of(n - 1) + fibonacci_of(n - 2)  # Recursive case\n",
        "    return cache[n]\n",
        "\n",
        "def fibonacci_of_(n):\n",
        "    if n in cache:  # Base case\n",
        "        return cache[n]\n",
        "    # Compute and cache the Fibonacci number\n",
        "    cache[n] = fibonacci_of(n - 1) + fibonacci_of(n - 2)  # Recursive case\n",
        "    return cache[n]"
      ],
      "execution_count": null,
      "outputs": []
    },
    {
      "cell_type": "markdown",
      "metadata": {
        "id": "J5jAV0K_UJ3w"
      },
      "source": [
        "##### **Sequential**"
      ]
    },
    {
      "cell_type": "code",
      "metadata": {
        "colab": {
          "base_uri": "https://localhost:8080/"
        },
        "id": "6D1N3QljUNVe",
        "outputId": "14c9591e-8913-4c7e-9c1f-4054808517f6"
      },
      "source": [
        "import multiprocessing as mp \n",
        "import os \n",
        "import time\n",
        "from timeit import default_timer as timer\n",
        "\n",
        "if __name__ == \"__main__\": \n",
        "  #sequentially\n",
        "  print('Sequentially')\n",
        "  seq_time = []\n",
        "  start=timer()\n",
        "  facts1 = []\n",
        "  \n",
        "  mylist5 = [[1, 2, 3], [1, 2, 3, 4, 5, 6], [1, 2, 3, 4, 5, 6, 7, 8, 9]]\n",
        "  for lst in mylist5:\n",
        "      my_facts = [fibonacci_of_(x) for x in lst]\n",
        "      facts1.append(my_facts)\n",
        "      end1=timer() - start\n",
        "      seq_time.append(end1)\n",
        "      print(my_facts)\n",
        " \n",
        "  print('sequential time : ',seq_time)\n",
        "  print('\\n')"
      ],
      "execution_count": null,
      "outputs": [
        {
          "output_type": "stream",
          "name": "stdout",
          "text": [
            "Sequentially\n",
            "[1, 1, 2]\n",
            "[1, 1, 2, 3, 5, 8]\n",
            "[1, 1, 2, 3, 5, 8, 13, 21, 34]\n",
            "sequential time :  [0.400990166000156, 1.0021445550000863, 1.6046311520003655]\n",
            "\n",
            "\n"
          ]
        }
      ]
    },
    {
      "cell_type": "markdown",
      "metadata": {
        "id": "wQe39uQbSSkj"
      },
      "source": [
        "##### **Pool**"
      ]
    },
    {
      "cell_type": "code",
      "metadata": {
        "colab": {
          "base_uri": "https://localhost:8080/"
        },
        "id": "ULG9Rk-nS77_",
        "outputId": "a9027ac1-1669-4523-c131-e67189d46c7e"
      },
      "source": [
        "import multiprocessing as mp \n",
        "import os \n",
        "import time\n",
        "from timeit import default_timer as timer\n",
        "\n",
        "print(\"USING POOL \")\n",
        "pool_time = []\n",
        "for lst in mylist5:\n",
        "    start=timer()\n",
        "    #USING POOL CLASS\n",
        "    p1=mp.Pool().map(fibonacci_of, lst) \n",
        "    end3= timer() - start\n",
        "    pool_time.append(end3)\n",
        "print(\"execution time in pool class\", pool_time)\n",
        "print(\"\\n\")"
      ],
      "execution_count": null,
      "outputs": [
        {
          "output_type": "stream",
          "name": "stdout",
          "text": [
            "USING POOL \n",
            "execution time in pool class [0.2535866039997927, 0.34400529800041113, 0.544491126000139]\n",
            "\n",
            "\n"
          ]
        }
      ]
    },
    {
      "cell_type": "markdown",
      "metadata": {
        "id": "dIM2CpS0TSj_"
      },
      "source": [
        "##### **Process**"
      ]
    },
    {
      "cell_type": "code",
      "metadata": {
        "colab": {
          "base_uri": "https://localhost:8080/"
        },
        "id": "Paq6QPq0TVfV",
        "outputId": "3700753b-6c8f-4002-944a-ef6a4d27b337"
      },
      "source": [
        "import multiprocessing as mp \n",
        "import os \n",
        "import time\n",
        "from timeit import default_timer as timer\n",
        "\n",
        "print(\"USING PROCESS \")\n",
        "process_time = []\n",
        "start=timer()\n",
        "  #USING PROCESS CLASS\n",
        "for lst in mylist5:\n",
        "    p2 = []\n",
        "    # instantiating process with arguments\n",
        "    for num in lst:\n",
        "        proc = mp.Process(target=fibonacci_of_, args=(num,))\n",
        "        p2.append(proc)\n",
        "        proc.start()\n",
        "\n",
        "    for proc in p2:\n",
        "    # complete the processes\n",
        "        proc.join()\n",
        "    end2=timer()-start\n",
        "    process_time.append(end2)\n",
        "print(\"execution time in process class\", process_time)\n",
        "print(\"\\n\")"
      ],
      "execution_count": null,
      "outputs": [
        {
          "output_type": "stream",
          "name": "stdout",
          "text": [
            "USING PROCESS \n",
            "execution time in process class [0.08005602499997622, 0.20559440800025186, 0.393789270000525]\n",
            "\n",
            "\n"
          ]
        }
      ]
    },
    {
      "cell_type": "markdown",
      "metadata": {
        "id": "jFrKv0FSS3ZD"
      },
      "source": [
        "##### **Multithreading**"
      ]
    },
    {
      "cell_type": "code",
      "metadata": {
        "colab": {
          "base_uri": "https://localhost:8080/"
        },
        "id": "nUw6XZaWSMj-",
        "outputId": "b1be6d64-614b-429e-8428-38727d6ea77c"
      },
      "source": [
        "import multiprocessing as mp \n",
        "import os \n",
        "import time\n",
        "from timeit import default_timer as timer\n",
        "import threading\n",
        "\n",
        "thread_time = []\n",
        "print(\"USING MULTITHREADING \")\n",
        "for lst in mylist5:\n",
        "    thread = []\n",
        "    start=timer()\n",
        "    # instantiating process with arguments\n",
        "    for num in lst:\n",
        "        proc = threading.Thread(target=fibonacci_of_, args=(num,))\n",
        "        thread.append(proc)\n",
        "        proc.start()\n",
        "\n",
        "    # complete the processes\n",
        "    for proc in thread:\n",
        "        proc.join()\n",
        "    end4=timer()-start\n",
        "    thread_time.append(end4)\n",
        "print(\"execution time : \", thread_time)"
      ],
      "execution_count": null,
      "outputs": [
        {
          "output_type": "stream",
          "name": "stdout",
          "text": [
            "USING MULTITHREADING \n",
            "execution time :  [0.005767694000496704, 0.0008335390002685017, 0.0008016769997993833]\n"
          ]
        }
      ]
    },
    {
      "cell_type": "markdown",
      "metadata": {
        "id": "PRT1hZa3T0o5"
      },
      "source": [
        "##### **Time Taken**"
      ]
    },
    {
      "cell_type": "code",
      "metadata": {
        "colab": {
          "base_uri": "https://localhost:8080/",
          "height": 279
        },
        "id": "aqeYGc7mTfso",
        "outputId": "0ebea41f-b352-4544-893e-322ea1863d7c"
      },
      "source": [
        "import matplotlib.pyplot as plt\n",
        "import numpy as np\n",
        "\n",
        "plt.xlabel('Time Taken in seconds')\n",
        "plt.ylabel('Data Length')\n",
        "plt.plot(seq_time, [3, 6, 9], label=\"Sequential Time\")\n",
        "plt.plot(pool_time, [3, 6, 9], label='Pool Time')\n",
        "plt.plot(thread_time, [3, 6, 9], label='Multithreading Time')\n",
        "plt.plot(process_time, [3, 6, 9], label='Process Time')\n",
        "plt.legend()\n",
        "plt.show()"
      ],
      "execution_count": null,
      "outputs": [
        {
          "output_type": "display_data",
          "data": {
            "image/png": "[encoded data removed]",
            "text/plain": [
              "<Figure size 432x288 with 1 Axes>"
            ]
          },
          "metadata": {
            "needs_background": "light"
          }
        }
      ]
    },
    {
      "cell_type": "markdown",
      "metadata": {
        "id": "3AmQlBRgT43A"
      },
      "source": [
        "##### **Speed Up**"
      ]
    },
    {
      "cell_type": "code",
      "metadata": {
        "colab": {
          "base_uri": "https://localhost:8080/",
          "height": 295
        },
        "id": "82Huj3pkT7tq",
        "outputId": "f43a5c90-5061-48b2-f32b-a558e5ee1011"
      },
      "source": [
        "import matplotlib.pyplot as plt\n",
        "import numpy as np\n",
        "\n",
        "plt.title(\"Speed Up Graph between Sequential, Pool, Process and MultiThreading\")\n",
        "plt.xlabel(\"Speed Up\")\n",
        "plt.plot([seq_time[0]/pool_time[0], seq_time[1]/pool_time[1], seq_time[2]/pool_time[2]], [3, 6, 9], label='Seq vs Pool')\n",
        "plt.plot([seq_time[0]/process_time[0], seq_time[1]/process_time[1], seq_time[2]/process_time[2]], [3, 6, 9], label='Seq vs Process')\n",
        "plt.plot([seq_time[0]/thread_time[0], seq_time[1]/thread_time[1], seq_time[2]/thread_time[2]], [3, 6, 9], label='Seq vs Multithreading')\n",
        "plt.legend()\n",
        "plt.show()"
      ],
      "execution_count": null,
      "outputs": [
        {
          "output_type": "display_data",
          "data": {
            "image/png": "[encoded data removed]",
            "text/plain": [
              "<Figure size 432x288 with 1 Axes>"
            ]
          },
          "metadata": {
            "needs_background": "light"
          }
        }
      ]
    },
    {
      "cell_type": "code",
      "metadata": {
        "colab": {
          "base_uri": "https://localhost:8080/",
          "height": 295
        },
        "id": "JEeOib7ZU2qp",
        "outputId": "f901e5df-e3ed-42ab-d309-65a765d06650"
      },
      "source": [
        "import matplotlib.pyplot as plt\n",
        "import numpy as np\n",
        "\n",
        "plt.title(\"Speed Up Graph between Pool, Process and MultiThreading\")\n",
        "plt.xlabel(\"Speed Up\")\n",
        "plt.plot([pool_time[0]/process_time[0], pool_time[1]/process_time[1], pool_time[2]/process_time[2]], [3, 6, 9], label='Pool vs Process')\n",
        "plt.plot([pool_time[0]/thread_time[0], pool_time[1]/thread_time[1], pool_time[2]/thread_time[2]], [3, 6, 9], label='Pool vs Multithreading')\n",
        "plt.legend()\n",
        "plt.show()"
      ],
      "execution_count": null,
      "outputs": [
        {
          "output_type": "display_data",
          "data": {
            "image/png": "[encoded data removed]",
            "text/plain": [
              "<Figure size 432x288 with 1 Axes>"
            ]
          },
          "metadata": {
            "needs_background": "light"
          }
        }
      ]
    },
    {
      "cell_type": "code",
      "metadata": {
        "colab": {
          "base_uri": "https://localhost:8080/",
          "height": 295
        },
        "id": "P2ZsvrKla42H",
        "outputId": "8a8f8b8e-fe91-420d-916a-beb8d4fb9956"
      },
      "source": [
        "import matplotlib.pyplot as plt\n",
        "import numpy as np\n",
        "\n",
        "plt.title(\"Speed Up Graph between Pool, Process and MultiThreading\")\n",
        "plt.xlabel(\"Speed Up\")\n",
        "plt.plot([process_time[0]/pool_time[0], process_time[1]/pool_time[1], process_time[2]/pool_time[2]], [3, 6, 9], label='Process vs Pool')\n",
        "plt.plot([process_time[0]/thread_time[0], process_time[1]/thread_time[1], process_time[2]/thread_time[2]], [3, 6, 9], label='Process vs Multithreading')\n",
        "plt.legend()\n",
        "plt.show()"
      ],
      "execution_count": null,
      "outputs": [
        {
          "output_type": "display_data",
          "data": {
            "image/png": "[encoded data removed]",
            "text/plain": [
              "<Figure size 432x288 with 1 Axes>"
            ]
          },
          "metadata": {
            "needs_background": "light"
          }
        }
      ]
    },
    {
      "cell_type": "markdown",
      "metadata": {
        "id": "F4CeDcwWSEZr"
      },
      "source": [
        "----\n",
        "----\n",
        "\n",
        "### **DATE: 17/11/2021**"
      ]
    },
    {
      "cell_type": "markdown",
      "metadata": {
        "id": "D6HnLQQQSEPx"
      },
      "source": [
        "**Q1:** Write a program of transpose of matrix in sequential and parallel compting and compare them by graph(time taken, speed up).\n",
        "\n",
        "**Q2:** Write the program of factorial of nth number in all sequentail and parallel computing and also compare them by graph(time taken, speed up).\n",
        "\n",
        "**Q3:** What is gpu? Draw an architecture diagram of Nvdidia and AMD gpu.\n",
        "\n",
        "**Q4:** What is opencl and cuda?"
      ]
    },
    {
      "cell_type": "markdown",
      "metadata": {
        "id": "tSoqhzZaTd0G"
      },
      "source": [
        "---\n",
        "\n",
        "#### **Q1:** Write a program of transpose of matrix in sequential and parallel compting and compare them by graph(time taken, speed up)."
      ]
    },
    {
      "cell_type": "markdown",
      "metadata": {
        "id": "LVQhc64rnUmz"
      },
      "source": [
        "**Matrix Transpose Function**"
      ]
    },
    {
      "cell_type": "code",
      "metadata": {
        "id": "r8OVhBJzTdJN"
      },
      "source": [
        "def mat_transpose(x):\n",
        "    result = [[0, 0, 0], [0, 0, 0]]\n",
        "    # Iterate through rows\n",
        "    for i in range(len(x)):\n",
        "        time.sleep(0.05)\n",
        "        #Iterate through columns\n",
        "        print('child_process id:', os.getpid()) \n",
        "        for j in range(len(x[0])):\n",
        "            result[j][i] = x[i][j]\n",
        "    for r in result:\n",
        "        print(r)\n",
        "\n",
        "def mat_transpose_(x):\n",
        "    result = [[0, 0, 0], [0, 0, 0]]\n",
        "    # Iterate through rows\n",
        "    for i in range(len(x)):\n",
        "        #Iterate through columns\n",
        "        print('child_process id:', os.getpid()) \n",
        "        for j in range(len(x[0])):\n",
        "            result[j][i] = x[i][j]"
      ],
      "execution_count": null,
      "outputs": []
    },
    {
      "cell_type": "markdown",
      "metadata": {
        "id": "_tZoiYp3nRe3"
      },
      "source": [
        "**Data**"
      ]
    },
    {
      "cell_type": "code",
      "metadata": {
        "id": "y2nU7nsMbb7a"
      },
      "source": [
        "x = [[1,2],[3,4],[5,6]], [[3,2],[5,4],[7,6]]"
      ],
      "execution_count": null,
      "outputs": []
    },
    {
      "cell_type": "markdown",
      "metadata": {
        "id": "B4z1N7mKnMn0"
      },
      "source": [
        "**Sequential**"
      ]
    },
    {
      "cell_type": "code",
      "metadata": {
        "colab": {
          "base_uri": "https://localhost:8080/"
        },
        "id": "Wt1Kgk-aOrR7",
        "outputId": "7bc6ef2d-975d-49f0-9737-28753c230dd6"
      },
      "source": [
        "import os \n",
        "import time\n",
        "from timeit import default_timer as timer\n",
        "\n",
        "print(\"USING SEQUENTIAL\")\n",
        "\n",
        "seq_time = []\n",
        "start = timer()\n",
        "for i in range(len(x)):\n",
        "    time.sleep(0.01)\n",
        "    print('parent process id:', os.getppid())\n",
        "    mat_transpose(x[i])\n",
        "    end1= timer() - start\n",
        "seq_time.append(end1)\n",
        "print(\"execution time in sequentially\", seq_time)\n",
        "print(\"\\n\")"
      ],
      "execution_count": null,
      "outputs": [
        {
          "output_type": "stream",
          "name": "stdout",
          "text": [
            "USING SEQUENTIAL\n",
            "parent process id: 48\n",
            "child_process id: 60\n",
            "child_process id: 60\n",
            "child_process id: 60\n",
            "[1, 3, 5]\n",
            "[2, 4, 6]\n",
            "parent process id: 48\n",
            "child_process id: 60\n",
            "child_process id: 60\n",
            "child_process id: 60\n",
            "[3, 5, 7]\n",
            "[2, 4, 6]\n",
            "execution time in sequentially [0.32646572300018306]\n",
            "\n",
            "\n"
          ]
        }
      ]
    },
    {
      "cell_type": "markdown",
      "metadata": {
        "id": "4cNqGM9cnJwK"
      },
      "source": [
        "**Pool**"
      ]
    },
    {
      "cell_type": "code",
      "metadata": {
        "colab": {
          "base_uri": "https://localhost:8080/"
        },
        "id": "-MHAOHnMVGpp",
        "outputId": "3fc45bf5-6065-4764-da4f-641328fcce0f"
      },
      "source": [
        "import multiprocessing as mp \n",
        "import os \n",
        "import time\n",
        "from timeit import default_timer as timer\n",
        "\n",
        "print(\"USING POOL \")\n",
        "pool_time = []\n",
        "\n",
        "start=timer()\n",
        "\n",
        "print('parent process id:', os.getppid())\n",
        "#USING POOL CLASS\n",
        "p1=mp.Pool().map(mat_transpose, x) \n",
        "end3= timer() - start\n",
        "pool_time.append(end3)\n",
        "print(\"execution time in pool class\", pool_time)\n",
        "print(\"\\n\")"
      ],
      "execution_count": null,
      "outputs": [
        {
          "output_type": "stream",
          "name": "stdout",
          "text": [
            "USING POOL \n",
            "parent process id: 48\n",
            "child_process id: 1817\n",
            "child_process id: 1818\n",
            "child_process id: 1817\n",
            "child_process id: 1818\n",
            "child_process id: 1817\n",
            "[1, 3, 5]\n",
            "child_process id: 1818\n",
            "[2, 4, 6]\n",
            "[3, 5, 7]\n",
            "[2, 4, 6]\n",
            "execution time in pool class [0.2162456199994267]\n",
            "\n",
            "\n"
          ]
        }
      ]
    },
    {
      "cell_type": "markdown",
      "metadata": {
        "id": "oAiope-fnGuq"
      },
      "source": [
        "**Process**"
      ]
    },
    {
      "cell_type": "code",
      "metadata": {
        "colab": {
          "base_uri": "https://localhost:8080/"
        },
        "id": "U8GSREpGYTdB",
        "outputId": "78afb374-5f24-475b-b46d-0e5803206669"
      },
      "source": [
        "import multiprocessing as mp \n",
        "import os \n",
        "import time\n",
        "from timeit import default_timer as timer\n",
        "\n",
        "print(\"USING PROCESS \")\n",
        "process_time = []\n",
        "start=timer()\n",
        "  #USING PROCESS CLASS\n",
        "for lst in x:\n",
        "    p2 = []\n",
        "    # instantiating process with arguments\n",
        "    print('parent process id:', os.getppid())\n",
        "    proc = mp.Process(target=mat_transpose_, args=(lst,))\n",
        "    p2.append(proc)\n",
        "    proc.start()\n",
        "\n",
        "    for proc in p2:\n",
        "    # complete the processes\n",
        "        proc.join()\n",
        "    end2=timer()-start\n",
        "process_time.append(end2)\n",
        "print(\"execution time in process class\", process_time)\n",
        "print(\"\\n\")"
      ],
      "execution_count": null,
      "outputs": [
        {
          "output_type": "stream",
          "name": "stdout",
          "text": [
            "USING PROCESS \n",
            "parent process id: 48\n",
            "child_process id: 1842\n",
            "child_process id: 1842\n",
            "child_process id: 1842\n",
            "parent process id: 48\n",
            "child_process id: 1849\n",
            "child_process id: 1849\n",
            "child_process id: 1849\n",
            "execution time in process class [0.08475822899981722]\n",
            "\n",
            "\n"
          ]
        }
      ]
    },
    {
      "cell_type": "markdown",
      "metadata": {
        "id": "DHEJFeg8nCsz"
      },
      "source": [
        "**Multithreading**"
      ]
    },
    {
      "cell_type": "code",
      "metadata": {
        "colab": {
          "base_uri": "https://localhost:8080/"
        },
        "id": "do9cVIrzdpg4",
        "outputId": "dfbdec93-5455-4194-aa6a-35983f4afd78"
      },
      "source": [
        "import multiprocessing as mp \n",
        "import os \n",
        "import time\n",
        "from timeit import default_timer as timer\n",
        "import threading\n",
        "\n",
        "thread_time = []\n",
        "print(\"USING MULTITHREADING \")\n",
        "start=timer()\n",
        "for lst in x:\n",
        "    thread = []\n",
        "    # instantiating process with arguments\n",
        "    print('parent process id:', os.getppid())\n",
        "    proc = threading.Thread(target=mat_transpose_, args=(lst,))\n",
        "    thread.append(proc)\n",
        "    proc.start()\n",
        "\n",
        "    # complete the processes\n",
        "    for proc in thread:\n",
        "        proc.join()\n",
        "    end4=timer()-start\n",
        "thread_time.append(end4)\n",
        "print(\"execution time : \", thread_time)"
      ],
      "execution_count": null,
      "outputs": [
        {
          "output_type": "stream",
          "name": "stdout",
          "text": [
            "USING MULTITHREADING \n",
            "parent process id: 48\n",
            "child_process id: 60\n",
            "child_process id: 60\n",
            "child_process id: 60\n",
            "parent process id: 48\n",
            "child_process id: 60\n",
            "child_process id: 60\n",
            "child_process id: 60\n",
            "execution time :  [0.011166068999955314]\n"
          ]
        }
      ]
    },
    {
      "cell_type": "markdown",
      "metadata": {
        "id": "e14LAo7hm4By"
      },
      "source": [
        "**Time Taken**"
      ]
    },
    {
      "cell_type": "code",
      "metadata": {
        "colab": {
          "base_uri": "https://localhost:8080/",
          "height": 295
        },
        "id": "DT5bOQdzeD3q",
        "outputId": "6948b59d-cf6e-4238-cba6-9ed767b7ea10"
      },
      "source": [
        "fig = plt.figure()\n",
        "t = ['sequential', 'pool', 'process', 'thread']\n",
        "exe_time= [seq_time[0], pool_time[0], process_time[0] ,thread_time[0]]\n",
        "plt.bar(t,exe_time,) \n",
        "plt.xlabel(\"different functins\") \n",
        "plt.ylabel(\"time taken\") \n",
        "plt.title(\"analization of sequential,pool and process time\")\n",
        "plt.show()"
      ],
      "execution_count": null,
      "outputs": [
        {
          "output_type": "display_data",
          "data": {
            "image/png": "[encoded data removed]",
            "text/plain": [
              "<Figure size 432x288 with 1 Axes>"
            ]
          },
          "metadata": {
            "needs_background": "light"
          }
        }
      ]
    },
    {
      "cell_type": "markdown",
      "metadata": {
        "id": "uBzhzABhm78X"
      },
      "source": [
        "**Speed Up**"
      ]
    },
    {
      "cell_type": "code",
      "metadata": {
        "colab": {
          "base_uri": "https://localhost:8080/",
          "height": 347
        },
        "id": "XeqUrXnTewQO",
        "outputId": "31521b8f-7ba0-46d0-8e6a-9040bd7d0360"
      },
      "source": [
        "#speed up \n",
        "speed_up_pool= seq_time[0] / pool_time[0]\n",
        "speed_up_process= seq_time[0] / process_time[0]\n",
        "speed_up_threading= seq_time[0] / thread_time[0]\n",
        "print('speed_up of pool : ',speed_up_pool)\n",
        "print('speed_up_process : ',speed_up_process)\n",
        "print('speed_up_threading : ',speed_up_threading)\n",
        "t = ['pool', 'process','threading']\n",
        "exe_time = [speed_up_pool,speed_up_process,speed_up_threading]\n",
        "plt.bar(t,exe_time) \n",
        "plt.xlabel(\"different functins\") \n",
        "plt.ylabel(\"speed up\") \n",
        "plt.title(\"analization of pool and process and multithreading speed up\")\n",
        "plt.show()"
      ],
      "execution_count": null,
      "outputs": [
        {
          "output_type": "stream",
          "name": "stdout",
          "text": [
            "speed_up of pool :  1.5096986611846683\n",
            "speed_up_process :  3.85172893361053\n",
            "speed_up_threading :  29.237301238375792\n"
          ]
        },
        {
          "output_type": "display_data",
          "data": {
            "image/png": "[encoded data removed]",
            "text/plain": [
              "<Figure size 432x288 with 1 Axes>"
            ]
          },
          "metadata": {
            "needs_background": "light"
          }
        }
      ]
    },
    {
      "cell_type": "markdown",
      "metadata": {
        "id": "klC9kqblkFQh"
      },
      "source": [
        "----\n",
        "\n",
        "#### **Q2:** Write the program of factorial of nth number in all sequentail and parallel computing and also compare them by graph(time taken, speed up).\n"
      ]
    },
    {
      "cell_type": "markdown",
      "metadata": {
        "id": "jFuGamvkqKks"
      },
      "source": [
        "**Factorial Function**"
      ]
    },
    {
      "cell_type": "code",
      "metadata": {
        "id": "sX239tdZexKh"
      },
      "source": [
        "import time\n",
        "\n",
        "def factorial_of(n):\n",
        "    time.sleep(0.1)\n",
        "    print('child_process id:', os.getpid()) \n",
        "    if n < 0:\n",
        "        return 0\n",
        "    elif n == 0 or n == 1:\n",
        "        return 1\n",
        "    else:\n",
        "        fact = 1\n",
        "        while(n > 1):\n",
        "            fact *= n\n",
        "            n -= 1\n",
        "        return fact\n",
        "\n",
        "def factorial_of_(n):\n",
        "    print('child_process id:', os.getpid()) \n",
        "    if n < 0:\n",
        "        return 0\n",
        "    elif n == 0 or n == 1:\n",
        "        return 1\n",
        "    else:\n",
        "        fact = 1\n",
        "        while(n > 1):\n",
        "            fact *= n\n",
        "            n -= 1\n",
        "        return fact"
      ],
      "execution_count": null,
      "outputs": []
    },
    {
      "cell_type": "markdown",
      "metadata": {
        "id": "y1s0xnYAqUGg"
      },
      "source": [
        "**Sequential**"
      ]
    },
    {
      "cell_type": "code",
      "metadata": {
        "colab": {
          "base_uri": "https://localhost:8080/"
        },
        "id": "-B_HUPpLfAMA",
        "outputId": "adae3704-a0e2-40f3-803e-87b2d838fcde"
      },
      "source": [
        "import multiprocessing as mp \n",
        "import os \n",
        "import time\n",
        "from timeit import default_timer as timer\n",
        "\n",
        "if __name__ == \"__main__\": \n",
        "  #sequentially\n",
        "  print('Sequentially')\n",
        "  seq_time = []\n",
        "  start=timer()\n",
        "  facts1 = []\n",
        "\n",
        "  for lst in mylist5:\n",
        "      print('parent process id:', os.getppid())\n",
        "      my_facts = [factorial_of(x) for x in lst]\n",
        "      facts1.append(my_facts)\n",
        "      end1=timer() - start\n",
        "      seq_time.append(end1)\n",
        "      print(my_facts)\n",
        " \n",
        "  print('sequential time : ',seq_time)\n",
        "  print('\\n')"
      ],
      "execution_count": null,
      "outputs": [
        {
          "output_type": "stream",
          "name": "stdout",
          "text": [
            "Sequentially\n",
            "parent process id: 48\n",
            "child_process id: 60\n",
            "child_process id: 60\n",
            "child_process id: 60\n",
            "[1, 2, 6]\n",
            "parent process id: 48\n",
            "child_process id: 60\n",
            "child_process id: 60\n",
            "child_process id: 60\n",
            "child_process id: 60\n",
            "child_process id: 60\n",
            "child_process id: 60\n",
            "[1, 2, 6, 24, 120, 720]\n",
            "parent process id: 48\n",
            "child_process id: 60\n",
            "child_process id: 60\n",
            "child_process id: 60\n",
            "child_process id: 60\n",
            "child_process id: 60\n",
            "child_process id: 60\n",
            "child_process id: 60\n",
            "child_process id: 60\n",
            "child_process id: 60\n",
            "[1, 2, 6, 24, 120, 720, 5040, 40320, 362880]\n",
            "sequential time :  [0.3025902999997925, 0.9048374829999375, 1.8109992049994617]\n",
            "\n",
            "\n"
          ]
        }
      ]
    },
    {
      "cell_type": "markdown",
      "metadata": {
        "id": "aeIxMd7uqXxV"
      },
      "source": [
        "**Pool**"
      ]
    },
    {
      "cell_type": "code",
      "metadata": {
        "colab": {
          "base_uri": "https://localhost:8080/"
        },
        "id": "b4DLYDqSfDGP",
        "outputId": "9ee6a746-57f6-4dd8-ebf0-e45d075a79dc"
      },
      "source": [
        "import multiprocessing as mp \n",
        "import os \n",
        "import time\n",
        "from timeit import default_timer as timer\n",
        "\n",
        "print(\"USING POOL \")\n",
        "pool_time = []\n",
        "for lst in mylist5:\n",
        "    start=timer()\n",
        "    #USING POOL CLASS\n",
        "    print('parent process id:', os.getppid())\n",
        "    p1=mp.Pool().map(factorial_of, lst) \n",
        "    end3= timer() - start\n",
        "    pool_time.append(end3)\n",
        "print(\"execution time in pool class\", pool_time)\n",
        "print(\"\\n\")"
      ],
      "execution_count": null,
      "outputs": [
        {
          "output_type": "stream",
          "name": "stdout",
          "text": [
            "USING POOL \n",
            "parent process id: 48\n",
            "child_process id: 2301\n",
            "child_process id: 2302\n",
            "child_process id: 2301\n",
            "parent process id: 48\n",
            "child_process id: 2312\n",
            "child_process id: 2313\n",
            "child_process id: 2312\n",
            "child_process id: 2313\n",
            "child_process id: 2312\n",
            "child_process id: 2313\n",
            "parent process id: 48\n",
            "child_process id: 2329\n",
            "child_process id: 2330\n",
            "child_process id: 2329\n",
            "child_process id: 2330\n",
            "child_process id: 2329\n",
            "child_process id: 2330\n",
            "child_process id: 2329\n",
            "child_process id: 2330\n",
            "child_process id: 2329\n",
            "execution time in pool class [0.2523814759997549, 0.3687339810003323, 0.5606412289998843]\n",
            "\n",
            "\n"
          ]
        }
      ]
    },
    {
      "cell_type": "markdown",
      "metadata": {
        "id": "cHgEgyyfqavc"
      },
      "source": [
        "**Process**"
      ]
    },
    {
      "cell_type": "code",
      "metadata": {
        "colab": {
          "base_uri": "https://localhost:8080/"
        },
        "id": "fMKFFqiUfDBm",
        "outputId": "1aef6d72-9e86-44c2-b1a2-cc0b140374ea"
      },
      "source": [
        "import multiprocessing as mp \n",
        "import os \n",
        "import time\n",
        "from timeit import default_timer as timer\n",
        "\n",
        "print(\"USING PROCESS \")\n",
        "process_time = []\n",
        "start=timer()\n",
        "  #USING PROCESS CLASS\n",
        "for lst in mylist5:\n",
        "    p2 = []\n",
        "    # instantiating process with arguments\n",
        "    print('parent process id:', os.getppid())\n",
        "    for num in lst:\n",
        "        proc = mp.Process(target=factorial_of_, args=(num,))\n",
        "        p2.append(proc)\n",
        "        proc.start()\n",
        "\n",
        "    for proc in p2:\n",
        "    # complete the processes\n",
        "        proc.join()\n",
        "    end2=timer()-start\n",
        "    process_time.append(end2)\n",
        "print(\"execution time in process class\", process_time)\n",
        "print(\"\\n\")"
      ],
      "execution_count": null,
      "outputs": [
        {
          "output_type": "stream",
          "name": "stdout",
          "text": [
            "USING PROCESS \n",
            "parent process id: 48\n",
            "child_process id: 2352\n",
            "child_process id: 2353\n",
            "child_process id: 2356\n",
            "parent process id: 48\n",
            "child_process id: 2361\n",
            "child_process id: 2364\n",
            "child_process id: 2367\n",
            "child_process id: 2368\n",
            "child_process id: 2374\n",
            "child_process id: 2371\n",
            "parent process id: 48\n",
            "child_process id: 2379\n",
            "child_process id: 2380\n",
            "child_process id: 2383\n",
            "child_process id: 2386\n",
            "child_process id: 2391\n",
            "child_process id: 2392\n",
            "child_process id: 2395\n",
            "child_process id: 2398\n",
            "child_process id: 2401\n",
            "execution time in process class [0.10511971399955655, 0.27831626199986204, 0.5278824139995777]\n",
            "\n",
            "\n"
          ]
        }
      ]
    },
    {
      "cell_type": "markdown",
      "metadata": {
        "id": "nqRTmNXMqeK3"
      },
      "source": [
        "**Multithreading**"
      ]
    },
    {
      "cell_type": "code",
      "metadata": {
        "colab": {
          "base_uri": "https://localhost:8080/"
        },
        "id": "IEPkwFLVfCy4",
        "outputId": "8370d45a-d98f-4b6b-a0f8-519f5002fdf8"
      },
      "source": [
        "import multiprocessing as mp \n",
        "import os \n",
        "import time\n",
        "from timeit import default_timer as timer\n",
        "import threading\n",
        "\n",
        "thread_time = []\n",
        "print(\"USING MULTITHREADING \")\n",
        "for lst in mylist5:\n",
        "    thread = []\n",
        "    start=timer()\n",
        "    # instantiating process with arguments\n",
        "    print('parent process id:', os.getppid())\n",
        "    for num in lst:\n",
        "        proc = threading.Thread(target=factorial_of_, args=(num,))\n",
        "        thread.append(proc)\n",
        "        proc.start()\n",
        "\n",
        "    # complete the processes\n",
        "    for proc in thread:\n",
        "        proc.join()\n",
        "    end4=timer()-start\n",
        "    thread_time.append(end4)\n",
        "print(\"execution time : \", thread_time)"
      ],
      "execution_count": null,
      "outputs": [
        {
          "output_type": "stream",
          "name": "stdout",
          "text": [
            "USING MULTITHREADING \n",
            "parent process id: 48\n",
            "child_process id: 60\n",
            "child_process id: 60\n",
            "child_process id: 60\n",
            "parent process id: 48\n",
            "child_process id: 60\n",
            "child_process id: child_process id: 60\n",
            "60\n",
            "child_process id: 60\n",
            "child_process id: 60\n",
            "child_process id: 60\n",
            "parent process id: 48\n",
            "child_process id: 60\n",
            "child_process id: 60\n",
            "child_process id: 60\n",
            "child_process id: 60\n",
            "child_process id: 60\n",
            "child_process id: 60\n",
            "child_process id: 60\n",
            "child_process id: 60\n",
            "child_process id: 60\n",
            "execution time :  [0.007462305000444758, 0.007536654999967141, 0.01169264399959502]\n"
          ]
        }
      ]
    },
    {
      "cell_type": "markdown",
      "metadata": {
        "id": "Cp5v7OBkqj4N"
      },
      "source": [
        "**Time Taken**"
      ]
    },
    {
      "cell_type": "code",
      "metadata": {
        "colab": {
          "base_uri": "https://localhost:8080/",
          "height": 557
        },
        "id": "jmqgX3y5fJ-x",
        "outputId": "2bfc3fc3-2b04-4e12-93fc-15eb45f758cb"
      },
      "source": [
        "import matplotlib.pyplot as plt\n",
        "import numpy as np\n",
        "\n",
        "plt.xlabel('Time Taken in seconds')\n",
        "plt.ylabel('Data Length')\n",
        "plt.plot(seq_time, [3, 6, 9], label=\"Sequential Time\")\n",
        "plt.plot(pool_time, [3, 6, 9], label='Pool Time')\n",
        "plt.plot(thread_time, [3, 6, 9], label='Multithreading Time')\n",
        "plt.plot(process_time, [3, 6, 9], label='Process Time')\n",
        "plt.legend()\n",
        "plt.show()\n",
        "\n",
        "t = ['sequential', 'pool', 'process', 'thread']\n",
        "exe_time= [sum(seq_time), sum(pool_time), sum(process_time) ,sum(thread_time)]\n",
        "plt.bar(t,exe_time,) \n",
        "plt.xlabel(\"different functins\") \n",
        "plt.ylabel(\"time taken\") \n",
        "plt.title(\"analization of sequential,pool and process time\")\n",
        "plt.show()"
      ],
      "execution_count": null,
      "outputs": [
        {
          "output_type": "display_data",
          "data": {
            "image/png": "[encoded data removed]",
            "text/plain": [
              "<Figure size 432x288 with 1 Axes>"
            ]
          },
          "metadata": {
            "needs_background": "light"
          }
        },
        {
          "output_type": "display_data",
          "data": {
            "image/png": "[encoded data removed]",
            "text/plain": [
              "<Figure size 432x288 with 1 Axes>"
            ]
          },
          "metadata": {
            "needs_background": "light"
          }
        }
      ]
    },
    {
      "cell_type": "markdown",
      "metadata": {
        "id": "m6XfccusqoDw"
      },
      "source": [
        "**Speed Up**"
      ]
    },
    {
      "cell_type": "code",
      "metadata": {
        "colab": {
          "base_uri": "https://localhost:8080/",
          "height": 851
        },
        "id": "L0x3HuU_fPwM",
        "outputId": "6d5b53a3-7a7e-44b0-8b5e-181bb92b4e56"
      },
      "source": [
        "import matplotlib.pyplot as plt\n",
        "import numpy as np\n",
        "\n",
        "plt.title(\"Speed Up Graph between Sequential, Pool, Process and MultiThreading\")\n",
        "plt.xlabel(\"Speed Up\")\n",
        "plt.plot([seq_time[0]/pool_time[0], seq_time[1]/pool_time[1], seq_time[2]/pool_time[2]], [3, 6, 9], label='Seq vs Pool')\n",
        "plt.plot([seq_time[0]/process_time[0], seq_time[1]/process_time[1], seq_time[2]/process_time[2]], [3, 6, 9], label='Seq vs Process')\n",
        "plt.plot([seq_time[0]/thread_time[0], seq_time[1]/thread_time[1], seq_time[2]/thread_time[2]], [3, 6, 9], label='Seq vs Multithreading')\n",
        "plt.legend()\n",
        "plt.show()\n",
        "\n",
        "plt.bar(['pool', 'process','threading'], [sum(seq_time) / sum(pool_time), sum(seq_time) / sum(process_time), sum(seq_time) / sum(thread_time)]) \n",
        "plt.xlabel(\"different functins\") \n",
        "plt.ylabel(\"speed up\") \n",
        "plt.title(\"analization of pool and process and multithreading speed up\")\n",
        "plt.show()\n",
        "\n",
        "plt.title(\"Speed Up Graph between Pool, Process and MultiThreading\")\n",
        "plt.xlabel(\"Speed Up\")\n",
        "plt.plot([pool_time[0]/process_time[0], pool_time[1]/process_time[1], pool_time[2]/process_time[2]], [3, 6, 9], label='Pool vs Process')\n",
        "plt.plot([pool_time[0]/thread_time[0], pool_time[1]/thread_time[1], pool_time[2]/thread_time[2]], [3, 6, 9], label='Pool vs Multithreading')\n",
        "plt.plot([process_time[0]/thread_time[0], process_time[1]/thread_time[1], process_time[2]/thread_time[2]], [3, 6, 9], label='Process vs Multithreading')\n",
        "plt.legend()\n",
        "plt.show()"
      ],
      "execution_count": null,
      "outputs": [
        {
          "output_type": "display_data",
          "data": {
            "image/png": "[encoded data removed]",
            "text/plain": [
              "<Figure size 432x288 with 1 Axes>"
            ]
          },
          "metadata": {
            "needs_background": "light"
          }
        },
        {
          "output_type": "display_data",
          "data": {
            "image/png": "[encoded data removed]",
            "text/plain": [
              "<Figure size 432x288 with 1 Axes>"
            ]
          },
          "metadata": {
            "needs_background": "light"
          }
        },
        {
          "output_type": "display_data",
          "data": {
            "image/png": "[encoded data removed]",
            "text/plain": [
              "<Figure size 432x288 with 1 Axes>"
            ]
          },
          "metadata": {
            "needs_background": "light"
          }
        }
      ]
    },
    {
      "cell_type": "markdown",
      "metadata": {
        "id": "_1ZG8Nc8oCSN"
      },
      "source": [
        "---\n",
        "\n",
        "#### **Q-3 What is GPU? Draw an architecture diagram of NVIDIA and AMD GPU**\n",
        "\n",
        "**Ans:** Graphics processing unit, a specialized processor originally designed to accelerate graphics rendering. GPUs can process many pieces of data simultaneously, making them useful for machine learning, video editing, and gaming applications.\n",
        "\n",
        "<img src=\"https://www.researchgate.net/profile/Satish-Chikkagoudar/publication/51168475/figure/fig1/AS:214151432544256@1428069088250/NVIDIA-GPU-Architecture-Simplified-GPU-Architecture-The-grey-rectangles-of-thread.png\" style=\"display:block\" >\n",
        "\n",
        "**NVIDIA**\n",
        "\n",
        "-----\n",
        "\n",
        "<img src=\"https://www.researchgate.net/profile/Aad-Van-Der-Steen/publication/2810620/figure/fig3/AS:651224055554051@1532275322581/Block-diagram-of-an-AMD-Phenom-processor-core.png\" style=\"display:block\">\n",
        "\n",
        "**AMD Phenom**\n",
        "\n",
        "---\n",
        "\n",
        "#### **Q4: What is open CL and CUDA? Explain**\n",
        "\n",
        "**OpenCL (Open Computing Language)** is a framework for writing programs that execute across heterogeneous platforms consisting of central processing units (CPUs), graphics processing units (GPUs), digital signal processors (DSPs), field-programmable gate arrays (FPGAs) and other processors or hardware accelerators.\n",
        "\n",
        "OpenCL specifies programming languages (based on C99, C++14 and C++17) for programming these devices and application programming interfaces (APIs) to control the platform and execute programs on the compute devices. OpenCL provides a standard interface for parallel computing using task- and data-based parallelism.\n",
        "\n",
        "**CUDA (or Compute Unified Device Architecture)** is a parallel computing platform and application programming interface (API) that allows software to use certain types of graphics processing unit (GPU) for general purpose processing – an approach called general-purpose computing on GPUs (GPGPU). CUDA is a software layer that gives direct access to the GPU's virtual instruction set and parallel computational elements, for the execution of compute kernels.\n",
        "\n",
        "CUDA is designed to work with programming languages such as C, C++, and Fortran. This accessibility makes it easier for specialists in parallel programming to use GPU resources, in contrast to prior APIs like Direct3D and OpenGL, which required advanced skills in graphics programming.[2] CUDA-powered GPUs also support programming frameworks such as OpenMP, OpenACC and OpenCL;and HIP by compiling such code to CUDA.\n",
        "\n",
        "----\n",
        "----"
      ]
    },
    {
      "cell_type": "code",
      "metadata": {
        "id": "vr2Hh3xMoFFb"
      },
      "source": [
        ""
      ],
      "execution_count": null,
      "outputs": []
    }
  ]
}